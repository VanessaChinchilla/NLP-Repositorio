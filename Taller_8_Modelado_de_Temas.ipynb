{
  "nbformat": 4,
  "nbformat_minor": 0,
  "metadata": {
    "kernelspec": {
      "display_name": "Python 3",
      "language": "python",
      "name": "python3"
    },
    "language_info": {
      "codemirror_mode": {
        "name": "ipython",
        "version": 3
      },
      "file_extension": ".py",
      "mimetype": "text/x-python",
      "name": "python",
      "nbconvert_exporter": "python",
      "pygments_lexer": "ipython3",
      "version": "3.7.4"
    },
    "colab": {
      "name": "Taller 8 - Modelado de Temas.ipynb",
      "provenance": []
    }
  },
  "cells": [
    {
      "cell_type": "markdown",
      "metadata": {
        "id": "9fTvudMyQ9WB"
      },
      "source": [
        "<img src='https://encrypted-tbn0.gstatic.com/images?q=tbn%3AANd9GcQ-VfNtOyJbsaxu43Kztf_cv1mgBG6ZIQZEVw&usqp=CAU'>\n",
        "\n",
        "# Procesamiento de Lenguage Natural\n",
        "\n",
        "## Taller #8: Modelado de temas\n",
        "`Fecha de entrega: 🎃 Octubre 31, 2020. (Antes del inicio de la próxima clase).`\n",
        "\n",
        "`Modo de entrega: Subir link de GitHub al aula virtual.`"
      ]
    },
    {
      "cell_type": "code",
      "metadata": {
        "id": "gg8FbByWQ9WC"
      },
      "source": [
        "import re\n",
        "import pandas as pd \n",
        "import numpy as np\n",
        "from pprint import pprint\n",
        "import nltk\n",
        "from nltk.corpus import stopwords\n",
        "stopwords = stopwords.words('spanish')\n",
        "#!pip install pyLDAvis\n",
        "import pyLDAvis.gensim\n",
        "from gensim.models import LdaModel\n",
        "from gensim.corpora import Dictionary\n",
        "\n",
        "import warnings\n",
        "warnings.filterwarnings(\"ignore\", category=DeprecationWarning)"
      ],
      "execution_count": 14,
      "outputs": []
    },
    {
      "cell_type": "code",
      "metadata": {
        "id": "Ze_9nqsBRP3q",
        "outputId": "766249c2-d741-49bc-f6d6-85f1a933d2de",
        "colab": {
          "resources": {
            "http://localhost:8080/nbextensions/google.colab/files.js": {
              "data": "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",
              "ok": true,
              "headers": [
                [
                  "content-type",
                  "application/javascript"
                ]
              ],
              "status": 200,
              "status_text": ""
            }
          },
          "base_uri": "https://localhost:8080/",
          "height": 89
        }
      },
      "source": [
        "from google.colab import files\n",
        "\n",
        "uploaded = files.upload()\n",
        "\n",
        "for fn in uploaded.keys():\n",
        "  print('User uploaded file \"{name}\" with length {length} bytes'.format(\n",
        "      name=fn, length=len(uploaded[fn])))"
      ],
      "execution_count": 11,
      "outputs": [
        {
          "output_type": "display_data",
          "data": {
            "text/html": [
              "\n",
              "     <input type=\"file\" id=\"files-1b4af28f-17fd-499d-ac91-f3e2848805e9\" name=\"files[]\" multiple disabled\n",
              "        style=\"border:none\" />\n",
              "     <output id=\"result-1b4af28f-17fd-499d-ac91-f3e2848805e9\">\n",
              "      Upload widget is only available when the cell has been executed in the\n",
              "      current browser session. Please rerun this cell to enable.\n",
              "      </output>\n",
              "      <script src=\"/nbextensions/google.colab/files.js\"></script> "
            ],
            "text/plain": [
              "<IPython.core.display.HTML object>"
            ]
          },
          "metadata": {
            "tags": []
          }
        },
        {
          "output_type": "stream",
          "text": [
            "Saving reviews_vidjew_es.csv to reviews_vidjew_es.csv\n",
            "User uploaded file \"reviews_vidjew_es.csv\" with length 232489 bytes\n"
          ],
          "name": "stdout"
        }
      ]
    },
    {
      "cell_type": "code",
      "metadata": {
        "id": "5jXx7pzhQ9WE",
        "outputId": "f311b00a-cb37-4545-fba7-4e05551b5c1b",
        "colab": {
          "base_uri": "https://localhost:8080/",
          "height": 479
        }
      },
      "source": [
        "# Cargar datos\n",
        "path = 'reviews_vidjew_es.csv'\n",
        "data = pd.read_csv(path)\n",
        "data.head()"
      ],
      "execution_count": 12,
      "outputs": [
        {
          "output_type": "execute_result",
          "data": {
            "text/html": [
              "<div>\n",
              "<style scoped>\n",
              "    .dataframe tbody tr th:only-of-type {\n",
              "        vertical-align: middle;\n",
              "    }\n",
              "\n",
              "    .dataframe tbody tr th {\n",
              "        vertical-align: top;\n",
              "    }\n",
              "\n",
              "    .dataframe thead th {\n",
              "        text-align: right;\n",
              "    }\n",
              "</style>\n",
              "<table border=\"1\" class=\"dataframe\">\n",
              "  <thead>\n",
              "    <tr style=\"text-align: right;\">\n",
              "      <th></th>\n",
              "      <th>review_id</th>\n",
              "      <th>product_id</th>\n",
              "      <th>reviewer_id</th>\n",
              "      <th>stars</th>\n",
              "      <th>review_body</th>\n",
              "      <th>review_title</th>\n",
              "      <th>language</th>\n",
              "      <th>product_category</th>\n",
              "    </tr>\n",
              "  </thead>\n",
              "  <tbody>\n",
              "    <tr>\n",
              "      <th>0</th>\n",
              "      <td>es_0825565</td>\n",
              "      <td>product_es_0370490</td>\n",
              "      <td>reviewer_es_0174781</td>\n",
              "      <td>3</td>\n",
              "      <td>Buen. Buena calidad, y buena presentación.</td>\n",
              "      <td>Contenta</td>\n",
              "      <td>es</td>\n",
              "      <td>jewelry</td>\n",
              "    </tr>\n",
              "    <tr>\n",
              "      <th>1</th>\n",
              "      <td>es_0227934</td>\n",
              "      <td>product_es_0354224</td>\n",
              "      <td>reviewer_es_0411613</td>\n",
              "      <td>3</td>\n",
              "      <td>Un producto a perfecto, para salir de casa con...</td>\n",
              "      <td>Versatilidad</td>\n",
              "      <td>es</td>\n",
              "      <td>video_games</td>\n",
              "    </tr>\n",
              "    <tr>\n",
              "      <th>2</th>\n",
              "      <td>es_0468601</td>\n",
              "      <td>product_es_0665460</td>\n",
              "      <td>reviewer_es_0348315</td>\n",
              "      <td>1</td>\n",
              "      <td>No funciona con Nintendo Switch. No hay forma ...</td>\n",
              "      <td>Decepción absoluta</td>\n",
              "      <td>es</td>\n",
              "      <td>video_games</td>\n",
              "    </tr>\n",
              "    <tr>\n",
              "      <th>3</th>\n",
              "      <td>es_0814494</td>\n",
              "      <td>product_es_0692692</td>\n",
              "      <td>reviewer_es_0951508</td>\n",
              "      <td>5</td>\n",
              "      <td>Recomendado, los utilizo para pc y no me dan n...</td>\n",
              "      <td>Auriculares Pecham ps4</td>\n",
              "      <td>es</td>\n",
              "      <td>video_games</td>\n",
              "    </tr>\n",
              "    <tr>\n",
              "      <th>4</th>\n",
              "      <td>es_0206329</td>\n",
              "      <td>product_es_0728826</td>\n",
              "      <td>reviewer_es_0493255</td>\n",
              "      <td>4</td>\n",
              "      <td>El cable funciona bien podria ser un poco mas ...</td>\n",
              "      <td>Perfecto</td>\n",
              "      <td>es</td>\n",
              "      <td>video_games</td>\n",
              "    </tr>\n",
              "  </tbody>\n",
              "</table>\n",
              "</div>"
            ],
            "text/plain": [
              "    review_id          product_id  ... language  product_category\n",
              "0  es_0825565  product_es_0370490  ...       es           jewelry\n",
              "1  es_0227934  product_es_0354224  ...       es       video_games\n",
              "2  es_0468601  product_es_0665460  ...       es       video_games\n",
              "3  es_0814494  product_es_0692692  ...       es       video_games\n",
              "4  es_0206329  product_es_0728826  ...       es       video_games\n",
              "\n",
              "[5 rows x 8 columns]"
            ]
          },
          "metadata": {
            "tags": []
          },
          "execution_count": 12
        }
      ]
    },
    {
      "cell_type": "markdown",
      "metadata": {
        "id": "nxXW1IWbQ9WH"
      },
      "source": [
        "###  `[12 pts]` Punto 1: Hacer pre-procesamiento del texto"
      ]
    },
    {
      "cell_type": "code",
      "metadata": {
        "id": "7K3R4Cg9Q9WH",
        "outputId": "2bc6a441-7445-4d90-8445-38d25aad769b",
        "colab": {
          "base_uri": "https://localhost:8080/",
          "height": 383
        }
      },
      "source": [
        "\n",
        "def pre_procesado(texto):\n",
        "    texto = texto.lower()\n",
        "    texto = re.sub(r\"[\\W\\d_]+\", \" \", texto)\n",
        "    texto = [palabra for palabra in texto.split() if palabra not in stopwords]\n",
        "    return texto\n",
        "\n",
        "data['Pre-Processed'] = data['review_body'].apply(lambda texto: pre_procesado(texto))\n",
        "data.head(3)\n"
      ],
      "execution_count": 20,
      "outputs": [
        {
          "output_type": "execute_result",
          "data": {
            "text/html": [
              "<div>\n",
              "<style scoped>\n",
              "    .dataframe tbody tr th:only-of-type {\n",
              "        vertical-align: middle;\n",
              "    }\n",
              "\n",
              "    .dataframe tbody tr th {\n",
              "        vertical-align: top;\n",
              "    }\n",
              "\n",
              "    .dataframe thead th {\n",
              "        text-align: right;\n",
              "    }\n",
              "</style>\n",
              "<table border=\"1\" class=\"dataframe\">\n",
              "  <thead>\n",
              "    <tr style=\"text-align: right;\">\n",
              "      <th></th>\n",
              "      <th>review_id</th>\n",
              "      <th>product_id</th>\n",
              "      <th>reviewer_id</th>\n",
              "      <th>stars</th>\n",
              "      <th>review_body</th>\n",
              "      <th>review_title</th>\n",
              "      <th>language</th>\n",
              "      <th>product_category</th>\n",
              "      <th>P_P</th>\n",
              "      <th>Pre-Processed</th>\n",
              "    </tr>\n",
              "  </thead>\n",
              "  <tbody>\n",
              "    <tr>\n",
              "      <th>0</th>\n",
              "      <td>es_0825565</td>\n",
              "      <td>product_es_0370490</td>\n",
              "      <td>reviewer_es_0174781</td>\n",
              "      <td>3</td>\n",
              "      <td>Buen. Buena calidad, y buena presentación.</td>\n",
              "      <td>Contenta</td>\n",
              "      <td>es</td>\n",
              "      <td>jewelry</td>\n",
              "      <td>[buen, buena, calidad, buena, presentación]</td>\n",
              "      <td>[buen, buena, calidad, buena, presentación]</td>\n",
              "    </tr>\n",
              "    <tr>\n",
              "      <th>1</th>\n",
              "      <td>es_0227934</td>\n",
              "      <td>product_es_0354224</td>\n",
              "      <td>reviewer_es_0411613</td>\n",
              "      <td>3</td>\n",
              "      <td>Un producto a perfecto, para salir de casa con...</td>\n",
              "      <td>Versatilidad</td>\n",
              "      <td>es</td>\n",
              "      <td>video_games</td>\n",
              "      <td>[producto, perfecto, salir, casa, nintendo, sw...</td>\n",
              "      <td>[producto, perfecto, salir, casa, nintendo, sw...</td>\n",
              "    </tr>\n",
              "    <tr>\n",
              "      <th>2</th>\n",
              "      <td>es_0468601</td>\n",
              "      <td>product_es_0665460</td>\n",
              "      <td>reviewer_es_0348315</td>\n",
              "      <td>1</td>\n",
              "      <td>No funciona con Nintendo Switch. No hay forma ...</td>\n",
              "      <td>Decepción absoluta</td>\n",
              "      <td>es</td>\n",
              "      <td>video_games</td>\n",
              "      <td>[funciona, nintendo, switch, forma, emparejarl...</td>\n",
              "      <td>[funciona, nintendo, switch, forma, emparejarl...</td>\n",
              "    </tr>\n",
              "  </tbody>\n",
              "</table>\n",
              "</div>"
            ],
            "text/plain": [
              "    review_id  ...                                      Pre-Processed\n",
              "0  es_0825565  ...        [buen, buena, calidad, buena, presentación]\n",
              "1  es_0227934  ...  [producto, perfecto, salir, casa, nintendo, sw...\n",
              "2  es_0468601  ...  [funciona, nintendo, switch, forma, emparejarl...\n",
              "\n",
              "[3 rows x 10 columns]"
            ]
          },
          "metadata": {
            "tags": []
          },
          "execution_count": 20
        }
      ]
    },
    {
      "cell_type": "markdown",
      "metadata": {
        "id": "MQXfJjU4Q9WK"
      },
      "source": [
        "###  `[13 pts]` Punto 2: Modelo de LDA"
      ]
    },
    {
      "cell_type": "code",
      "metadata": {
        "id": "i1dwgKr0Q9WK"
      },
      "source": [
        "# Crear una representación de los documentos en forma de diccionario\n",
        "dictionary = Dictionary(data['Pre-Processed'].values)\n",
        "\n",
        "# Filtrar palabras muy frecuentes o infrecuentes\n",
        "dictionary.filter_extremes(no_below=5, no_above=0.5)\n",
        "\n",
        "corpus = [dictionary.doc2bow(text) for text in data['Pre-Processed'].values]\n",
        "\n",
        "#Train the topic model\n",
        "model = LdaModel(corpus=corpus, random_state=1234, id2word=dictionary, num_topics=7, passes=40)"
      ],
      "execution_count": 22,
      "outputs": []
    },
    {
      "cell_type": "markdown",
      "metadata": {
        "id": "_EQCAyFLQ9WM"
      },
      "source": [
        "###  `[25 pts]` Punto 3: Visualización de LDA"
      ]
    },
    {
      "cell_type": "code",
      "metadata": {
        "id": "-UR7bpyHQ9WN",
        "outputId": "e177cf87-4b03-4b9a-a684-44b11ee0506b",
        "colab": {
          "base_uri": "https://localhost:8080/"
        }
      },
      "source": [
        "pprint(model.print_topics(num_words=10))"
      ],
      "execution_count": 23,
      "outputs": [
        {
          "output_type": "stream",
          "text": [
            "[(0,\n",
            "  '0.031*\"llegó\" + 0.028*\"tiempo\" + 0.027*\"pedido\" + 0.021*\"igual\" + '\n",
            "  '0.020*\"perfecto\" + 0.019*\"ve\" + 0.017*\"artículo\" + 0.016*\"va\" + '\n",
            "  '0.016*\"bien\" + 0.015*\"cadena\"'),\n",
            " (1,\n",
            "  '0.061*\"bien\" + 0.036*\"bonito\" + 0.031*\"calidad\" + 0.026*\"precio\" + '\n",
            "  '0.020*\"regalo\" + 0.019*\"parece\" + 0.018*\"aunque\" + 0.017*\"bastante\" + '\n",
            "  '0.014*\"colgante\" + 0.014*\"tamaño\"'),\n",
            " (2,\n",
            "  '0.038*\"producto\" + 0.034*\"pulsera\" + 0.032*\"llegado\" + 0.031*\"día\" + '\n",
            "  '0.023*\"bonita\" + 0.018*\"si\" + 0.017*\"plata\" + 0.014*\"nunca\" + 0.013*\"q\" + '\n",
            "  '0.011*\"regalo\"'),\n",
            " (3,\n",
            "  '0.084*\"calidad\" + 0.060*\"precio\" + 0.058*\"buena\" + 0.040*\"buen\" + '\n",
            "  '0.025*\"bueno\" + 0.022*\"puede\" + 0.017*\"entrega\" + 0.015*\"mala\" + '\n",
            "  '0.014*\"sonido\" + 0.014*\"diseño\"'),\n",
            " (4,\n",
            "  '0.040*\"mando\" + 0.039*\"si\" + 0.035*\"bien\" + 0.024*\"ps\" + 0.020*\"original\" + '\n",
            "  '0.019*\"mejor\" + 0.019*\"juegos\" + 0.018*\"switch\" + 0.015*\"solo\" + '\n",
            "  '0.015*\"nintendo\"'),\n",
            " (5,\n",
            "  '0.038*\"juego\" + 0.027*\"mas\" + 0.026*\"perfecto\" + 0.020*\"gracias\" + '\n",
            "  '0.020*\"jugar\" + 0.016*\"gustado\" + 0.016*\"gusta\" + 0.015*\"producto\" + '\n",
            "  '0.013*\"tener\" + 0.012*\"devolver\"'),\n",
            " (6,\n",
            "  '0.056*\"juego\" + 0.023*\"bien\" + 0.021*\"viene\" + 0.020*\"producto\" + '\n",
            "  '0.018*\"si\" + 0.015*\"llego\" + 0.013*\"amazon\" + 0.013*\"caja\" + '\n",
            "  '0.013*\"español\" + 0.012*\"así\"')]\n"
          ],
          "name": "stdout"
        }
      ]
    },
    {
      "cell_type": "code",
      "metadata": {
        "id": "ys-HSyS3WIgi",
        "outputId": "7bcca86a-49db-49b2-ba67-7e7b5188e7d7",
        "colab": {
          "base_uri": "https://localhost:8080/",
          "height": 881
        }
      },
      "source": [
        "lda_display = pyLDAvis.gensim.prepare(model, corpus, dictionary, sort_topics=True)\n",
        "pyLDAvis.display(lda_display)"
      ],
      "execution_count": 27,
      "outputs": [
        {
          "output_type": "execute_result",
          "data": {
            "text/html": [
              "\n",
              "<link rel=\"stylesheet\" type=\"text/css\" href=\"https://cdn.rawgit.com/bmabey/pyLDAvis/files/ldavis.v1.0.0.css\">\n",
              "\n",
              "\n",
              "<div id=\"ldavis_el1041400089233015922607718182\"></div>\n",
              "<script type=\"text/javascript\">\n",
              "\n",
              "var ldavis_el1041400089233015922607718182_data = {\"mdsDat\": {\"x\": [0.0957582600949456, -0.0622371608319021, -0.06287337391423378, -0.057710094902545604, -0.06090112740970428, 0.25486412802068253, -0.10690063105724192], \"y\": [0.04194610878973603, -0.008035230899204061, -0.2404034728965854, 0.17065320495548464, -0.027144077954016594, -0.013001469871132399, 0.07598493787571828], \"topics\": [1, 2, 3, 4, 5, 6, 7], \"cluster\": [1, 1, 1, 1, 1, 1, 1], \"Freq\": [22.689235806900644, 15.53486832773327, 14.875535117999078, 14.024458354380249, 11.436810053362775, 11.130525479024774, 10.308566860599209]}, \"tinfo\": {\"Term\": [\"calidad\", \"juego\", \"buena\", \"precio\", \"bonito\", \"bien\", \"mando\", \"pulsera\", \"buen\", \"lleg\\u00f3\", \"llegado\", \"d\\u00eda\", \"ps\", \"bueno\", \"pedido\", \"bonita\", \"perfecto\", \"tiempo\", \"producto\", \"jugar\", \"gustado\", \"juegos\", \"mas\", \"switch\", \"igual\", \"ve\", \"cadena\", \"viene\", \"gracias\", \"mejor\", \"bonito\", \"colgante\", \"preciosa\", \"presentaci\\u00f3n\", \"piedras\", \"corta\", \"adapta\", \"rapidez\", \"collar\", \"van\", \"contento\", \"ajusta\", \"acabados\", \"encant\\u00f3\", \"quedan\", \"aceptable\", \"bolsita\", \"aunque\", \"pongo\", \"toda\", \"tama\\u00f1o\", \"bajo\", \"buscaba\", \"vienen\", \"mujer\", \"parece\", \"llevas\", \"elegante\", \"grande\", \"precioso\", \"grandes\", \"bien\", \"peque\\u00f1o\", \"regalo\", \"bastante\", \"cadena\", \"compr\\u00e9\", \"gustado\", \"perfectamente\", \"calidad\", \"precio\", \"ser\", \"fotos\", \"tan\", \"foto\", \"caja\", \"mas\", \"peque\\u00f1os\", \"queda\", \"bonitos\", \"demasiado\", \"puede\", \"dos\", \"poca\", \"fatal\", \"italiano\", \"cd\", \"espa\\u00f1ola\", \"ingles\", \"espa\\u00f1ol\", \"condiciones\", \"versi\\u00f3n\", \"tiendas\", \"enga\\u00f1o\", \"p\\u00e9simo\", \"ven\\u00eda\", \"completo\", \"imagen\", \"familia\", \"casa\", \"jugando\", \"venido\", \"primera\", \"tenia\", \"viene\", \"color\", \"nuevo\", \"modo\", \"asi\", \"d\\u00edas\", \"siendo\", \"barato\", \"alg\\u00fan\", \"problemas\", \"juego\", \"llego\", \"momento\", \"mismo\", \"decepci\\u00f3n\", \"amazon\", \"contenta\", \"as\\u00ed\", \"caja\", \"producto\", \"bien\", \"si\", \"lleg\\u00f3\", \"tal\", \"tiempo\", \"esperaba\", \"grande\", \"ning\\u00fan\", \"solo\", \"dos\", \"problema\", \"ser\", \"switch\", \"nintendo\", \"mandos\", \"cargador\", \"pc\", \"ps\", \"juegos\", \"venia\", \"realidad\", \"much\\u00edsimo\", \"apenas\", \"ven\", \"merece\", \"opinar\", \"cuello\", \"entra\", \"mando\", \"carga\", \"pantalla\", \"auriculares\", \"encajan\", \"poder\", \"usar\", \"caso\", \"mucha\", \"media\", \"original\", \"puedo\", \"cable\", \"par\", \"consola\", \"mejor\", \"si\", \"pena\", \"jugar\", \"problema\", \"solo\", \"bien\", \"as\\u00ed\", \"gusto\", \"hace\", \"puedes\", \"dentro\", \"menos\", \"foto\", \"parte\", \"funda\", \"funciona\", \"pulsera\", \"bonita\", \"pandora\", \"esperando\", \"q\", \"rosa\", \"puesta\", \"fea\", \"negra\", \"piel\", \"ped\\u00ed\", \"encantada\", \"pulseras\", \"primer\", \"nunca\", \"todav\\u00eda\", \"sorpresa\", \"perdi\\u00f3\", \"rompi\\u00f3\", \"llegado\", \"exactamente\", \"d\\u00eda\", \"paquete\", \"persona\", \"seg\\u00fan\", \"servicio\", \"fin\", \"compras\", \"entregado\", \"recibido\", \"plata\", \"producto\", \"pone\", \"pendientes\", \"sido\", \"encantado\", \"si\", \"regalo\", \"amazon\", \"queda\", \"mal\", \"compra\", \"cierre\", \"bonitos\", \"mas\", \"llego\", \"calidad\", \"devolver\", \"productos\", \"divertido\", \"mont\\u00f3n\", \"ingl\\u00e9s\", \"ni\\u00f1os\", \"gracias\", \"conectar\", \"voy\", \"correctamente\", \"cuidado\", \"transporte\", \"pens\\u00e9\", \"funci\\u00f3n\", \"ayuda\", \"ah\\u00ed\", \"hola\", \"juegazo\", \"junto\", \"enviaron\", \"mientras\", \"originales\", \"primero\", \"tener\", \"bot\\u00f3n\", \"gusta\", \"sigue\", \"c\\u00f3digo\", \"encanta\", \"totalmente\", \"jugar\", \"gustado\", \"perfecto\", \"mas\", \"juego\", \"todas\", \"hijo\", \"a\\u00f1os\", \"uso\", \"vez\", \"funciona\", \"despu\\u00e9s\", \"amazon\", \"producto\", \"perfectamente\", \"peque\\u00f1os\", \"grandes\", \"compra\", \"r\\u00e1pido\", \"solo\", \"si\", \"mando\", \"precio\", \"mejor\", \"caja\", \"enseguida\", \"sonido\", \"juguete\", \"bueno\", \"expectativas\", \"buena\", \"lamentable\", \"f\\u00e1cilmente\", \"lleva\", \"hacen\", \"entrega\", \"entretenido\", \"tacto\", \"dise\\u00f1o\", \"valen\", \"one\", \"rapido\", \"perlas\", \"relaci\\u00f3n\", \"buen\", \"deja\", \"desear\", \"baratos\", \"luces\", \"dedo\", \"mala\", \"pedir\", \"devuelto\", \"calidad\", \"horas\", \"forma\", \"precio\", \"siempre\", \"cumple\", \"puede\", \"cierre\", \"envio\", \"env\\u00edo\", \"bonitos\", \"r\\u00e1pido\", \"producto\", \"demasiado\", \"bastante\", \"todas\", \"juego\", \"perfecto\", \"pendientes\", \"igual\", \"detalle\", \"pega\", \"pedido\", \"funcionar\", \"llegaron\", \"art\\u00edculo\", \"tra\\u00eda\", \"medio\", \"comprado\", \"bonitas\", \"ve\", \"ninguna\", \"ni\\u00f1as\", \"dejado\", \"dicen\", \"\\u00fanica\", \"pasado\", \"interesante\", \"mayor\", \"pronto\", \"llegar\", \"decepcionado\", \"lleg\\u00f3\", \"va\", \"acero\", \"esperar\", \"euros\", \"tiempo\", \"opini\\u00f3n\", \"materiales\", \"meses\", \"mano\", \"cadena\", \"poner\", \"uso\", \"perfecto\", \"peque\\u00f1a\", \"esperaba\", \"dos\", \"despu\\u00e9s\", \"d\\u00eda\", \"bien\", \"regalo\", \"juego\", \"parece\", \"vendedor\", \"solo\", \"foto\", \"tama\\u00f1o\"], \"Freq\": [143.0, 117.0, 65.0, 115.0, 62.0, 184.0, 53.0, 36.0, 61.0, 43.0, 49.0, 48.0, 29.0, 25.0, 24.0, 25.0, 59.0, 42.0, 104.0, 34.0, 32.0, 23.0, 64.0, 21.0, 18.0, 22.0, 32.0, 38.0, 21.0, 36.0, 61.86418735958637, 23.84728679912496, 8.413695889419246, 7.5040941548532425, 5.661186300979265, 5.600452486853074, 4.738839706010354, 4.738503431065293, 13.209885068134875, 10.00612529197448, 7.401497908654438, 6.378128882211758, 5.63846155192742, 8.419572903857407, 16.59777317009863, 4.739349516420522, 4.638450239147799, 30.1243844531343, 7.189038518692591, 7.071083983980397, 23.616363075735066, 3.817012517882861, 3.762927431207871, 8.059772307587352, 8.059530797400889, 32.49505484108678, 3.6535077225388504, 5.996914249458119, 19.034215898434965, 4.7306903366223985, 15.298227649002998, 104.61983925892036, 18.125419464391378, 34.330663409441044, 29.802967982459958, 19.10878816627529, 15.291071910100744, 17.7506932187168, 19.343480088336104, 53.66311559886543, 45.22541183756592, 18.698248039174857, 10.724575712467164, 12.818692945840112, 21.939018851559574, 18.915140180671703, 22.21600384554536, 11.527577089895203, 14.8783517937013, 13.573830523002425, 11.757311655512671, 13.519679460862589, 11.985371643876974, 8.583899141557227, 7.645379747006433, 7.620953419453724, 5.756695319817407, 4.829195177065457, 4.829133852533706, 15.12193524826671, 5.724911143535612, 10.403181172559473, 4.829272927811068, 4.828015774910192, 4.829354511339915, 10.084865239701381, 4.698444704888717, 9.245321449233385, 3.8888853252037436, 8.36662523048573, 5.0892347359257135, 3.787482474252657, 4.366683094674187, 3.734449895259917, 24.385577401360436, 13.6935971071713, 10.18008252605264, 5.221574170523335, 4.543208223248905, 12.797865809568208, 3.889896358666927, 6.593020119908985, 4.379472818557084, 7.101367088149059, 65.53279195140708, 18.216055737070192, 11.685494652748675, 9.702852829811578, 6.537988470689284, 15.787362266882335, 6.657344625850673, 14.460531556966263, 15.144710741326325, 23.42795103484579, 27.559533669855142, 20.947240125681844, 11.91740541545181, 9.9099304423987, 10.810125289848461, 9.532968545730887, 8.766452416848933, 7.364981538686069, 9.337541499095359, 8.52935097056552, 7.856058533212486, 7.6345110688346525, 20.22691449762927, 16.43111932511526, 14.484257206111245, 10.674781954483464, 9.72033585836907, 27.06076939204264, 21.82664487127218, 6.846254104552936, 6.844789729995035, 5.887923457382512, 5.887794479172256, 5.886235730314168, 5.884879361899814, 4.928579335088413, 4.926544520316049, 4.804830509666561, 44.69042135746591, 12.493012950935958, 6.8362766438165, 6.536470988490824, 5.785127299507174, 6.710235047201772, 4.657451408081223, 11.2729031997952, 6.633750968520233, 3.9694213398863503, 22.25254769918936, 14.885983435527192, 15.287869052650121, 5.595275044122682, 13.387325840177875, 21.885962264749704, 43.53743585163481, 13.832968625884169, 14.536435708081294, 11.838475797575779, 17.221149661253897, 38.874720454809825, 14.208267954041089, 9.973584049904169, 9.273820634687716, 7.80732894665213, 8.369810786101585, 9.08583646614526, 10.648774494558603, 9.158095721988428, 7.507860417298788, 8.105920319315402, 35.73176420745912, 24.480001258426793, 8.403302464738138, 8.402400852967787, 13.77540889557308, 5.64585385586541, 4.72679214104263, 4.726709097853256, 4.726662633211582, 4.724485715318695, 11.768317290785518, 7.338604745159374, 5.612615819318301, 5.597322031941847, 15.037415255886655, 8.855998571081194, 4.725571208436946, 4.686681291965391, 6.56522895986714, 34.326507356865285, 3.7932734966982213, 32.42488752284901, 9.144282014385075, 7.165474524454681, 4.032775739358066, 8.911968692110152, 6.461753191469031, 3.7105773092222645, 8.46896293507957, 8.307962951679926, 18.339485321607025, 40.549139167444785, 10.022139478137188, 11.856438966633936, 10.885073883036837, 7.245934477473912, 18.811245771567894, 12.060291212969574, 9.501908498035387, 8.689226097410629, 8.661523284879083, 8.078033660966625, 7.475833615600594, 7.966762213165993, 8.351007993448395, 7.704294327054184, 7.690873460180941, 10.536699120757579, 6.70699055500199, 5.690408890056595, 4.862206661748295, 4.861969235437369, 4.8157364071200535, 17.313877972337735, 7.501755580438962, 6.705663950605975, 6.69499669684366, 8.467238185444826, 5.613058703383013, 4.848704803879998, 4.830010202824378, 5.4109609438029755, 3.915151402035498, 4.566675803859228, 3.916697293211044, 3.79385920830943, 3.793486743264787, 3.7592594630260336, 5.495236803563144, 4.708405202956922, 11.491634192908336, 4.544961575477398, 13.515934144658862, 5.550171769741658, 3.23988033811231, 4.6822133320254276, 6.243388876724901, 17.12361121823417, 14.209565639159306, 22.194045591871898, 23.020642270101398, 32.74935829044487, 8.450194281746146, 7.640334344483705, 6.705576477754581, 8.732987963790388, 8.672605897884324, 9.290633437933469, 8.33900540390636, 8.773466529648532, 12.705603385781549, 8.689673987624865, 7.2374601894105774, 7.398232065465977, 7.948643494488759, 6.71067167057307, 7.698840379742834, 8.202563073559242, 7.353936136000941, 7.854506582361606, 7.094006325528271, 6.871565686139861, 9.504262611051013, 12.065165709183319, 4.822401444888903, 21.23523823945999, 9.237011604308059, 49.011234122481504, 3.8827216846497485, 6.946767077807864, 5.460897348666887, 4.778354569104913, 14.723586519713363, 4.690373016887417, 5.7546242636805465, 11.583217714541648, 3.885736944117634, 3.8640585388436466, 6.5938420593353255, 3.6441168197679663, 4.656936041221688, 33.537462345554445, 6.188892242031841, 3.579423694273352, 2.9464608661569676, 2.9475351945531165, 3.885025302083449, 12.270720411544746, 10.35812163733303, 5.179118879868863, 70.63462876107666, 4.613352085834798, 7.307695911485163, 50.39390359519764, 7.994110353249655, 10.850174635015785, 18.93933509956339, 9.974239798068036, 6.5017271771993235, 7.26432733177455, 9.439850768543451, 6.5929326953688205, 11.394507037747893, 7.282002260224472, 8.198124864527173, 6.067784812347684, 8.515650595616789, 7.294891847145736, 6.3242148586557345, 16.26673790177347, 5.805583140434167, 10.564873388377178, 20.981699493842495, 5.845891860661337, 4.875130085493668, 13.140940001881047, 3.964656808320559, 3.9505764968490245, 10.404049802402714, 5.756637589923151, 14.967550218271965, 5.543240192648708, 6.737616338191731, 4.917681671117421, 4.922225535470194, 3.54455100647394, 4.666240582431991, 3.437516223195241, 3.946194316458908, 5.668948928612128, 9.500780726603889, 3.77656531287774, 24.405151392295092, 12.503011385534911, 3.0074488725752344, 4.919642588749911, 3.9652290605479394, 22.071664496318828, 2.784466341325859, 4.090478541390465, 8.24083174249804, 6.592070251681957, 12.093057883204139, 8.182449661923837, 8.937135899392924, 15.296725686189982, 6.72844940251122, 9.859956744626533, 8.98115245071877, 7.345152002905893, 9.07239670586925, 12.30774657217135, 8.94998704941352, 10.489270694108425, 8.302084894247328, 6.326681832042592, 6.677087675929044, 6.256137484129134, 5.952573482565424], \"Total\": [143.0, 117.0, 65.0, 115.0, 62.0, 184.0, 53.0, 36.0, 61.0, 43.0, 49.0, 48.0, 29.0, 25.0, 24.0, 25.0, 59.0, 42.0, 104.0, 34.0, 32.0, 23.0, 64.0, 21.0, 18.0, 22.0, 32.0, 38.0, 21.0, 36.0, 62.696528383711374, 24.909336108006098, 9.235921851656684, 8.313689301897002, 6.470236047273566, 6.472646235984816, 5.548505999159886, 5.54850668753643, 15.687454550040346, 12.031376462747117, 9.255018242080672, 8.31051343513696, 7.408913700397532, 11.151193852925063, 22.12629307846004, 6.5054244495817075, 6.467337937507349, 42.64304955213602, 10.21852189739181, 10.199878122947043, 34.324510055052656, 5.572430585666109, 5.573850160255393, 11.991817209005, 11.9918073230869, 48.444048434832965, 5.567396269168992, 9.23044902932047, 29.71813770946261, 7.424159092578195, 24.16477926195203, 184.9631495706748, 29.716654416450282, 61.238245438711665, 53.11709526279125, 32.73594189672299, 26.922575120847227, 32.63480944573277, 37.20958640825065, 143.47634494337623, 115.57846567609377, 36.271395746515374, 17.685273273442817, 23.363531920011166, 52.375533346800744, 46.65498186157851, 64.44846507715407, 21.47128627969228, 35.248104978419974, 39.08163150110792, 28.983817399066684, 50.62138028795197, 39.52173441025545, 9.391068566308117, 8.452044909381796, 8.451587914757203, 6.574179662400262, 5.634963793884453, 5.634962031076891, 17.855823710083655, 7.52054688572435, 14.146127664161863, 6.580561413053116, 6.580626943867536, 6.593545834919446, 14.027357126121377, 6.594028824899808, 13.153717582747596, 5.617696221255579, 12.18875071364159, 7.483268764074666, 5.654789241655289, 6.583850173820986, 5.657760094648008, 38.24642387178812, 21.493711859804932, 16.01240021433071, 8.502537360162806, 7.474551000293371, 21.436658288667083, 6.539435623328776, 11.208416111623709, 7.463807031588738, 12.146812162103132, 117.78831845705008, 33.60889832796723, 21.66040699024527, 17.741812127806753, 11.23066717643256, 34.602564215350434, 12.112854233133183, 40.596148163059866, 46.65498186157851, 104.30757496216785, 184.9631495706748, 113.11375025292877, 43.50958486550927, 29.953826547461027, 42.65807559295778, 34.912989103000214, 29.71813770946261, 17.066536157450102, 46.43280168879927, 39.52173441025545, 24.646652089300172, 36.271395746515374, 21.069282184070225, 17.235778127371475, 15.31743291773763, 11.48415839905571, 10.525665430013724, 29.632629978716842, 23.917820420090223, 7.649911967385988, 7.649890413398559, 6.691334769495895, 6.691329620277505, 6.691294994438994, 6.6912190660373465, 5.732731988662313, 5.732657871907884, 5.728390556004552, 53.53094424096947, 15.274361840824525, 8.587309085605893, 8.561735053459417, 7.606515731548008, 9.563286747207236, 6.644026307927998, 16.19151209987162, 9.538362519640426, 5.719808315458531, 32.313416653620386, 21.816811568289925, 22.80846945840275, 8.57842437580841, 20.92699376140805, 36.25440753256874, 113.11375025292877, 31.0692630538183, 34.254761338299694, 24.646652089300172, 46.43280168879927, 184.9631495706748, 40.596148163059866, 20.756175144721873, 20.765616527355128, 14.161432534983632, 18.764114856020598, 24.49029577931103, 52.375533346800744, 30.920991604192892, 14.173941571075073, 34.78166186459271, 36.79104052403805, 25.76374465571905, 9.212031839244089, 9.212064080566835, 15.689615082311278, 6.454631699092552, 5.535499379044676, 5.535500773825298, 5.535502073305214, 5.535570894834892, 13.83434067533274, 9.242517379165136, 7.376481873633432, 7.413324112507372, 20.39891408614332, 12.05293098802125, 6.492473738663796, 6.4573562604983525, 9.28760014123096, 49.8833524417842, 5.555985269910319, 48.31605972265964, 13.925360178240808, 11.102944499466192, 6.498893121348873, 14.858662171448708, 11.207358118527663, 6.503858013317257, 14.95086365281962, 14.88846340404902, 34.18660326719015, 104.30757496216785, 20.466966515523765, 28.668879631704893, 27.026639349541366, 13.85013960792118, 113.11375025292877, 61.238245438711665, 34.602564215350434, 35.248104978419974, 36.463619764168676, 33.50554928826019, 24.211843121006503, 39.08163150110792, 64.44846507715407, 33.60889832796723, 143.47634494337623, 11.342087585827842, 7.558290198016962, 6.6129437152211015, 5.668127460769964, 5.668108640120894, 5.66755237641816, 21.748865063314753, 9.440344312543603, 8.477216043886429, 8.518748488818686, 11.340349685658321, 7.530531889532118, 6.5868609686102895, 6.589142713447989, 7.52289266493981, 5.644213280462366, 6.605335354957984, 5.681059377884974, 5.6381570595753105, 5.638165754665461, 5.658864838914446, 8.533295177709208, 7.583625956018778, 18.965630089755685, 7.5895472510925, 22.69014162562137, 9.421566914975397, 5.687057758476739, 8.425643883920781, 11.377534890005718, 34.254761338299694, 32.63480944573277, 59.30611699517054, 64.44846507715407, 117.78831845705008, 17.838888015518467, 16.01021523202841, 13.139381934369169, 23.736946413044855, 26.374442052977873, 34.78166186459271, 27.268511922298977, 34.602564215350434, 104.30757496216785, 37.20958640825065, 21.47128627969228, 24.16477926195203, 33.50554928826019, 20.654434599769505, 46.43280168879927, 113.11375025292877, 53.53094424096947, 115.57846567609377, 36.25440753256874, 46.65498186157851, 10.317353602590055, 14.048087316102954, 5.628653907996993, 25.265770939389913, 12.211076360133566, 65.58569110901605, 5.610205663655191, 10.37400740655227, 8.47493738676216, 7.533272479005068, 23.36203326482299, 7.487140926928944, 9.363660714080646, 19.57024926800545, 6.588483469180724, 6.56940629018508, 11.24120356139231, 6.553241001015417, 8.391030946384756, 61.000377205956674, 11.330352867527678, 6.610981357933722, 5.591392515908145, 5.596620926635839, 7.456080386281449, 24.338660238320145, 20.59622561818422, 10.300261186366754, 143.47634494337623, 9.413061350687286, 14.994358462658994, 115.57846567609377, 17.0016111958188, 24.43484871076645, 50.62138028795197, 24.211843121006503, 14.960915256583377, 21.609071066645136, 39.08163150110792, 20.654434599769505, 104.30757496216785, 28.983817399066684, 53.11709526279125, 17.838888015518467, 117.78831845705008, 59.30611699517054, 28.668879631704893, 18.14394270266355, 6.678506795676559, 12.381277666691206, 24.790424830400738, 7.604816113131723, 6.644534981237289, 18.002479030332108, 5.7065339174053795, 5.704797736533309, 15.157586342806653, 8.585833504762508, 22.961489620860508, 8.55188733806806, 10.411320427535506, 7.599909322007205, 7.624132219860396, 5.726809695385475, 7.611860724006091, 5.706764724946835, 6.60510435381531, 9.502143937252745, 16.091783934215854, 6.637798653709373, 43.50958486550927, 22.888975868183273, 5.648871203110145, 9.422970896258322, 7.604506703664784, 42.65807559295778, 5.640077718200928, 8.459118699050741, 17.91287222602488, 14.098961540488045, 32.73594189672299, 20.047286147614443, 23.736946413044855, 59.30611699517054, 16.911226559854185, 34.912989103000214, 39.52173441025545, 27.268511922298977, 48.31605972265964, 184.9631495706748, 61.238245438711665, 117.78831845705008, 48.444048434832965, 19.64572951014173, 46.43280168879927, 52.375533346800744, 34.324510055052656], \"Category\": [\"Default\", \"Default\", \"Default\", \"Default\", \"Default\", \"Default\", \"Default\", \"Default\", \"Default\", \"Default\", \"Default\", \"Default\", \"Default\", \"Default\", \"Default\", \"Default\", \"Default\", \"Default\", \"Default\", \"Default\", \"Default\", \"Default\", \"Default\", \"Default\", \"Default\", \"Default\", \"Default\", \"Default\", \"Default\", \"Default\", \"Topic1\", \"Topic1\", \"Topic1\", \"Topic1\", \"Topic1\", \"Topic1\", \"Topic1\", \"Topic1\", \"Topic1\", \"Topic1\", \"Topic1\", \"Topic1\", \"Topic1\", \"Topic1\", \"Topic1\", \"Topic1\", \"Topic1\", \"Topic1\", \"Topic1\", \"Topic1\", \"Topic1\", \"Topic1\", \"Topic1\", \"Topic1\", \"Topic1\", \"Topic1\", \"Topic1\", \"Topic1\", \"Topic1\", \"Topic1\", \"Topic1\", \"Topic1\", \"Topic1\", \"Topic1\", \"Topic1\", \"Topic1\", \"Topic1\", \"Topic1\", \"Topic1\", \"Topic1\", \"Topic1\", \"Topic1\", \"Topic1\", \"Topic1\", \"Topic1\", \"Topic1\", \"Topic1\", \"Topic1\", \"Topic1\", \"Topic1\", \"Topic1\", \"Topic1\", \"Topic1\", \"Topic2\", \"Topic2\", \"Topic2\", \"Topic2\", \"Topic2\", \"Topic2\", \"Topic2\", \"Topic2\", \"Topic2\", \"Topic2\", \"Topic2\", \"Topic2\", \"Topic2\", \"Topic2\", \"Topic2\", \"Topic2\", \"Topic2\", \"Topic2\", \"Topic2\", \"Topic2\", \"Topic2\", \"Topic2\", \"Topic2\", \"Topic2\", \"Topic2\", \"Topic2\", \"Topic2\", \"Topic2\", \"Topic2\", \"Topic2\", \"Topic2\", \"Topic2\", \"Topic2\", \"Topic2\", \"Topic2\", \"Topic2\", \"Topic2\", \"Topic2\", \"Topic2\", \"Topic2\", \"Topic2\", \"Topic2\", \"Topic2\", \"Topic2\", \"Topic2\", \"Topic2\", \"Topic2\", \"Topic2\", \"Topic2\", \"Topic2\", \"Topic2\", \"Topic2\", \"Topic2\", \"Topic3\", \"Topic3\", \"Topic3\", \"Topic3\", \"Topic3\", \"Topic3\", \"Topic3\", \"Topic3\", \"Topic3\", \"Topic3\", \"Topic3\", \"Topic3\", \"Topic3\", \"Topic3\", \"Topic3\", \"Topic3\", \"Topic3\", \"Topic3\", \"Topic3\", \"Topic3\", \"Topic3\", \"Topic3\", \"Topic3\", \"Topic3\", \"Topic3\", \"Topic3\", \"Topic3\", \"Topic3\", \"Topic3\", \"Topic3\", \"Topic3\", \"Topic3\", \"Topic3\", \"Topic3\", \"Topic3\", \"Topic3\", \"Topic3\", \"Topic3\", \"Topic3\", \"Topic3\", \"Topic3\", \"Topic3\", \"Topic3\", \"Topic3\", \"Topic3\", \"Topic3\", \"Topic3\", \"Topic3\", \"Topic4\", \"Topic4\", \"Topic4\", \"Topic4\", \"Topic4\", \"Topic4\", \"Topic4\", \"Topic4\", \"Topic4\", \"Topic4\", \"Topic4\", \"Topic4\", \"Topic4\", \"Topic4\", \"Topic4\", \"Topic4\", \"Topic4\", \"Topic4\", \"Topic4\", \"Topic4\", \"Topic4\", \"Topic4\", \"Topic4\", \"Topic4\", \"Topic4\", \"Topic4\", \"Topic4\", \"Topic4\", \"Topic4\", \"Topic4\", \"Topic4\", \"Topic4\", \"Topic4\", \"Topic4\", \"Topic4\", \"Topic4\", \"Topic4\", \"Topic4\", \"Topic4\", \"Topic4\", \"Topic4\", \"Topic4\", \"Topic4\", \"Topic4\", \"Topic4\", \"Topic4\", \"Topic4\", \"Topic5\", \"Topic5\", \"Topic5\", \"Topic5\", \"Topic5\", \"Topic5\", \"Topic5\", \"Topic5\", \"Topic5\", \"Topic5\", \"Topic5\", \"Topic5\", \"Topic5\", \"Topic5\", \"Topic5\", \"Topic5\", \"Topic5\", \"Topic5\", \"Topic5\", \"Topic5\", \"Topic5\", \"Topic5\", \"Topic5\", \"Topic5\", \"Topic5\", \"Topic5\", \"Topic5\", \"Topic5\", \"Topic5\", \"Topic5\", \"Topic5\", \"Topic5\", \"Topic5\", \"Topic5\", \"Topic5\", \"Topic5\", \"Topic5\", \"Topic5\", \"Topic5\", \"Topic5\", \"Topic5\", \"Topic5\", \"Topic5\", \"Topic5\", \"Topic5\", \"Topic5\", \"Topic5\", \"Topic5\", \"Topic5\", \"Topic5\", \"Topic5\", \"Topic5\", \"Topic5\", \"Topic5\", \"Topic5\", \"Topic6\", \"Topic6\", \"Topic6\", \"Topic6\", \"Topic6\", \"Topic6\", \"Topic6\", \"Topic6\", \"Topic6\", \"Topic6\", \"Topic6\", \"Topic6\", \"Topic6\", \"Topic6\", \"Topic6\", \"Topic6\", \"Topic6\", \"Topic6\", \"Topic6\", \"Topic6\", \"Topic6\", \"Topic6\", \"Topic6\", \"Topic6\", \"Topic6\", \"Topic6\", \"Topic6\", \"Topic6\", \"Topic6\", \"Topic6\", \"Topic6\", \"Topic6\", \"Topic6\", \"Topic6\", \"Topic6\", \"Topic6\", \"Topic6\", \"Topic6\", \"Topic6\", \"Topic6\", \"Topic6\", \"Topic6\", \"Topic6\", \"Topic6\", \"Topic6\", \"Topic6\", \"Topic6\", \"Topic7\", \"Topic7\", \"Topic7\", \"Topic7\", \"Topic7\", \"Topic7\", \"Topic7\", \"Topic7\", \"Topic7\", \"Topic7\", \"Topic7\", \"Topic7\", \"Topic7\", \"Topic7\", \"Topic7\", \"Topic7\", \"Topic7\", \"Topic7\", \"Topic7\", \"Topic7\", \"Topic7\", \"Topic7\", \"Topic7\", \"Topic7\", \"Topic7\", \"Topic7\", \"Topic7\", \"Topic7\", \"Topic7\", \"Topic7\", \"Topic7\", \"Topic7\", \"Topic7\", \"Topic7\", \"Topic7\", \"Topic7\", \"Topic7\", \"Topic7\", \"Topic7\", \"Topic7\", \"Topic7\", \"Topic7\", \"Topic7\", \"Topic7\", \"Topic7\", \"Topic7\", \"Topic7\", \"Topic7\", \"Topic7\", \"Topic7\"], \"logprob\": [30.0, 29.0, 28.0, 27.0, 26.0, 25.0, 24.0, 23.0, 22.0, 21.0, 20.0, 19.0, 18.0, 17.0, 16.0, 15.0, 14.0, 13.0, 12.0, 11.0, 10.0, 9.0, 8.0, 7.0, 6.0, 5.0, 4.0, 3.0, 2.0, 1.0, -3.3236000537872314, -4.276899814605713, -5.318699836730957, -5.43310022354126, -5.714900016784668, -5.7256999015808105, -5.8927001953125, -5.8927998542785645, -4.867599964141846, -5.145299911499023, -5.446899890899658, -5.595699787139893, -5.718900203704834, -5.317999839782715, -4.6392998695373535, -5.892600059509277, -5.9141998291015625, -4.0432000160217285, -5.47599983215332, -5.492499828338623, -4.286600112915039, -6.109099864959717, -6.123300075531006, -5.361700057983398, -5.361700057983398, -3.967400074005127, -6.1528000831604, -5.657299995422363, -4.502299785614014, -5.894499778747559, -4.720799922943115, -2.7981998920440674, -4.551199913024902, -3.9124999046325684, -4.053899765014648, -4.4984002113342285, -4.72130012512207, -4.5721001625061035, -4.486199855804443, -3.4658000469207764, -3.636899948120117, -4.520100116729736, -5.076000213623047, -4.897600173950195, -4.360300064086914, -4.508600234985352, -4.347700119018555, -5.003799915313721, -4.748600006103516, -4.840400218963623, -4.984099864959717, -4.844399929046631, -4.964799880981445, -4.9197998046875, -5.035600185394287, -5.03879976272583, -5.319399833679199, -5.495100021362305, -5.495100021362305, -4.353600025177002, -5.324900150299072, -4.72760009765625, -5.494999885559082, -5.495299816131592, -5.494999885559082, -4.758699893951416, -5.522500038146973, -4.845600128173828, -5.711599826812744, -4.945499897003174, -5.442599773406982, -5.73799991607666, -5.595699787139893, -5.752099990844727, -3.875699996948242, -4.4527997970581055, -4.749300003051758, -5.416900157928467, -5.556099891662598, -4.520500183105469, -5.711400032043457, -5.183700084686279, -5.592800140380859, -5.109399795532227, -2.887200117111206, -4.167399883270264, -4.611400127410889, -4.797299861907959, -5.1921000480651855, -4.310500144958496, -5.173999786376953, -4.3983001708984375, -4.352099895477295, -3.915800094604492, -3.7534000873565674, -4.027699947357178, -4.591700077056885, -4.776199817657471, -4.689199924468994, -4.815000057220459, -4.898799896240234, -5.072999954223633, -4.835700035095215, -4.926199913024902, -5.008399963378906, -5.037099838256836, -4.019400119781494, -4.227200031280518, -4.353300094604492, -4.6585001945495605, -4.752099990844727, -3.728300094604492, -3.94320011138916, -5.102700233459473, -5.10290002822876, -5.253499984741211, -5.253499984741211, -5.253699779510498, -5.254000186920166, -5.431300163269043, -5.431700229644775, -5.456699848175049, -3.226599931716919, -4.501200199127197, -5.104100227355957, -5.14900016784668, -5.271100044250488, -5.122700214385986, -5.4878997802734375, -4.604000091552734, -5.134200096130371, -5.64769983291626, -3.9238998889923096, -4.325900077819824, -4.299300193786621, -5.3043999671936035, -4.43209981918335, -3.940500020980835, -3.252700090408325, -4.3993000984191895, -4.349699974060059, -4.554999828338623, -4.180200099945068, -3.365999937057495, -4.372499942779541, -4.726399898529053, -4.799200057983398, -4.97130012512207, -4.901700019836426, -4.8196001052856445, -4.660900115966797, -4.811699867248535, -5.01039981842041, -4.933800220489502, -3.391400098800659, -3.7695999145507812, -4.838799953460693, -4.838900089263916, -4.344600200653076, -5.236499786376953, -5.4141998291015625, -5.4141998291015625, -5.4141998291015625, -5.414700031280518, -4.501999855041504, -4.974299907684326, -5.242400169372559, -5.245200157165527, -4.256899833679199, -4.786399841308594, -5.4145002365112305, -5.422699928283691, -5.085700035095215, -3.43149995803833, -5.634200096130371, -3.4885001182556152, -4.754300117492676, -4.998199939727783, -5.572999954223633, -4.780099868774414, -5.101500034332275, -5.656300067901611, -4.830999851226807, -4.850200176239014, -4.0584001541137695, -3.264899969100952, -4.662700176239014, -4.49459981918335, -4.580100059509277, -4.986999988555908, -4.0329999923706055, -4.477499961853027, -4.716000080108643, -4.8053998947143555, -4.808599948883057, -4.878300189971924, -4.9558000564575195, -4.892199993133545, -4.845099925994873, -4.9257001876831055, -4.9274001121521, -4.408599853515625, -4.860300064086914, -5.024700164794922, -5.182000160217285, -5.182000160217285, -5.1915998458862305, -3.9119999408721924, -4.748300075531006, -4.860499858856201, -4.862100124359131, -4.627299785614014, -5.038400173187256, -5.184800148010254, -5.188600063323975, -5.075099945068359, -5.398600101470947, -5.244699954986572, -5.398200035095215, -5.430099964141846, -5.430200099945068, -5.439300060272217, -5.059599876403809, -5.214099884033203, -4.321899890899658, -5.249499797821045, -4.159599781036377, -5.049699783325195, -5.587900161743164, -5.219699859619141, -4.932000160217285, -3.9230000972747803, -4.109600067138672, -3.6637001037597656, -3.6270999908447266, -3.274600028991699, -4.629300117492676, -4.730000019073486, -4.860499858856201, -4.596399784088135, -4.603300094604492, -4.5345001220703125, -4.642499923706055, -4.591800212860107, -4.221399784088135, -4.60129976272583, -4.784200191497803, -4.762199878692627, -4.690499782562256, -4.859799861907959, -4.722400188446045, -4.658999919891357, -4.768199920654297, -4.702400207519531, -4.804200172424316, -4.836100101470947, -4.484600067138672, -4.245999813079834, -5.163099765777588, -3.6807000637054443, -4.5131001472473145, -2.8443000316619873, -5.379799842834473, -4.798099994659424, -5.038700103759766, -5.1722002029418945, -4.046899795532227, -5.190800189971924, -4.986299991607666, -4.286799907684326, -5.379000186920166, -5.3846001625061035, -4.850200176239014, -5.44320011138916, -5.197999954223633, -3.2237000465393066, -4.913599967956543, -5.461100101470947, -5.655700206756592, -5.655399799346924, -5.379199981689453, -4.229100227355957, -4.398600101470947, -5.091700077056885, -2.478800058364868, -5.207399845123291, -4.747399806976318, -2.816499948501587, -4.657599925994873, -4.352200031280518, -3.795099973678589, -4.436299800872803, -4.864299774169922, -4.753399848937988, -4.491399765014648, -4.850299835205078, -4.303199768066406, -4.750899791717529, -4.632400035858154, -4.933300018310547, -4.594399929046631, -4.749199867248535, -4.892000198364258, -3.870500087738037, -4.9008002281188965, -4.30210018157959, -3.615999937057495, -4.893899917602539, -5.075500011444092, -4.083899974822998, -5.282199859619141, -5.285799980163574, -4.317399978637695, -4.909299850463867, -3.953700065612793, -4.947000026702881, -4.7519001960754395, -5.066800117492676, -5.065899848937988, -5.394199848175049, -5.11929988861084, -5.424900054931641, -5.286900043487549, -4.924600124359131, -4.408199787139893, -5.3308000564575195, -3.4647998809814453, -4.133699893951416, -5.558499813079834, -5.066400051116943, -5.282100200653076, -3.5652999877929688, -5.6356000900268555, -5.250999927520752, -4.55049991607666, -4.773799896240234, -4.166999816894531, -4.557600021362305, -4.469399929046631, -3.931999921798706, -4.753300189971924, -4.371099948883057, -4.4644999504089355, -4.665599822998047, -4.454400062561035, -4.149400234222412, -4.4679999351501465, -4.309299945831299, -4.543099880218506, -4.814799785614014, -4.760900020599365, -4.826099872589111, -4.875800132751465], \"loglift\": [30.0, 29.0, 28.0, 27.0, 26.0, 25.0, 24.0, 23.0, 22.0, 21.0, 20.0, 19.0, 18.0, 17.0, 16.0, 15.0, 14.0, 13.0, 12.0, 11.0, 10.0, 9.0, 8.0, 7.0, 6.0, 5.0, 4.0, 3.0, 2.0, 1.0, 1.4699, 1.4397, 1.39, 1.3808, 1.3497, 1.3385, 1.3255, 1.3255, 1.3114, 1.299, 1.2598, 1.2186, 1.2102, 1.2023, 1.1958, 1.1665, 1.1509, 1.1358, 1.1316, 1.1169, 1.1094, 1.1049, 1.0904, 1.0859, 1.0859, 1.084, 1.062, 1.052, 1.0378, 1.0326, 1.0261, 0.9135, 0.9889, 0.9045, 0.9054, 0.945, 0.9176, 0.8743, 0.8291, 0.4998, 0.545, 0.8207, 0.9831, 0.883, 0.6131, 0.5805, 0.4182, 0.8613, 0.6208, 0.4258, 0.581, 0.1631, 0.2901, 1.7722, 1.7618, 1.7586, 1.7293, 1.7078, 1.7078, 1.6959, 1.5893, 1.5548, 1.5527, 1.5524, 1.5507, 1.5321, 1.5232, 1.5095, 1.4943, 1.4858, 1.4765, 1.4613, 1.4515, 1.4467, 1.412, 1.4113, 1.4092, 1.3745, 1.3642, 1.3463, 1.3426, 1.3314, 1.3289, 1.3253, 1.2757, 1.2496, 1.2449, 1.2586, 1.3211, 1.0774, 1.2635, 0.8298, 0.737, 0.3687, -0.0417, 0.1757, 0.5671, 0.756, 0.4893, 0.564, 0.6413, 1.0217, 0.2581, 0.3287, 0.7187, 0.3037, 1.8647, 1.8576, 1.8495, 1.8324, 1.8259, 1.8147, 1.814, 1.7945, 1.7942, 1.7775, 1.7775, 1.7773, 1.777, 1.7543, 1.7539, 1.7296, 1.725, 1.7044, 1.6774, 1.6355, 1.6317, 1.5512, 1.5502, 1.5434, 1.5423, 1.5401, 1.5324, 1.5232, 1.5054, 1.4781, 1.4587, 1.4007, 0.9507, 1.0963, 1.0483, 1.1722, 0.9136, 0.3456, 0.8556, 1.1725, 1.0993, 1.31, 1.0981, 0.9139, 0.3125, 0.6887, 1.27, 0.449, 1.9352, 1.9133, 1.8725, 1.8724, 1.8343, 1.8305, 1.8064, 1.8064, 1.8064, 1.8059, 1.8026, 1.7337, 1.6911, 1.6834, 1.6594, 1.6562, 1.6467, 1.6439, 1.6175, 1.5906, 1.5827, 1.5655, 1.5438, 1.5264, 1.4872, 1.4532, 1.4137, 1.4032, 1.396, 1.381, 1.3416, 1.0195, 1.2504, 1.0814, 1.0549, 1.3165, 0.1704, 0.3395, 0.6719, 0.564, 0.5269, 0.5418, 0.7892, 0.374, -0.0791, 0.4914, -0.9618, 2.0947, 2.0488, 2.0181, 2.015, 2.0149, 2.0055, 1.9403, 1.9385, 1.9339, 1.9274, 1.8762, 1.8745, 1.862, 1.8578, 1.8388, 1.8026, 1.7992, 1.7964, 1.7722, 1.7721, 1.7593, 1.7282, 1.6917, 1.6673, 1.6556, 1.6503, 1.6392, 1.6057, 1.5808, 1.5682, 1.475, 1.3369, 1.1854, 1.1389, 0.8883, 1.4211, 1.4285, 1.4957, 1.1684, 1.0561, 0.8482, 0.9835, 0.7961, 0.063, 0.7139, 1.0809, 0.9847, 0.7296, 1.0441, 0.3714, -0.4556, 0.1833, -0.5205, 0.537, 0.2529, 2.1134, 2.0433, 2.0409, 2.0217, 1.9164, 1.9042, 1.8274, 1.7945, 1.756, 1.7402, 1.7338, 1.7278, 1.7086, 1.671, 1.6675, 1.6648, 1.662, 1.6086, 1.6067, 1.5973, 1.5907, 1.5819, 1.5549, 1.5543, 1.5436, 1.5106, 1.5081, 1.5079, 1.4868, 1.4823, 1.4767, 1.3654, 1.4409, 1.3836, 1.2123, 1.3086, 1.3621, 1.1053, 0.7748, 1.0535, -0.0187, 0.8141, 0.3269, 1.1171, -0.4315, 0.0999, 0.6841, 2.163, 2.1321, 2.1135, 2.1054, 2.0092, 1.9625, 1.9574, 1.908, 1.9047, 1.8959, 1.8724, 1.8443, 1.8386, 1.837, 1.8369, 1.8346, 1.7924, 1.7828, 1.7653, 1.7571, 1.7557, 1.7453, 1.7082, 1.694, 1.6675, 1.6418, 1.6223, 1.621, 1.6133, 1.5664, 1.5456, 1.4958, 1.512, 1.2764, 1.3761, 1.2954, 0.9171, 1.3506, 1.0078, 0.7905, 0.9605, 0.5997, -0.4377, 0.3491, -0.1463, 0.5083, 1.1391, 0.3329, 0.1473, 0.5202]}, \"token.table\": {\"Topic\": [1, 6, 1, 7, 4, 7, 1, 1, 5, 1, 4, 2, 4, 2, 4, 5, 3, 1, 4, 7, 1, 2, 1, 2, 3, 7, 1, 3, 4, 1, 3, 1, 4, 5, 1, 5, 7, 1, 5, 2, 4, 6, 4, 6, 1, 2, 3, 6, 7, 1, 2, 3, 4, 7, 1, 4, 4, 3, 5, 7, 1, 1, 4, 5, 6, 7, 3, 5, 1, 2, 3, 4, 6, 7, 1, 3, 5, 6, 1, 6, 1, 5, 1, 3, 4, 5, 1, 2, 7, 1, 2, 4, 5, 7, 1, 2, 3, 4, 6, 3, 6, 3, 2, 4, 7, 2, 3, 2, 1, 4, 6, 7, 1, 1, 4, 2, 3, 4, 5, 2, 7, 1, 2, 4, 5, 2, 4, 7, 2, 4, 5, 1, 3, 4, 2, 5, 5, 6, 2, 3, 6, 1, 2, 4, 1, 2, 3, 5, 1, 3, 1, 3, 5, 1, 3, 5, 6, 5, 7, 3, 4, 7, 2, 4, 6, 1, 6, 5, 6, 7, 6, 7, 1, 3, 5, 6, 1, 3, 4, 6, 7, 1, 2, 4, 5, 7, 7, 5, 1, 2, 5, 6, 2, 3, 7, 1, 6, 5, 1, 2, 3, 5, 7, 2, 4, 5, 7, 1, 2, 4, 1, 4, 3, 4, 1, 4, 5, 4, 5, 1, 4, 5, 1, 3, 7, 2, 5, 6, 3, 2, 4, 6, 4, 7, 1, 2, 6, 4, 5, 1, 2, 6, 2, 4, 6, 7, 2, 5, 2, 1, 2, 5, 6, 7, 4, 1, 2, 7, 5, 7, 2, 4, 5, 6, 1, 2, 2, 4, 3, 4, 7, 2, 3, 4, 6, 1, 2, 3, 4, 5, 7, 1, 3, 4, 5, 7, 1, 2, 3, 5, 4, 7, 1, 5, 1, 2, 3, 3, 6, 2, 5, 7, 1, 2, 7, 1, 4, 5, 1, 3, 5, 7, 1, 5, 1, 2, 3, 7, 2, 3, 4, 6, 3, 5, 6, 1, 3, 4, 5, 2, 5, 5, 6, 2, 7, 1, 2, 3, 2, 5, 1, 3, 7, 2, 3, 5, 2, 5, 6, 7, 2, 3, 1, 2, 3, 5, 7, 6, 4, 5, 4, 6, 1, 2, 4, 5, 2, 4, 5, 7, 1, 7, 1, 2, 4, 5, 6, 2, 4, 7, 5, 6, 7, 1, 6, 1, 6, 1, 2, 3, 4, 5, 6, 7, 1, 3, 6, 1, 3, 5, 3, 1, 2, 4, 7, 1, 2, 4, 5, 7, 1, 7, 4, 7, 3, 5, 6, 7, 2, 3, 5, 7, 1, 2, 3, 4, 5, 6, 3, 1, 2, 4, 5, 7, 5, 6, 1, 2, 4, 5, 6, 2, 3, 2, 3, 4, 5, 6, 7, 5, 3, 5, 3, 1, 4, 4, 2, 6, 7, 2, 3, 5, 7, 3, 4, 6, 7, 5, 2, 3, 5, 2, 4, 7, 2, 6, 3, 4, 7, 1, 2, 3, 6, 3, 5, 7, 4, 3, 6, 4, 5, 7, 3, 5, 1, 3, 5, 6, 7, 1, 2, 3, 4, 7, 5, 7, 3, 2, 4, 7, 1, 5, 6, 7, 2, 4, 4, 7, 1, 2, 3, 4, 1, 4, 6, 4, 5, 1, 2, 4, 7, 1, 2, 3, 4, 6, 7, 1, 5, 7, 1, 4, 1, 2, 4, 5, 6, 1, 4, 5, 6, 7, 1, 2, 6, 1, 4, 5, 1, 4, 1, 4, 6, 7, 2, 3, 7, 2, 3, 4, 6, 3, 5, 7, 1, 6, 7, 1, 2, 4, 5, 6, 7, 1, 1, 6, 1, 4, 7, 2, 5, 5, 7, 2, 3, 4, 6, 7, 1, 2, 6, 1, 2, 3, 4, 5, 6, 5, 2, 5, 7, 1, 3, 1, 2, 3, 5, 6, 7, 3, 4, 7, 3, 4, 5, 6, 4, 4, 1, 4, 2, 3, 4, 7, 1, 2, 4, 5, 6, 1, 4, 1, 1, 2, 6, 3, 1, 4, 7, 1, 2, 4, 6, 7, 1, 6, 4, 7, 4, 2, 4, 5, 6, 4, 6, 7, 1, 2, 3, 4, 2, 4, 7, 1, 2, 3, 4, 5, 6, 7, 1, 2, 3, 4, 6, 7, 3, 5, 6, 7, 1, 2, 1, 2, 5, 1, 2, 3, 4, 5, 7, 1, 6, 4, 7, 3, 2, 4, 6, 1, 2, 5, 6, 7, 1, 4, 7, 1, 2, 3, 6, 7, 2, 3, 5, 2, 3, 1, 2, 3, 5, 6, 7, 2, 5, 1, 2, 4, 5, 6, 4, 5, 7, 2, 3, 5, 1, 5, 2, 7, 1, 3, 1, 3, 5, 7, 3, 5, 6, 7, 2, 3, 6, 1, 5, 3, 7, 3, 1, 2, 4, 7, 3, 2, 7, 1, 2, 2, 3, 1, 2, 3, 4, 5, 6, 1, 2, 4, 1, 4, 4, 5, 3, 7], \"Freq\": [0.8098353203490634, 0.13497255339151057, 0.7685893578122324, 0.15371787156244648, 0.35405303610017586, 0.5310795541502638, 0.9011434791197961, 0.17717261030187034, 0.7086904412074814, 0.7219770531423392, 0.12032950885705652, 0.5359195358442385, 0.26795976792211923, 0.46239347755915905, 0.2889959234744744, 0.26009633112702696, 0.8966827731543086, 0.11109581056199148, 0.16664371584298723, 0.7221227686529447, 0.2675746007916063, 0.6689365019790157, 0.19706303090300412, 0.3448603040802572, 0.3448603040802572, 0.09853151545150206, 0.7035144136050017, 0.14070288272100032, 0.14070288272100032, 0.11679875559755197, 0.8175912891828638, 0.13292759109278093, 0.13292759109278093, 0.6646379554639046, 0.3044283224264188, 0.532749564246233, 0.1522141612132094, 0.7178196190167264, 0.1794549047541816, 0.6245307035612853, 0.2676560158119794, 0.08921867193732647, 0.3576926488901957, 0.5365389733352935, 0.5647899202992587, 0.11295798405985173, 0.09413165338320978, 0.15061064541313562, 0.056478992029925866, 0.5676806447323135, 0.15138150526195027, 0.21085281090057356, 0.005406482330783937, 0.06487778796940726, 0.773115623199846, 0.1546231246399692, 0.9315416031602559, 0.11647092847133668, 0.11647092847133668, 0.6988255708280201, 0.988890479239161, 0.358224553639812, 0.2046997449370354, 0.15352480870277657, 0.23028721305416483, 0.05117493623425885, 0.2635203305061582, 0.6588008262653955, 0.16393341251377544, 0.032786682502755085, 0.13114673001102034, 0.049180023754132635, 0.5573736025468365, 0.08196670625688772, 0.15247228215340558, 0.07623614107670279, 0.03049445643068112, 0.7471141825516874, 0.11873771859947213, 0.8311640301963049, 0.7176368013123482, 0.17940920032808705, 0.1315300882188211, 0.6576504410941054, 0.043843362739607025, 0.1753734509584281, 0.580401812171532, 0.03054746379850168, 0.36656956558202014, 0.4072448266376233, 0.3215090736612815, 0.04286787648817087, 0.15003756770859805, 0.06430181473225631, 0.3763686621743216, 0.03484895020132607, 0.04181874024159129, 0.05575832032212171, 0.4948550928588302, 0.7856302034122971, 0.13093836723538285, 0.957841194606344, 0.6563429007573713, 0.16408572518934283, 0.08204286259467142, 0.24704301706520143, 0.6793682969293039, 0.9126613977886594, 0.16520840565539388, 0.28911470989693927, 0.4130210141384847, 0.08260420282769694, 0.9634941652373533, 0.8286876598451446, 0.12749040920694532, 0.6513532930615483, 0.04652523521868203, 0.27915141131209215, 0.04652523521868203, 0.7582617748226134, 0.15165235496452267, 0.2984580229969201, 0.20892061609784407, 0.23876641839753607, 0.23876641839753607, 0.06597356448340938, 0.19792069345022814, 0.6597356448340937, 0.15375489408784856, 0.6150195763513943, 0.15375489408784856, 0.5571532415703021, 0.1857177471901007, 0.22286129662812082, 0.7978143200449049, 0.1329690533408175, 0.8474267182575338, 0.10592833978219172, 0.2389258608764253, 0.6212072382787058, 0.09557034435057013, 0.1651138502541583, 0.5778984758895541, 0.24767077538123747, 0.7563464292455345, 0.10804948989221921, 0.11738813527744758, 0.821716946942133, 0.9269778976398975, 0.8721957792914565, 0.08818070233448438, 0.08818070233448438, 0.7054456186758751, 0.1637006247653797, 0.12277546857403476, 0.24555093714806953, 0.45017671810479415, 0.5275135452120924, 0.3516756968080616, 0.15065235512095176, 0.15065235512095176, 0.6026094204838071, 0.6232933351180977, 0.1780838100337422, 0.1780838100337422, 0.4023561770497732, 0.536474902733031, 0.08825850454013295, 0.5295510272407977, 0.26477551362039886, 0.26316103459399987, 0.6579025864849996, 0.41402413749634015, 0.10350603437408504, 0.20701206874817007, 0.2415140802061984, 0.4263457168848625, 0.4263457168848625, 0.10658642922121563, 0.6050538919157094, 0.3025269459578547, 0.07334466969444302, 0.14668933938888604, 0.18336167423610755, 0.2933786787777721, 0.2567063439305506, 0.8984044163710665, 0.9698390985575454, 0.19416983354239262, 0.19416983354239262, 0.09708491677119631, 0.48542458385598153, 0.13116246822098146, 0.13116246822098146, 0.6558123411049073, 0.3576857864270536, 0.613175633874949, 0.9073115178932674, 0.30363039929963537, 0.2277227994747265, 0.15181519964981768, 0.10121013309987845, 0.2277227994747265, 0.08278820795736473, 0.6623056636589179, 0.062091155968023545, 0.18627346790407062, 0.13994718577876525, 0.6064378050413161, 0.2332453096312754, 0.6500225483008502, 0.21667418276695002, 0.7887974220726335, 0.13146623701210558, 0.23737058289595334, 0.11868529144797667, 0.5934264572398833, 0.7573694171005497, 0.10819563101436425, 0.3610071913744752, 0.5054100679242652, 0.07220143827489503, 0.7174119744946883, 0.08967649681183604, 0.08967649681183604, 0.7598060249653695, 0.1519612049930739, 0.9692407942177743, 0.8728455141311819, 0.1712179738234915, 0.21402246727936436, 0.6420674018380931, 0.5350861452402624, 0.4013146089301968, 0.1335623317043903, 0.1335623317043903, 0.6678116585219516, 0.17736264656152076, 0.709450586246083, 0.20052249134155645, 0.3342041522359274, 0.46788581313029837, 0.3239380340973985, 0.13883058604174223, 0.3239380340973985, 0.1851074480556563, 0.8400620572619736, 0.11200827430159647, 0.8873171475256735, 0.08592790468754788, 0.2864263489584929, 0.20049844427094504, 0.17185580937509576, 0.2864263489584929, 0.8684264384217946, 0.318370929192962, 0.10612364306432066, 0.5306182153216034, 0.3945029068820772, 0.5260038758427695, 0.179986078331727, 0.719944313326908, 0.16378572543609282, 0.7370357644624177, 0.1780089133720541, 0.7120356534882164, 0.9465165040852984, 0.9032606451149964, 0.08922709432714838, 0.5353625659628902, 0.2676812829814451, 0.26676699839885437, 0.06669174959971359, 0.13338349919942719, 0.4668422471979951, 0.4200434552967436, 0.07637153732668064, 0.2100217276483718, 0.13365019032169115, 0.03818576866334032, 0.11455730599002097, 0.6219864307394225, 0.056544220976311135, 0.056544220976311135, 0.1696326629289334, 0.11308844195262227, 0.2875078263635204, 0.2012554784544643, 0.23000626109081634, 0.2587570437271684, 0.1314956187136775, 0.788973712282065, 0.15176481121877486, 0.7588240560938743, 0.21165601572128215, 0.21165601572128215, 0.564416041923419, 0.2891842932467145, 0.6747633509090005, 0.09195882149149621, 0.7816499826777179, 0.09195882149149621, 0.6393401964063911, 0.302845356192501, 0.033649484021389, 0.6207381345137228, 0.04138254230091486, 0.289677796106404, 0.13221601034928954, 0.1762880137990527, 0.6170080482966844, 0.08814400689952635, 0.551558299426615, 0.4289897884429228, 0.3372490331765216, 0.14453529993279499, 0.48178433310931656, 0.048178433310931655, 0.19262611320644818, 0.4334087547145084, 0.19262611320644818, 0.14446958490483613, 0.13274443514249093, 0.13274443514249093, 0.6637221757124546, 0.06246012220994391, 0.24984048883977564, 0.1873803666298317, 0.4996809776795513, 0.15139276755258113, 0.7569638377629057, 0.42494145644848513, 0.5311768205606064, 0.05511481249624972, 0.8818369999399955, 0.15204826980801217, 0.6842172141360547, 0.15204826980801217, 0.8873174251086224, 0.8821284695582963, 0.1752306338525838, 0.1752306338525838, 0.5256919015577515, 0.9465676841663456, 0.1760235078500965, 0.704094031400386, 0.5603272112596294, 0.2801636056298147, 0.07640825608085855, 0.08489806231206505, 0.041809829760241495, 0.9198162547253129, 0.2672628851179993, 0.6681572127949983, 0.4378953294072069, 0.4962813733281678, 0.05838604392096092, 0.8883118560365163, 0.17736292008781396, 0.7094516803512558, 0.17824658487626185, 0.7129863395050474, 0.12028060878631268, 0.08018707252420845, 0.6815901164557718, 0.08018707252420845, 0.1242870279750285, 0.18643054196254275, 0.06214351398751425, 0.6214351398751424, 0.1504996215421818, 0.752498107710909, 0.08926207490424007, 0.5355724494254405, 0.23803219974464018, 0.08926207490424007, 0.059508049936160046, 0.27580129842867307, 0.1608840907500593, 0.5516025968573461, 0.11799497204097324, 0.5899748602048662, 0.11799497204097324, 0.7184687072036015, 0.17961717680090036, 0.35735848938445286, 0.5360377340766792, 0.2193967590639829, 0.1371229744149893, 0.16454756929798717, 0.24682135394698076, 0.10969837953199145, 0.08227378464899358, 0.054849189765995725, 0.3286951673455038, 0.1643475836727519, 0.49304275101825573, 0.018680783875182575, 0.840635274383216, 0.13076548712627803, 0.9139912722443172, 0.14185441915396335, 0.14185441915396335, 0.2837088383079267, 0.49649046703887173, 0.3413580133159547, 0.09309763999526037, 0.12413018666034717, 0.3568742866484981, 0.07758136666271698, 0.4728624981286607, 0.4728624981286607, 0.3027961244616429, 0.6055922489232858, 0.6993241345500122, 0.17483103363750305, 0.17529105258124014, 0.7011642103249606, 0.055165706354553506, 0.6068227699000885, 0.1930799722409373, 0.11033141270910701, 0.08166499980329207, 0.16332999960658415, 0.36749249911481435, 0.16332999960658415, 0.08166499980329207, 0.12249749970493812, 0.8966975884042161, 0.05582577642390263, 0.11165155284780526, 0.22330310569561052, 0.11165155284780526, 0.44660621139122103, 0.7068555468038586, 0.17671388670096466, 0.16909208475373821, 0.5636402825124607, 0.16909208475373821, 0.05636402825124607, 0.05636402825124607, 0.5880597506606263, 0.35283585039637577, 0.5540062107514498, 0.13850155268786246, 0.09233436845857498, 0.09233436845857498, 0.09233436845857498, 0.09233436845857498, 0.8821255405080103, 0.7338785861395299, 0.2096795960398657, 0.896682083125251, 0.6671221263368883, 0.2501707973763331, 0.9032604330711652, 0.11693325232999481, 0.11693325232999481, 0.7015995139799688, 0.41015938649883976, 0.29297099035631413, 0.05859419807126282, 0.17578259421378847, 0.928301576044949, 0.19209859248116773, 0.09604929624058386, 0.672345073684087, 0.8822150494460808, 0.6245159917405912, 0.062451599174059125, 0.2498063966962365, 0.04902221734828939, 0.7353332602243409, 0.14706665204486818, 0.3044415144467574, 0.6088830288935148, 0.8721845029365676, 0.3546050426833409, 0.5319075640250114, 0.12378759085978118, 0.1547344885747265, 0.6808317497287965, 0.030946897714945295, 0.11718802399010102, 0.5859401199505051, 0.11718802399010102, 0.8684294778399784, 0.8151564046685414, 0.11645091495264877, 0.6463028521203371, 0.28724571205348315, 0.07181142801337079, 0.6994291418970019, 0.23314304729900062, 0.6605558584362838, 0.08256948230453548, 0.02064237057613387, 0.06192711172840161, 0.16513896460907096, 0.25872391488619656, 0.1940429361646474, 0.2910644042469711, 0.1940429361646474, 0.06468097872154914, 0.2627478447802456, 0.6568696119506139, 0.9500586985679025, 0.08067631005449252, 0.04033815502724626, 0.8471012555721714, 0.29131551145481016, 0.09710517048493672, 0.4855258524246836, 0.09710517048493672, 0.07228389292039378, 0.8674067150447254, 0.08076710876860915, 0.8884381964547007, 0.22530305877788515, 0.19311690752390157, 0.4506061175557703, 0.09655845376195078, 0.34881028238512, 0.41857233886214407, 0.20928616943107203, 0.1518173838442171, 0.7590869192210855, 0.1773969492621987, 0.2365292656829316, 0.1773969492621987, 0.4139262149451303, 0.6057209451557817, 0.03365116361976565, 0.03365116361976565, 0.0673023272395313, 0.16825581809882825, 0.0673023272395313, 0.5588859392811366, 0.32601679791399635, 0.0931476565468561, 0.15486213856858255, 0.7743106928429129, 0.510621101549977, 0.16124876891051906, 0.053749589636839686, 0.24187315336577858, 0.026874794818419843, 0.11803166949153035, 0.11803166949153035, 0.37095667554480966, 0.11803166949153035, 0.25292500605327933, 0.15259624967936494, 0.15259624967936494, 0.6103849987174598, 0.1801323964193603, 0.6304633874677611, 0.1801323964193603, 0.9273232006007394, 0.9032492031969782, 0.3217634672280241, 0.5265220372822212, 0.029251224293456737, 0.08775367288037021, 0.9583573942041979, 0.7319659218672082, 0.20913312053348806, 0.244296095183798, 0.0488592190367596, 0.488592190367596, 0.1465776571102788, 0.39905650775339346, 0.19952825387669673, 0.39905650775339346, 0.6850305817504477, 0.09786151167863538, 0.09786151167863538, 0.3893458849515407, 0.06056491543690633, 0.01730426155340181, 0.06921704621360723, 0.43260653883504524, 0.01730426155340181, 0.8661831627088755, 0.673476947038812, 0.2693907788155248, 0.9622683395414566, 0.8093535246728407, 0.13489225411214012, 0.607547239745064, 0.303773619872532, 0.6593152179442247, 0.26372608717768986, 0.3245876953597699, 0.4868815430396548, 0.040573461919971236, 0.08114692383994247, 0.040573461919971236, 0.24697838082651077, 0.5762828885951918, 0.08232612694217026, 0.09587031434320067, 0.22050172298936155, 0.057522188605920406, 0.39306828880712275, 0.12463140864616087, 0.10545734577752075, 0.926135384671597, 0.210478815434387, 0.1052394077171935, 0.631436446303161, 0.06749316552180713, 0.9111577345443963, 0.2765629842640233, 0.09877249438000832, 0.059263496628004994, 0.07901799550400665, 0.3753354786440316, 0.09877249438000832, 0.5649146002875934, 0.35307162517974594, 0.07061432503594918, 0.6875431798568608, 0.18334484796182954, 0.045836211990457384, 0.045836211990457384, 0.9032608727097187, 0.9784990988900895, 0.13556598079287766, 0.8133958847572659, 0.7583173189636415, 0.1516634637927283, 0.8923099723321972, 0.06373642659515694, 0.42555479249688694, 0.11348127799916985, 0.25533287549813216, 0.11348127799916985, 0.08511095849937739, 0.7683166782487172, 0.22597549360256386, 0.9011433673192578, 0.08895844600078946, 0.2668753380023684, 0.6227091220055263, 0.9150457878115097, 0.13433219706582253, 0.5373287882632901, 0.26866439413164506, 0.5552085915659979, 0.0489889933734704, 0.1959559734938816, 0.0489889933734704, 0.1469669801204112, 0.35752460206246034, 0.5958743367707673, 0.7536930847102805, 0.21534088134579443, 0.9295650440974862, 0.2420787640469131, 0.09683150561876523, 0.33891026966567833, 0.33891026966567833, 0.6154894264778712, 0.1538723566194678, 0.1538723566194678, 0.5238287529044247, 0.22055947490712616, 0.13784967181695384, 0.13784967181695384, 0.26920324009291363, 0.6057072902090557, 0.06730081002322841, 0.0972472398395719, 0.18565382151190998, 0.3889889593582876, 0.16797250517744236, 0.07072526533787046, 0.053043949003402854, 0.04420329083616904, 0.11100159221427244, 0.14800212295236326, 0.11100159221427244, 0.40700583811899893, 0.14800212295236326, 0.037000530738090814, 0.17645386460418463, 0.23527181947224618, 0.47054363894449236, 0.058817954868061545, 0.3058367900840253, 0.6116735801680506, 0.10613945737736251, 0.31841837213208757, 0.6368367442641751, 0.04307299855400388, 0.19382849349301745, 0.366120487709033, 0.06460949783100582, 0.17229199421601551, 0.15075549493901358, 0.07118406780215028, 0.8542088136258034, 0.7701224835495508, 0.15402449670991017, 0.9492492352265008, 0.21359167755752737, 0.10679583877876368, 0.6407750326725822, 0.333847162537156, 0.333847162537156, 0.0333847162537156, 0.1001541487611468, 0.166923581268578, 0.6992088149694401, 0.11653480249490669, 0.17480220374236002, 0.5564227208671876, 0.08560349551802886, 0.17120699103605772, 0.08560349551802886, 0.12840524327704328, 0.10545391798400114, 0.2636347949600028, 0.5799965489120062, 0.706993568671076, 0.176748392167769, 0.04688444033631397, 0.2578644218497268, 0.04688444033631397, 0.023442220168156985, 0.11721110084078491, 0.5157288436994536, 0.759813591296643, 0.1519627182593286, 0.6862827100111952, 0.19608077428891293, 0.16817191729609096, 0.44845844612290925, 0.3363438345921819, 0.7467063412994406, 0.0829673712554934, 0.1659347425109868, 0.08789250129027708, 0.2636775038708312, 0.5273550077416624, 0.132792744877697, 0.7967564692661819, 0.17523772126367654, 0.7009508850547062, 0.1505111439439588, 0.752555719719794, 0.0842568359551455, 0.168513671910291, 0.3791557617981548, 0.3791557617981548, 0.2621349262000086, 0.0436891543666681, 0.1310674631000043, 0.5679590067666853, 0.15177999681986754, 0.15177999681986754, 0.6071199872794701, 0.8311600946876785, 0.08311600946876785, 0.3048582698938009, 0.6532677212010018, 0.8966874132714944, 0.1527049427434755, 0.1527049427434755, 0.305409885486951, 0.305409885486951, 0.915043209626886, 0.7073650014282595, 0.17684125035706488, 0.21386779940274556, 0.7128926646758185, 0.7069072354927376, 0.21207217064782127, 0.0758309880445105, 0.18957747011127624, 0.22749296413353148, 0.0758309880445105, 0.3412394462002972, 0.0758309880445105, 0.26146235353983893, 0.6275096484956134, 0.10458494141593558, 0.6671215763689735, 0.2501705911383651, 0.11796325525066413, 0.825742786754649, 0.34923458371797333, 0.6984691674359467], \"Term\": [\"acabados\", \"acabados\", \"aceptable\", \"aceptable\", \"acero\", \"acero\", \"adapta\", \"ah\\u00ed\", \"ah\\u00ed\", \"ajusta\", \"ajusta\", \"alg\\u00fan\", \"alg\\u00fan\", \"amazon\", \"amazon\", \"amazon\", \"apenas\", \"art\\u00edculo\", \"art\\u00edculo\", \"art\\u00edculo\", \"asi\", \"asi\", \"as\\u00ed\", \"as\\u00ed\", \"as\\u00ed\", \"as\\u00ed\", \"aunque\", \"aunque\", \"aunque\", \"auriculares\", \"auriculares\", \"ayuda\", \"ayuda\", \"ayuda\", \"a\\u00f1os\", \"a\\u00f1os\", \"a\\u00f1os\", \"bajo\", \"bajo\", \"barato\", \"barato\", \"barato\", \"baratos\", \"baratos\", \"bastante\", \"bastante\", \"bastante\", \"bastante\", \"bastante\", \"bien\", \"bien\", \"bien\", \"bien\", \"bien\", \"bolsita\", \"bolsita\", \"bonita\", \"bonitas\", \"bonitas\", \"bonitas\", \"bonito\", \"bonitos\", \"bonitos\", \"bonitos\", \"bonitos\", \"bonitos\", \"bot\\u00f3n\", \"bot\\u00f3n\", \"buen\", \"buen\", \"buen\", \"buen\", \"buen\", \"buen\", \"buena\", \"buena\", \"buena\", \"buena\", \"bueno\", \"bueno\", \"buscaba\", \"buscaba\", \"cable\", \"cable\", \"cable\", \"cable\", \"cadena\", \"cadena\", \"cadena\", \"caja\", \"caja\", \"caja\", \"caja\", \"caja\", \"calidad\", \"calidad\", \"calidad\", \"calidad\", \"calidad\", \"carga\", \"carga\", \"cargador\", \"casa\", \"casa\", \"casa\", \"caso\", \"caso\", \"cd\", \"cierre\", \"cierre\", \"cierre\", \"cierre\", \"colgante\", \"collar\", \"collar\", \"color\", \"color\", \"color\", \"color\", \"completo\", \"completo\", \"compra\", \"compra\", \"compra\", \"compra\", \"comprado\", \"comprado\", \"comprado\", \"compras\", \"compras\", \"compras\", \"compr\\u00e9\", \"compr\\u00e9\", \"compr\\u00e9\", \"condiciones\", \"condiciones\", \"conectar\", \"conectar\", \"consola\", \"consola\", \"consola\", \"contenta\", \"contenta\", \"contenta\", \"contento\", \"contento\", \"correctamente\", \"correctamente\", \"corta\", \"cuello\", \"cuidado\", \"cuidado\", \"cuidado\", \"cumple\", \"cumple\", \"cumple\", \"cumple\", \"c\\u00f3digo\", \"c\\u00f3digo\", \"decepcionado\", \"decepcionado\", \"decepcionado\", \"decepci\\u00f3n\", \"decepci\\u00f3n\", \"decepci\\u00f3n\", \"dedo\", \"dedo\", \"deja\", \"deja\", \"deja\", \"dejado\", \"dejado\", \"demasiado\", \"demasiado\", \"demasiado\", \"demasiado\", \"dentro\", \"dentro\", \"dentro\", \"desear\", \"desear\", \"despu\\u00e9s\", \"despu\\u00e9s\", \"despu\\u00e9s\", \"despu\\u00e9s\", \"despu\\u00e9s\", \"detalle\", \"devolver\", \"devuelto\", \"devuelto\", \"devuelto\", \"devuelto\", \"dicen\", \"dicen\", \"dicen\", \"dise\\u00f1o\", \"dise\\u00f1o\", \"divertido\", \"dos\", \"dos\", \"dos\", \"dos\", \"dos\", \"d\\u00eda\", \"d\\u00eda\", \"d\\u00eda\", \"d\\u00eda\", \"d\\u00edas\", \"d\\u00edas\", \"d\\u00edas\", \"elegante\", \"elegante\", \"encajan\", \"encajan\", \"encanta\", \"encanta\", \"encanta\", \"encantada\", \"encantada\", \"encantado\", \"encantado\", \"encantado\", \"encant\\u00f3\", \"encant\\u00f3\", \"encant\\u00f3\", \"enga\\u00f1o\", \"enga\\u00f1o\", \"enseguida\", \"entra\", \"entrega\", \"entrega\", \"entrega\", \"entregado\", \"entregado\", \"entretenido\", \"entretenido\", \"entretenido\", \"enviaron\", \"enviaron\", \"envio\", \"envio\", \"envio\", \"env\\u00edo\", \"env\\u00edo\", \"env\\u00edo\", \"env\\u00edo\", \"espa\\u00f1ol\", \"espa\\u00f1ol\", \"espa\\u00f1ola\", \"esperaba\", \"esperaba\", \"esperaba\", \"esperaba\", \"esperaba\", \"esperando\", \"esperar\", \"esperar\", \"esperar\", \"euros\", \"euros\", \"exactamente\", \"exactamente\", \"expectativas\", \"expectativas\", \"familia\", \"familia\", \"fatal\", \"fea\", \"fin\", \"fin\", \"fin\", \"forma\", \"forma\", \"forma\", \"forma\", \"foto\", \"foto\", \"foto\", \"foto\", \"foto\", \"foto\", \"fotos\", \"fotos\", \"fotos\", \"fotos\", \"fotos\", \"funciona\", \"funciona\", \"funciona\", \"funciona\", \"funcionar\", \"funcionar\", \"funci\\u00f3n\", \"funci\\u00f3n\", \"funda\", \"funda\", \"funda\", \"f\\u00e1cilmente\", \"f\\u00e1cilmente\", \"gracias\", \"gracias\", \"gracias\", \"grande\", \"grande\", \"grande\", \"grandes\", \"grandes\", \"grandes\", \"gusta\", \"gusta\", \"gusta\", \"gusta\", \"gustado\", \"gustado\", \"gusto\", \"gusto\", \"gusto\", \"gusto\", \"hace\", \"hace\", \"hace\", \"hace\", \"hacen\", \"hacen\", \"hacen\", \"hijo\", \"hijo\", \"hijo\", \"hijo\", \"hola\", \"hola\", \"horas\", \"horas\", \"igual\", \"igual\", \"imagen\", \"imagen\", \"imagen\", \"ingles\", \"ingl\\u00e9s\", \"interesante\", \"interesante\", \"interesante\", \"italiano\", \"juegazo\", \"juegazo\", \"juego\", \"juego\", \"juego\", \"juego\", \"juegos\", \"juegos\", \"jugando\", \"jugando\", \"jugar\", \"jugar\", \"jugar\", \"juguete\", \"junto\", \"junto\", \"lamentable\", \"lamentable\", \"llegado\", \"llegado\", \"llegado\", \"llegado\", \"llegar\", \"llegar\", \"llegar\", \"llegar\", \"llegaron\", \"llegaron\", \"llego\", \"llego\", \"llego\", \"llego\", \"llego\", \"lleg\\u00f3\", \"lleg\\u00f3\", \"lleg\\u00f3\", \"lleva\", \"lleva\", \"lleva\", \"llevas\", \"llevas\", \"luces\", \"luces\", \"mal\", \"mal\", \"mal\", \"mal\", \"mal\", \"mal\", \"mal\", \"mala\", \"mala\", \"mala\", \"mando\", \"mando\", \"mando\", \"mandos\", \"mano\", \"mano\", \"mano\", \"mano\", \"mas\", \"mas\", \"mas\", \"mas\", \"mas\", \"materiales\", \"materiales\", \"mayor\", \"mayor\", \"media\", \"media\", \"medio\", \"medio\", \"mejor\", \"mejor\", \"mejor\", \"mejor\", \"menos\", \"menos\", \"menos\", \"menos\", \"menos\", \"menos\", \"merece\", \"meses\", \"meses\", \"meses\", \"meses\", \"meses\", \"mientras\", \"mientras\", \"mismo\", \"mismo\", \"mismo\", \"mismo\", \"mismo\", \"modo\", \"modo\", \"momento\", \"momento\", \"momento\", \"momento\", \"momento\", \"momento\", \"mont\\u00f3n\", \"mucha\", \"mucha\", \"much\\u00edsimo\", \"mujer\", \"mujer\", \"negra\", \"ninguna\", \"ninguna\", \"ninguna\", \"ning\\u00fan\", \"ning\\u00fan\", \"ning\\u00fan\", \"ning\\u00fan\", \"nintendo\", \"ni\\u00f1as\", \"ni\\u00f1as\", \"ni\\u00f1as\", \"ni\\u00f1os\", \"nuevo\", \"nuevo\", \"nuevo\", \"nunca\", \"nunca\", \"nunca\", \"one\", \"one\", \"opinar\", \"opini\\u00f3n\", \"opini\\u00f3n\", \"original\", \"original\", \"original\", \"original\", \"originales\", \"originales\", \"originales\", \"pandora\", \"pantalla\", \"pantalla\", \"paquete\", \"paquete\", \"paquete\", \"par\", \"par\", \"parece\", \"parece\", \"parece\", \"parece\", \"parece\", \"parte\", \"parte\", \"parte\", \"parte\", \"parte\", \"pasado\", \"pasado\", \"pc\", \"pedido\", \"pedido\", \"pedido\", \"pedir\", \"pedir\", \"pedir\", \"pedir\", \"ped\\u00ed\", \"ped\\u00ed\", \"pega\", \"pega\", \"pena\", \"pena\", \"pena\", \"pena\", \"pendientes\", \"pendientes\", \"pendientes\", \"pens\\u00e9\", \"pens\\u00e9\", \"peque\\u00f1a\", \"peque\\u00f1a\", \"peque\\u00f1a\", \"peque\\u00f1a\", \"peque\\u00f1o\", \"peque\\u00f1o\", \"peque\\u00f1o\", \"peque\\u00f1o\", \"peque\\u00f1o\", \"peque\\u00f1o\", \"peque\\u00f1os\", \"peque\\u00f1os\", \"peque\\u00f1os\", \"perdi\\u00f3\", \"perdi\\u00f3\", \"perfectamente\", \"perfectamente\", \"perfectamente\", \"perfectamente\", \"perfectamente\", \"perfecto\", \"perfecto\", \"perfecto\", \"perfecto\", \"perfecto\", \"perlas\", \"perlas\", \"perlas\", \"persona\", \"persona\", \"persona\", \"piedras\", \"piel\", \"plata\", \"plata\", \"plata\", \"plata\", \"poca\", \"poder\", \"poder\", \"pone\", \"pone\", \"pone\", \"pone\", \"poner\", \"poner\", \"poner\", \"pongo\", \"pongo\", \"pongo\", \"precio\", \"precio\", \"precio\", \"precio\", \"precio\", \"precio\", \"preciosa\", \"precioso\", \"precioso\", \"presentaci\\u00f3n\", \"primer\", \"primer\", \"primera\", \"primera\", \"primero\", \"primero\", \"problema\", \"problema\", \"problema\", \"problema\", \"problema\", \"problemas\", \"problemas\", \"problemas\", \"producto\", \"producto\", \"producto\", \"producto\", \"producto\", \"producto\", \"productos\", \"pronto\", \"pronto\", \"pronto\", \"ps\", \"ps\", \"puede\", \"puede\", \"puede\", \"puede\", \"puede\", \"puede\", \"puedes\", \"puedes\", \"puedes\", \"puedo\", \"puedo\", \"puedo\", \"puedo\", \"puesta\", \"pulsera\", \"pulseras\", \"pulseras\", \"p\\u00e9simo\", \"p\\u00e9simo\", \"q\", \"q\", \"queda\", \"queda\", \"queda\", \"queda\", \"queda\", \"quedan\", \"quedan\", \"rapidez\", \"rapido\", \"rapido\", \"rapido\", \"realidad\", \"recibido\", \"recibido\", \"recibido\", \"regalo\", \"regalo\", \"regalo\", \"regalo\", \"regalo\", \"relaci\\u00f3n\", \"relaci\\u00f3n\", \"rompi\\u00f3\", \"rompi\\u00f3\", \"rosa\", \"r\\u00e1pido\", \"r\\u00e1pido\", \"r\\u00e1pido\", \"r\\u00e1pido\", \"seg\\u00fan\", \"seg\\u00fan\", \"seg\\u00fan\", \"ser\", \"ser\", \"ser\", \"ser\", \"servicio\", \"servicio\", \"servicio\", \"si\", \"si\", \"si\", \"si\", \"si\", \"si\", \"si\", \"sido\", \"sido\", \"sido\", \"sido\", \"sido\", \"sido\", \"siempre\", \"siempre\", \"siempre\", \"siempre\", \"siendo\", \"siendo\", \"sigue\", \"sigue\", \"sigue\", \"solo\", \"solo\", \"solo\", \"solo\", \"solo\", \"solo\", \"sonido\", \"sonido\", \"sorpresa\", \"sorpresa\", \"switch\", \"tacto\", \"tacto\", \"tacto\", \"tal\", \"tal\", \"tal\", \"tal\", \"tal\", \"tama\\u00f1o\", \"tama\\u00f1o\", \"tama\\u00f1o\", \"tan\", \"tan\", \"tan\", \"tan\", \"tan\", \"tener\", \"tener\", \"tener\", \"tenia\", \"tenia\", \"tiempo\", \"tiempo\", \"tiempo\", \"tiempo\", \"tiempo\", \"tiempo\", \"tiendas\", \"tiendas\", \"toda\", \"toda\", \"todas\", \"todas\", \"todas\", \"todav\\u00eda\", \"todav\\u00eda\", \"todav\\u00eda\", \"totalmente\", \"totalmente\", \"totalmente\", \"transporte\", \"transporte\", \"tra\\u00eda\", \"tra\\u00eda\", \"usar\", \"usar\", \"uso\", \"uso\", \"uso\", \"uso\", \"va\", \"va\", \"va\", \"va\", \"valen\", \"valen\", \"valen\", \"van\", \"van\", \"ve\", \"ve\", \"ven\", \"vendedor\", \"vendedor\", \"vendedor\", \"vendedor\", \"venia\", \"venido\", \"venido\", \"ven\\u00eda\", \"ven\\u00eda\", \"versi\\u00f3n\", \"versi\\u00f3n\", \"vez\", \"vez\", \"vez\", \"vez\", \"vez\", \"vez\", \"viene\", \"viene\", \"viene\", \"vienen\", \"vienen\", \"voy\", \"voy\", \"\\u00fanica\", \"\\u00fanica\"]}, \"R\": 30, \"lambda.step\": 0.01, \"plot.opts\": {\"xlab\": \"PC1\", \"ylab\": \"PC2\"}, \"topic.order\": [2, 7, 5, 3, 6, 4, 1]};\n",
              "\n",
              "function LDAvis_load_lib(url, callback){\n",
              "  var s = document.createElement('script');\n",
              "  s.src = url;\n",
              "  s.async = true;\n",
              "  s.onreadystatechange = s.onload = callback;\n",
              "  s.onerror = function(){console.warn(\"failed to load library \" + url);};\n",
              "  document.getElementsByTagName(\"head\")[0].appendChild(s);\n",
              "}\n",
              "\n",
              "if(typeof(LDAvis) !== \"undefined\"){\n",
              "   // already loaded: just create the visualization\n",
              "   !function(LDAvis){\n",
              "       new LDAvis(\"#\" + \"ldavis_el1041400089233015922607718182\", ldavis_el1041400089233015922607718182_data);\n",
              "   }(LDAvis);\n",
              "}else if(typeof define === \"function\" && define.amd){\n",
              "   // require.js is available: use it to load d3/LDAvis\n",
              "   require.config({paths: {d3: \"https://cdnjs.cloudflare.com/ajax/libs/d3/3.5.5/d3.min\"}});\n",
              "   require([\"d3\"], function(d3){\n",
              "      window.d3 = d3;\n",
              "      LDAvis_load_lib(\"https://cdn.rawgit.com/bmabey/pyLDAvis/files/ldavis.v1.0.0.js\", function(){\n",
              "        new LDAvis(\"#\" + \"ldavis_el1041400089233015922607718182\", ldavis_el1041400089233015922607718182_data);\n",
              "      });\n",
              "    });\n",
              "}else{\n",
              "    // require.js not available: dynamically load d3 & LDAvis\n",
              "    LDAvis_load_lib(\"https://cdnjs.cloudflare.com/ajax/libs/d3/3.5.5/d3.min.js\", function(){\n",
              "         LDAvis_load_lib(\"https://cdn.rawgit.com/bmabey/pyLDAvis/files/ldavis.v1.0.0.js\", function(){\n",
              "                 new LDAvis(\"#\" + \"ldavis_el1041400089233015922607718182\", ldavis_el1041400089233015922607718182_data);\n",
              "            })\n",
              "         });\n",
              "}\n",
              "</script>"
            ],
            "text/plain": [
              "<IPython.core.display.HTML object>"
            ]
          },
          "metadata": {
            "tags": []
          },
          "execution_count": 27
        }
      ]
    }
  ]
}