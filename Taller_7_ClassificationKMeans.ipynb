{
  "nbformat": 4,
  "nbformat_minor": 0,
  "metadata": {
    "kernelspec": {
      "display_name": "Python 3",
      "language": "python",
      "name": "python3"
    },
    "language_info": {
      "codemirror_mode": {
        "name": "ipython",
        "version": 3
      },
      "file_extension": ".py",
      "mimetype": "text/x-python",
      "name": "python",
      "nbconvert_exporter": "python",
      "pygments_lexer": "ipython3",
      "version": "3.7.4"
    },
    "colab": {
      "name": "Taller 7 - ClassificationKMeans.ipynb",
      "provenance": [],
      "collapsed_sections": [
        "4pouei0qwEeQ"
      ]
    }
  },
  "cells": [
    {
      "cell_type": "markdown",
      "metadata": {
        "id": "xPkGo40bwEdh"
      },
      "source": [
        "<img src='https://encrypted-tbn0.gstatic.com/images?q=tbn%3AANd9GcQ-VfNtOyJbsaxu43Kztf_cv1mgBG6ZIQZEVw&usqp=CAU'>\n",
        "\n",
        "# Procesamiento de Lenguage Natural\n",
        "\n",
        "## Taller #7: Clasificación y Agrupación\n",
        "`Fecha de entrega: Octubre 31, 2020. \n",
        "\n",
        "`Modo de entrega: Subir link de GitHub al aula virtual.`"
      ]
    },
    {
      "cell_type": "code",
      "metadata": {
        "id": "xBT5uZxDwEdi"
      },
      "source": [
        "import re\n",
        "import json\n",
        "import numpy as np\n",
        "import json\n",
        "import pandas as pd\n",
        "\n",
        "from nltk.corpus import stopwords\n",
        "from sklearn.model_selection import train_test_split\n",
        "from sklearn.feature_extraction.text import TfidfVectorizer\n",
        "\n",
        "from sklearn.linear_model import LogisticRegression\n",
        "from sklearn.naive_bayes import MultinomialNB\n",
        "\n",
        "from sklearn.metrics import accuracy_score, f1_score\n",
        "from sklearn.metrics import precision_score, recall_score\n",
        "from sklearn.metrics import roc_curve\n",
        "from sklearn.metrics import confusion_matrix, classification_report\n",
        "\n",
        "import matplotlib.pyplot as plt\n",
        "from sklearn.metrics import plot_confusion_matrix\n",
        "\n",
        "from sklearn.neighbors import NearestNeighbors\n",
        "from sklearn.cluster import KMeans\n",
        "from sklearn.decomposition import PCA\n",
        "\n",
        "import matplotlib.pyplot as plt\n",
        "import plotly.graph_objs as go\n",
        "from plotly.offline import iplot"
      ],
      "execution_count": 136,
      "outputs": []
    },
    {
      "cell_type": "code",
      "metadata": {
        "id": "J_-owtd7wYQe",
        "outputId": "a2d4c861-7ed8-47e7-cc57-c731e2be5b62",
        "colab": {
          "resources": {
            "http://localhost:8080/nbextensions/google.colab/files.js": {
              "data": "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",
              "ok": true,
              "headers": [
                [
                  "content-type",
                  "application/javascript"
                ]
              ],
              "status": 200,
              "status_text": ""
            }
          },
          "base_uri": "https://localhost:8080/",
          "height": 89
        }
      },
      "source": [
        "from google.colab import files\n",
        "\n",
        "uploaded = files.upload()\n",
        "\n",
        "for fn in uploaded.keys():\n",
        "  print('User uploaded file \"{name}\" with length {length} bytes'.format(\n",
        "      name=fn, length=len(uploaded[fn])))"
      ],
      "execution_count": 2,
      "outputs": [
        {
          "output_type": "display_data",
          "data": {
            "text/html": [
              "\n",
              "     <input type=\"file\" id=\"files-13a2c225-9f08-4737-b5fc-418776d0705d\" name=\"files[]\" multiple disabled\n",
              "        style=\"border:none\" />\n",
              "     <output id=\"result-13a2c225-9f08-4737-b5fc-418776d0705d\">\n",
              "      Upload widget is only available when the cell has been executed in the\n",
              "      current browser session. Please rerun this cell to enable.\n",
              "      </output>\n",
              "      <script src=\"/nbextensions/google.colab/files.js\"></script> "
            ],
            "text/plain": [
              "<IPython.core.display.HTML object>"
            ]
          },
          "metadata": {
            "tags": []
          }
        },
        {
          "output_type": "stream",
          "text": [
            "Saving reviews_vidjew_es.csv to reviews_vidjew_es.csv\n",
            "User uploaded file \"reviews_vidjew_es.csv\" with length 232489 bytes\n"
          ],
          "name": "stdout"
        }
      ]
    },
    {
      "cell_type": "code",
      "metadata": {
        "id": "I6LV1WfHwEdl",
        "outputId": "445991a9-c513-481c-f185-40984facb21c",
        "colab": {
          "base_uri": "https://localhost:8080/",
          "height": 479
        }
      },
      "source": [
        "# Cargar datos path = 'archivos/reviews_vidjew_es.csv'\n",
        "data = pd.read_csv('reviews_vidjew_es.csv')\n",
        "data.head()"
      ],
      "execution_count": 24,
      "outputs": [
        {
          "output_type": "execute_result",
          "data": {
            "text/html": [
              "<div>\n",
              "<style scoped>\n",
              "    .dataframe tbody tr th:only-of-type {\n",
              "        vertical-align: middle;\n",
              "    }\n",
              "\n",
              "    .dataframe tbody tr th {\n",
              "        vertical-align: top;\n",
              "    }\n",
              "\n",
              "    .dataframe thead th {\n",
              "        text-align: right;\n",
              "    }\n",
              "</style>\n",
              "<table border=\"1\" class=\"dataframe\">\n",
              "  <thead>\n",
              "    <tr style=\"text-align: right;\">\n",
              "      <th></th>\n",
              "      <th>review_id</th>\n",
              "      <th>product_id</th>\n",
              "      <th>reviewer_id</th>\n",
              "      <th>stars</th>\n",
              "      <th>review_body</th>\n",
              "      <th>review_title</th>\n",
              "      <th>language</th>\n",
              "      <th>product_category</th>\n",
              "    </tr>\n",
              "  </thead>\n",
              "  <tbody>\n",
              "    <tr>\n",
              "      <th>0</th>\n",
              "      <td>es_0825565</td>\n",
              "      <td>product_es_0370490</td>\n",
              "      <td>reviewer_es_0174781</td>\n",
              "      <td>3</td>\n",
              "      <td>Buen. Buena calidad, y buena presentación.</td>\n",
              "      <td>Contenta</td>\n",
              "      <td>es</td>\n",
              "      <td>jewelry</td>\n",
              "    </tr>\n",
              "    <tr>\n",
              "      <th>1</th>\n",
              "      <td>es_0227934</td>\n",
              "      <td>product_es_0354224</td>\n",
              "      <td>reviewer_es_0411613</td>\n",
              "      <td>3</td>\n",
              "      <td>Un producto a perfecto, para salir de casa con...</td>\n",
              "      <td>Versatilidad</td>\n",
              "      <td>es</td>\n",
              "      <td>video_games</td>\n",
              "    </tr>\n",
              "    <tr>\n",
              "      <th>2</th>\n",
              "      <td>es_0468601</td>\n",
              "      <td>product_es_0665460</td>\n",
              "      <td>reviewer_es_0348315</td>\n",
              "      <td>1</td>\n",
              "      <td>No funciona con Nintendo Switch. No hay forma ...</td>\n",
              "      <td>Decepción absoluta</td>\n",
              "      <td>es</td>\n",
              "      <td>video_games</td>\n",
              "    </tr>\n",
              "    <tr>\n",
              "      <th>3</th>\n",
              "      <td>es_0814494</td>\n",
              "      <td>product_es_0692692</td>\n",
              "      <td>reviewer_es_0951508</td>\n",
              "      <td>5</td>\n",
              "      <td>Recomendado, los utilizo para pc y no me dan n...</td>\n",
              "      <td>Auriculares Pecham ps4</td>\n",
              "      <td>es</td>\n",
              "      <td>video_games</td>\n",
              "    </tr>\n",
              "    <tr>\n",
              "      <th>4</th>\n",
              "      <td>es_0206329</td>\n",
              "      <td>product_es_0728826</td>\n",
              "      <td>reviewer_es_0493255</td>\n",
              "      <td>4</td>\n",
              "      <td>El cable funciona bien podria ser un poco mas ...</td>\n",
              "      <td>Perfecto</td>\n",
              "      <td>es</td>\n",
              "      <td>video_games</td>\n",
              "    </tr>\n",
              "  </tbody>\n",
              "</table>\n",
              "</div>"
            ],
            "text/plain": [
              "    review_id          product_id  ... language  product_category\n",
              "0  es_0825565  product_es_0370490  ...       es           jewelry\n",
              "1  es_0227934  product_es_0354224  ...       es       video_games\n",
              "2  es_0468601  product_es_0665460  ...       es       video_games\n",
              "3  es_0814494  product_es_0692692  ...       es       video_games\n",
              "4  es_0206329  product_es_0728826  ...       es       video_games\n",
              "\n",
              "[5 rows x 8 columns]"
            ]
          },
          "metadata": {
            "tags": []
          },
          "execution_count": 24
        }
      ]
    },
    {
      "cell_type": "markdown",
      "metadata": {
        "id": "EBK4p7wfwEdn"
      },
      "source": [
        "# Parte 1: Clasificación"
      ]
    },
    {
      "cell_type": "markdown",
      "metadata": {
        "id": "qCeskXHLwEdo"
      },
      "source": [
        "### `[6 pts]` Punto 1: Dividir el conjunto de datos en entrenamiento y prueba"
      ]
    },
    {
      "cell_type": "code",
      "metadata": {
        "id": "kMVYsudnwEdo"
      },
      "source": [
        "from sklearn.preprocessing import OrdinalEncoder\n",
        "X = data[['review_body']]\n",
        "encoder = OrdinalEncoder()\n",
        "data['Categ'] = encoder.fit_transform(data[['product_category']])\n",
        "y = data['Categ'].values"
      ],
      "execution_count": 31,
      "outputs": []
    },
    {
      "cell_type": "code",
      "metadata": {
        "id": "JdeRuagxzgb3"
      },
      "source": [
        "\n",
        "X_train, X_test, y_train, y_test = train_test_split(\n",
        "    X, y, random_state=1234, test_size = 0.3, stratify=y)"
      ],
      "execution_count": 118,
      "outputs": []
    },
    {
      "cell_type": "markdown",
      "metadata": {
        "id": "y29HV9qnwEdt"
      },
      "source": [
        "###  `[6 pts]` Punto 2: Hacer pre-procesamiento del texto"
      ]
    },
    {
      "cell_type": "code",
      "metadata": {
        "id": "3nuxnmgHwEdt"
      },
      "source": [
        "stopwords_sp = stopwords.words('spanish')\n",
        "\n",
        "def pre_procesado(texto):\n",
        "    texto = texto.lower()\n",
        "    texto = re.sub(r\"[\\W\\d_]+\", \" \", texto)\n",
        "    texto = \" \".join([palabra for palabra in texto.split() if palabra not in stopwords_sp])\n",
        "    return texto\n",
        "\n",
        "tfidf_vect = TfidfVectorizer(preprocessor=pre_procesado)"
      ],
      "execution_count": 119,
      "outputs": []
    },
    {
      "cell_type": "code",
      "metadata": {
        "id": "Yi0KeLGLwEdv"
      },
      "source": [
        "X_train1 = tfidf_vect.fit_transform(X_train.review_body.values)\n",
        "y_train = y_train\n",
        "\n",
        "X_test1 = tfidf_vect.transform(X_test.review_body.values)\n",
        "y_test = y_test"
      ],
      "execution_count": 120,
      "outputs": []
    },
    {
      "cell_type": "markdown",
      "metadata": {
        "id": "frg6NbITwEdx"
      },
      "source": [
        "###  `[6 pts]` Punto 3: Entrenar el modelo\n",
        "Puedes escoger el que quieras: Regresión Logística, Naive-Bayes, SVM, u otro."
      ]
    },
    {
      "cell_type": "code",
      "metadata": {
        "id": "KADrgDV7wEdy",
        "outputId": "1725aa51-5983-4b0c-b748-df6b388681bf",
        "colab": {
          "base_uri": "https://localhost:8080/"
        }
      },
      "source": [
        "nb = MultinomialNB()\n",
        "nb.fit(X_train, y_train)"
      ],
      "execution_count": 68,
      "outputs": [
        {
          "output_type": "execute_result",
          "data": {
            "text/plain": [
              "MultinomialNB(alpha=1.0, class_prior=None, fit_prior=True)"
            ]
          },
          "metadata": {
            "tags": []
          },
          "execution_count": 68
        }
      ]
    },
    {
      "cell_type": "markdown",
      "metadata": {
        "id": "-oUM2dq0wEd4"
      },
      "source": [
        "###  `[6 pts]` Punto 4: Métricas de evaluación\n",
        "Exactitud, precisión y sensibilidad"
      ]
    },
    {
      "cell_type": "code",
      "metadata": {
        "id": "__agxwYuwEd4"
      },
      "source": [
        "# Hacemos las predicciones para los datos de prueba (test)\n",
        "y_nb =nb.predict(X_test)"
      ],
      "execution_count": 59,
      "outputs": []
    },
    {
      "cell_type": "code",
      "metadata": {
        "id": "W8O30R1kwEd6",
        "outputId": "03d5c2ea-f1a7-4cbc-bf16-e01090f75b72",
        "colab": {
          "base_uri": "https://localhost:8080/"
        }
      },
      "source": [
        "metricas = [precision_score, recall_score, f1_score]\n",
        "\n",
        "false_positive_rate, true_positive_rate, thresholds = roc_curve(y_test, y_nb)\n",
        "\n",
        "print(\"Métricas:\\n\")\n",
        "for metrica in metricas:\n",
        "    print(f\"{metrica.__name__}: {metrica(y_test, y_nb):>2.4f}\")  \n",
        "print(f\"accuracy_score: {accuracy_score(y_test, y_nb):>2.4f}\")"
      ],
      "execution_count": 71,
      "outputs": [
        {
          "output_type": "stream",
          "text": [
            "Métricas:\n",
            "\n",
            "precision_score: 0.9071\n",
            "recall_score: 0.8523\n",
            "f1_score: 0.8789\n",
            "accuracy_score: 0.8833\n"
          ],
          "name": "stdout"
        }
      ]
    },
    {
      "cell_type": "markdown",
      "metadata": {
        "id": "kW9X99ONwEd8"
      },
      "source": [
        "###  `[BONUS: 3 pts]` Matriz de confusión"
      ]
    },
    {
      "cell_type": "code",
      "metadata": {
        "id": "4fC1HrcbwEd8",
        "outputId": "5ffb798e-4fc2-4bbd-8650-068bb9b3f8bb",
        "colab": {
          "base_uri": "https://localhost:8080/"
        }
      },
      "source": [
        "print(confusion_matrix(y_test, y_nb))"
      ],
      "execution_count": 65,
      "outputs": [
        {
          "output_type": "stream",
          "text": [
            "[[138  13]\n",
            " [ 22 127]]\n"
          ],
          "name": "stdout"
        }
      ]
    },
    {
      "cell_type": "markdown",
      "metadata": {
        "id": "50fSLucVwEd-"
      },
      "source": [
        "###  `[BONUS: 1 pts]` Términos más importantes de cada categoría"
      ]
    },
    {
      "cell_type": "code",
      "metadata": {
        "id": "nLJ3vFPXwEd_"
      },
      "source": [
        "vocab = {value:key for key, value in tfidf_vect.vocabulary_.items()}"
      ],
      "execution_count": 75,
      "outputs": []
    },
    {
      "cell_type": "code",
      "metadata": {
        "id": "pWjUU-KsE9bs"
      },
      "source": [
        ""
      ],
      "execution_count": null,
      "outputs": []
    },
    {
      "cell_type": "markdown",
      "metadata": {
        "id": "2UoOjgEnEzVd"
      },
      "source": [
        "los terminos más importante para la categoría 0 es decir, video juegos "
      ]
    },
    {
      "cell_type": "code",
      "metadata": {
        "id": "cjeMPey9wEeB",
        "outputId": "65b1a564-2d19-464c-b7b4-98f62179d8b2",
        "colab": {
          "base_uri": "https://localhost:8080/"
        }
      },
      "source": [
        "[(vocab[e[0]], round(e[1],2)) for e in zip(nb.coef_[0].argsort(),sorted(nb.coef_[0]))][-10:]"
      ],
      "execution_count": 83,
      "outputs": [
        {
          "output_type": "execute_result",
          "data": {
            "text/plain": [
              "[('servir', -8.33),\n",
              " ('cristal', -8.33),\n",
              " ('cristales', -8.33),\n",
              " ('cromado', -8.33),\n",
              " ('llamé', -8.33),\n",
              " ('llegan', -8.33),\n",
              " ('penoso', -8.33),\n",
              " ('pendientes', -8.33),\n",
              " ('estrené', -8.33),\n",
              " ('cuarzo', -8.33)]"
            ]
          },
          "metadata": {
            "tags": []
          },
          "execution_count": 83
        }
      ]
    },
    {
      "cell_type": "markdown",
      "metadata": {
        "id": "2I-MY4qcGhWG"
      },
      "source": [
        "os terminos más importante para la categoría 1 es decir, joyerias"
      ]
    },
    {
      "cell_type": "code",
      "metadata": {
        "id": "btsgLrfbwEeD",
        "outputId": "9fca89d2-d959-498b-ab75-19bf90febf2f",
        "colab": {
          "base_uri": "https://localhost:8080/"
        }
      },
      "source": [
        "[(vocab[e[0]], round(e[1],2)) for e in zip(nb.coef_[0].argsort(),sorted(nb.coef_[0]))][:10]"
      ],
      "execution_count": 99,
      "outputs": [
        {
          "output_type": "execute_result",
          "data": {
            "text/plain": [
              "[('hijo', -6.52),\n",
              " ('buen', -6.43),\n",
              " ('jugar', -6.38),\n",
              " ('mando', -6.33),\n",
              " ('precio', -6.29),\n",
              " ('si', -6.28),\n",
              " ('perfecto', -6.14),\n",
              " ('producto', -6.13),\n",
              " ('bien', -5.85),\n",
              " ('juego', -5.73)]"
            ]
          },
          "metadata": {
            "tags": []
          },
          "execution_count": 99
        }
      ]
    },
    {
      "cell_type": "markdown",
      "metadata": {
        "id": "fP8GtVp5wEeF"
      },
      "source": [
        "# Parte 2: Agrupación"
      ]
    },
    {
      "cell_type": "markdown",
      "metadata": {
        "id": "Pmiog6ODwEeF"
      },
      "source": [
        "###  `[6 pts]` Punto 1: Hacer pre-procesamiento del texto"
      ]
    },
    {
      "cell_type": "code",
      "metadata": {
        "id": "Ltko2FOTwEeG"
      },
      "source": [
        "stopwords_sp = stopwords.words('spanish')\n",
        "\n",
        "def pre_procesado(texto):\n",
        "    texto = texto.lower()\n",
        "    texto = re.sub(r\"[\\W\\d_]+\", \" \", texto)\n",
        "    texto = \" \".join([palabra for palabra in texto.split() if palabra not in stopwords_sp])\n",
        "    return texto\n",
        "\n",
        "tfidf_vect = TfidfVectorizer(preprocessor=pre_procesado)"
      ],
      "execution_count": 115,
      "outputs": []
    },
    {
      "cell_type": "code",
      "metadata": {
        "id": "XdgQjG1hG9cF"
      },
      "source": [
        "X_train_2 = pd.DataFrame(X_train1.toarray(), columns=tfidf_vect.get_feature_names())\n",
        "y_train = y_train\n",
        "\n",
        "X_test = tfidf_vect.transform(X_test.review_body.values)\n",
        "y_test = y_test"
      ],
      "execution_count": 122,
      "outputs": []
    },
    {
      "cell_type": "markdown",
      "metadata": {
        "id": "gjI0A5gUwEeI"
      },
      "source": [
        "###  `[6 pts]` Punto 2: Método del codo para determinar $K$"
      ]
    },
    {
      "cell_type": "code",
      "metadata": {
        "id": "RDGdEyHPwEeI",
        "outputId": "1ccf7da7-e911-4bff-9342-5150dfd941e6",
        "colab": {
          "base_uri": "https://localhost:8080/",
          "height": 295
        }
      },
      "source": [
        "ks = []\n",
        "kinertia = []\n",
        "\n",
        "for k in range(1,10):\n",
        "    kmeans = KMeans(n_clusters=k, random_state=1234).fit(X_train_2)\n",
        "    ks.append(k)\n",
        "    kinertia.append(kmeans.inertia_)\n",
        "    \n",
        "plt.xlabel(\"Número de clústers\"); \n",
        "plt.ylabel(\"Inercia\");\n",
        "plt.title('Método del codo')\n",
        "plt.plot(ks,kinertia, 'bx-');"
      ],
      "execution_count": 123,
      "outputs": [
        {
          "output_type": "display_data",
          "data": {
            "image/png": "[encoded data removed]",
            "text/plain": [
              "<Figure size 432x288 with 1 Axes>"
            ]
          },
          "metadata": {
            "tags": [],
            "needs_background": "light"
          }
        }
      ]
    },
    {
      "cell_type": "markdown",
      "metadata": {
        "id": "YmtnUpPHKSIf"
      },
      "source": [
        "No es muy claro el K optimo, se selecciona 5 como k-optimo"
      ]
    },
    {
      "cell_type": "markdown",
      "metadata": {
        "id": "EqSYH4dswEeK"
      },
      "source": [
        "###  `[6 pts]` Punto 3: Entrenar modelo con el $K$ escogido"
      ]
    },
    {
      "cell_type": "code",
      "metadata": {
        "id": "NB6XYP6CwEeK",
        "outputId": "16a69272-6343-444d-ccba-3bd289465d7b",
        "colab": {
          "base_uri": "https://localhost:8080/"
        }
      },
      "source": [
        "k_op = 5\n",
        "model_kmeans = KMeans(n_clusters=k_op, random_state=2805)\n",
        "model_kmeans.fit(X_train_2)"
      ],
      "execution_count": 146,
      "outputs": [
        {
          "output_type": "execute_result",
          "data": {
            "text/plain": [
              "KMeans(algorithm='auto', copy_x=True, init='k-means++', max_iter=300,\n",
              "       n_clusters=5, n_init=10, n_jobs=None, precompute_distances='auto',\n",
              "       random_state=2805, tol=0.0001, verbose=0)"
            ]
          },
          "metadata": {
            "tags": []
          },
          "execution_count": 146
        }
      ]
    },
    {
      "cell_type": "code",
      "metadata": {
        "id": "UyvY93E-wEeM"
      },
      "source": [
        "X_train.loc[:,'cluster'] = model_kmeans.labels_"
      ],
      "execution_count": null,
      "outputs": []
    },
    {
      "cell_type": "code",
      "metadata": {
        "id": "wfZBEm7sKtg-",
        "outputId": "f8a66541-483b-49af-9270-9aa2eb58a620",
        "colab": {
          "base_uri": "https://localhost:8080/",
          "height": 204
        }
      },
      "source": [
        "X_train.tail(5)"
      ],
      "execution_count": 148,
      "outputs": [
        {
          "output_type": "execute_result",
          "data": {
            "text/html": [
              "<div>\n",
              "<style scoped>\n",
              "    .dataframe tbody tr th:only-of-type {\n",
              "        vertical-align: middle;\n",
              "    }\n",
              "\n",
              "    .dataframe tbody tr th {\n",
              "        vertical-align: top;\n",
              "    }\n",
              "\n",
              "    .dataframe thead th {\n",
              "        text-align: right;\n",
              "    }\n",
              "</style>\n",
              "<table border=\"1\" class=\"dataframe\">\n",
              "  <thead>\n",
              "    <tr style=\"text-align: right;\">\n",
              "      <th></th>\n",
              "      <th>review_body</th>\n",
              "      <th>cluster</th>\n",
              "    </tr>\n",
              "  </thead>\n",
              "  <tbody>\n",
              "    <tr>\n",
              "      <th>1</th>\n",
              "      <td>Un producto a perfecto, para salir de casa con...</td>\n",
              "      <td>3</td>\n",
              "    </tr>\n",
              "    <tr>\n",
              "      <th>194</th>\n",
              "      <td>Por el precio está bien, pero son de muy mala ...</td>\n",
              "      <td>2</td>\n",
              "    </tr>\n",
              "    <tr>\n",
              "      <th>321</th>\n",
              "      <td>Se me agrietó la goma original del joystick y ...</td>\n",
              "      <td>4</td>\n",
              "    </tr>\n",
              "    <tr>\n",
              "      <th>504</th>\n",
              "      <td>Muy útil y manejable</td>\n",
              "      <td>4</td>\n",
              "    </tr>\n",
              "    <tr>\n",
              "      <th>468</th>\n",
              "      <td>No hace apenas ruido, y por el precio que tien...</td>\n",
              "      <td>0</td>\n",
              "    </tr>\n",
              "  </tbody>\n",
              "</table>\n",
              "</div>"
            ],
            "text/plain": [
              "                                           review_body  cluster\n",
              "1    Un producto a perfecto, para salir de casa con...        3\n",
              "194  Por el precio está bien, pero son de muy mala ...        2\n",
              "321  Se me agrietó la goma original del joystick y ...        4\n",
              "504                               Muy útil y manejable        4\n",
              "468  No hace apenas ruido, y por el precio que tien...        0"
            ]
          },
          "metadata": {
            "tags": []
          },
          "execution_count": 148
        }
      ]
    },
    {
      "cell_type": "markdown",
      "metadata": {
        "id": "rkY1hDEPwEeO"
      },
      "source": [
        "###  `[BONUS: 3 pts]` Visualización usando PCA"
      ]
    },
    {
      "cell_type": "code",
      "metadata": {
        "id": "g0y1k4YZwEeP",
        "outputId": "a97d1488-7a3a-4763-afca-2b65240df3ef",
        "colab": {
          "base_uri": "https://localhost:8080/",
          "height": 280
        }
      },
      "source": [
        "pca = PCA(n_components=500)\n",
        "pca.fit_transform(X_train_2)\n",
        "\n",
        "plt.plot(np.cumsum(pca.explained_variance_ratio_))\n",
        "plt.xlabel('número de componentes')\n",
        "plt.ylabel('varianza explicada')\n",
        "plt.show()"
      ],
      "execution_count": 149,
      "outputs": [
        {
          "output_type": "display_data",
          "data": {
            "image/png": "[encoded data removed]",
            "text/plain": [
              "<Figure size 432x288 with 1 Axes>"
            ]
          },
          "metadata": {
            "tags": [],
            "needs_background": "light"
          }
        }
      ]
    },
    {
      "cell_type": "code",
      "metadata": {
        "id": "iP3sMw0sL274",
        "outputId": "2c2471bd-d1aa-44c3-974d-d1efcc9e0d6a",
        "colab": {
          "base_uri": "https://localhost:8080/",
          "height": 542
        }
      },
      "source": [
        "pca = PCA(n_components=2)\n",
        "\n",
        "result = pca.fit_transform(X_train_2)\n",
        "result = pd.DataFrame(result)\n",
        "result.columns = ['X', 'Y']\n",
        "result['cluster'] = X_train.cluster.values\n",
        "result['texto'] = X_train.review_body.apply(lambda val: val[:100])\n",
        "\n",
        "trace = go.Scatter(x=result['X'].values,\n",
        "                   y=result['Y'].values,\n",
        "                   text=result['texto'].values,\n",
        "                   mode='markers',\n",
        "                   marker=dict(color=result['cluster'].values)) \n",
        "\n",
        "layout = go.Layout(title=\"PCA\")\n",
        "\n",
        "fig = go.Figure(data=trace, layout=layout)\n",
        "iplot(fig)"
      ],
      "execution_count": 150,
      "outputs": [
        {
          "output_type": "display_data",
          "data": {
            "text/html": [
              "<html>\n",
              "<head><meta charset=\"utf-8\" /></head>\n",
              "<body>\n",
              "    <div>\n",
              "            <script src=\"https://cdnjs.cloudflare.com/ajax/libs/mathjax/2.7.5/MathJax.js?config=TeX-AMS-MML_SVG\"></script><script type=\"text/javascript\">if (window.MathJax) {MathJax.Hub.Config({SVG: {font: \"STIX-Web\"}});}</script>\n",
              "                <script type=\"text/javascript\">window.PlotlyConfig = {MathJaxConfig: 'local'};</script>\n",
              "        <script src=\"https://cdn.plot.ly/plotly-latest.min.js\"></script>    \n",
              "            <div id=\"6cfa57c3-4dfc-40ab-96be-8081340839d7\" class=\"plotly-graph-div\" style=\"height:525px; width:100%;\"></div>\n",
              "            <script type=\"text/javascript\">\n",
              "                \n",
              "                    window.PLOTLYENV=window.PLOTLYENV || {};\n",
              "                    \n",
              "                if (document.getElementById(\"6cfa57c3-4dfc-40ab-96be-8081340839d7\")) {\n",
              "                    Plotly.newPlot(\n",
              "                        '6cfa57c3-4dfc-40ab-96be-8081340839d7',\n",
              "                        [{\"marker\": {\"color\": [1, 3, 4, 3, 3, 3, 3, 1, 4, 3, 2, 4, 4, 4, 3, 4, 1, 1, 1, 4, 0, 4, 0, 0, 1, 4, 0, 4, 2, 0, 4, 3, 4, 2, 4, 3, 2, 4, 0, 4, 4, 1, 3, 3, 3, 3, 4, 3, 4, 3, 4, 4, 2, 4, 4, 3, 4, 4, 1, 4, 2, 4, 2, 4, 4, 3, 3, 4, 4, 4, 0, 4, 2, 4, 3, 4, 3, 4, 4, 4, 2, 0, 4, 4, 0, 4, 4, 4, 3, 4, 3, 4, 3, 2, 4, 4, 1, 3, 3, 3, 2, 2, 1, 4, 3, 1, 4, 2, 1, 4, 4, 3, 2, 3, 1, 3, 1, 2, 0, 4, 4, 3, 4, 4, 4, 0, 4, 4, 0, 3, 1, 0, 4, 2, 1, 2, 1, 4, 2, 0, 4, 1, 4, 4, 3, 3, 4, 4, 4, 2, 4, 4, 4, 4, 3, 2, 4, 3, 4, 4, 4, 3, 4, 4, 0, 0, 4, 4, 4, 4, 4, 2, 4, 0, 2, 4, 4, 4, 4, 2, 3, 4, 4, 4, 4, 3, 2, 0, 4, 4, 4, 4, 4, 3, 3, 1, 4, 3, 2, 3, 2, 4, 2, 4, 1, 2, 4, 4, 0, 0, 3, 4, 0, 4, 4, 4, 2, 3, 3, 4, 4, 4, 3, 4, 4, 3, 3, 4, 0, 4, 0, 2, 4, 4, 4, 4, 3, 4, 4, 4, 4, 0, 4, 4, 4, 4, 3, 3, 3, 1, 4, 4, 3, 3, 4, 0, 4, 4, 4, 0, 4, 3, 4, 4, 2, 4, 2, 3, 4, 4, 4, 3, 3, 3, 2, 4, 4, 3, 3, 1, 2, 4, 4, 4, 3, 4, 4, 4, 2, 4, 4, 0, 4, 3, 4, 3, 4, 2, 4, 3, 3, 3, 0, 4, 3, 4, 0, 0, 0, 1, 2, 4, 4, 2, 4, 4, 4, 3, 1, 4, 4, 3, 1, 4, 4, 4, 4, 4, 4, 1, 3, 2, 3, 4, 1, 4, 3, 4, 4, 3, 3, 4, 4, 4, 4, 4, 4, 4, 3, 4, 4, 4, 4, 1, 3, 0, 4, 2, 4, 4, 1, 4, 2, 4, 4, 3, 2, 4, 0, 3, 4, 3, 4, 3, 4, 4, 4, 4, 4, 4, 0, 3, 4, 1, 4, 1, 0, 4, 4, 4, 2, 3, 4, 3, 3, 4, 1, 1, 4, 4, 4, 4, 3, 2, 4, 3, 0, 4, 1, 2, 4, 4, 4, 3, 3, 4, 2, 3, 2, 0, 3, 3, 4, 4, 4, 4, 2, 4, 2, 3, 3, 4, 4, 0, 0, 1, 3, 4, 2, 0, 4, 3, 1, 1, 4, 3, 1, 3, 4, 4, 2, 4, 4, 4, 2, 2, 4, 4, 4, 3, 4, 4, 4, 4, 4, 0, 4, 4, 4, 4, 4, 4, 2, 1, 0, 3, 4, 4, 0, 4, 3, 4, 4, 3, 3, 4, 4, 0, 4, 1, 3, 2, 0, 4, 4, 2, 0, 4, 4, 0, 4, 4, 4, 2, 2, 3, 4, 2, 2, 4, 4, 3, 4, 0, 1, 0, 3, 4, 4, 4, 1, 4, 2, 4, 4, 4, 3, 1, 4, 4, 2, 4, 4, 0, 4, 4, 1, 4, 4, 0, 3, 4, 4, 4, 0, 0, 4, 3, 4, 4, 3, 3, 4, 4, 3, 3, 3, 3, 4, 4, 4, 3, 3, 3, 4, 4, 2, 4, 4, 3, 0, 4, 4, 2, 4, 4, 3, 3, 0, 4, 4, 1, 4, 4, 1, 0, 3, 4, 0, 3, 1, 2, 4, 4, 4, 3, 4, 0, 4, 4, 2, 4, 4, 4, 3, 2, 3, 4, 4, 4, 4, 1, 2, 3, 4, 4, 4, 4, 0, 3, 4, 2, 0, 2, 4, 4, 4, 4, 3, 2, 4, 3, 2, 4, 4, 0, 3, 4, 4, 4, 4, 4, 4, 3, 4, 4, 3, 4, 4, 4, 2, 4, 4, 4, 4, 3, 3, 4, 4, 3, 4, 0, 1, 2, 3, 2, 2, 1, 0, 4, 3, 0, 4, 1, 4, 3, 2, 0, 0, 4, 4, 4, 4, 0, 3, 4, 4, 3, 4, 3, 3, 4, 4, 4, 4, 3, 2, 4, 4, 0]}, \"mode\": \"markers\", \"text\": [\"Buen. Buena calidad, y buena presentaci\\u00f3n.\", \"Un producto a perfecto, para salir de casa con la Nintendo switch\", \"No funciona con Nintendo Switch. No hay forma de emparejarlo para poder jugar.\", \"Recomendado, los utilizo para pc y no me dan ning\\u00fan problema, se oye bien y te oyen bien\", null, \"\\u00c9s muy bonito pero la empu\\u00f1adura de la espada se rompe f\\u00e1cilmente...\", null, null, null, null, \"A los 15 d\\u00edas dejo de cargar uno de los canales\", null, \"Fue un regalo para mi hermana gamer . Le gust\\u00f3 bastante\", \"Se ve mejor en la foto, un poco decepcionada. La cadena de cuello no es trenzada, la ped\\u00ed marr\\u00f3n y m\", \"Le hemos comprado el juego de tenis de Mario a mi hijo y compramos estas raquetas a ver qu\\u00e9 tal iban\", \"El producto llego en el plazo previsto. La 1a prueba ha funcionado perfectamente. Solo falta que sea\", \"Un enga\\u00f1o. Por la foto pensaba que era un mando para m\\u00f3viles. Y resulta que es s\\u00f3lo un soporte. Eso \", \"La puse 1 mes, dudo que sea cuero... acabo pegajosa y sin olor. El iman esta muy bien pero se te pue\", \"Est\\u00e1 bien por su precio\", \"buen producto, envi\\u00f3 r\\u00e1pido\", \"Me gusta pero se a despegado. Me la pueden cambiar por una igual?\", \"Lo compr\\u00e9 junto con una pulsera que me sal\\u00eda sugerida y no son del mismo color rosa\", null, \"ha llegado en buen estado y es todo un flipe!\", \"Bonito pero muy caro para la calidad, la rosca se me rompio el primer dia\", null, null, \"Perfecta, pero para m\\u00ed gusto encuentro que el cierre es demasiado simple para la buena calidad que t\", null, null, \"No son para nada lo que describen, huelen mal y llego la placa china rota. No lo compraria nunca Es \", null, \"Muy buena consola, disfrut\\u00e1ndola al maximo\", \"S\\u00faper guapo y un tacto espectacular,,\", null, \"Art\\u00edculo perfecto igual a la descripci\\u00f3n lo recomiendo\", \"Las bater\\u00edas aguantan bastante poco, desde que uso \\u00e9stas en lugar de pilas tengo problemas de conect\", null, null, null, \"se queda un poco pobre ,,,como regalo a una ni\\u00f1a si ,,,a una mujer no lo veo\", \"Hola, cuando voy a instalar el juego me sale que el codigo que devo de poner ya esta utilizado y no \", \"No est\\u00e1 mal,pero no ajusta del todo y quedan aperturas por delante,lados y por detr\\u00e1s,pero al menos \", \"Sacacuartos de una edici\\u00f3n que no es ni especial ni nada. Calidad y detalles bastante mediocres.\", null, \"Muy bien. Son bonitas y quedan bien.\", \"Muy bonitas de primeras, pero me han durado una semana, cuidandolas, sin mojarlas y dem\\u00e1s.\", \"El colgante precioso producto muy bonito parece plata\", null, \"Es um juego aceptable, pero no deberia costar cerca de 40 euros. La jugabilidad \\u00e9s tipica de um tabl\", \"Es una buena opci\\u00f3n si te vas de viaje o si te mando llevas a casa de un amigo/a. Es una base ligera\", \"Llevaba tiempo buscandolo y no lo encontraba por ning\\u00fan lado!! Muy satisfecha con la compra!\", \"Los compr\\u00e9 para probar debido a su bajo precio. Se nota al tacto que no son los aut\\u00e9nticos, pero eso\", \"Lo siento no me fue bien para la PS3 y se devolvi\\u00f3\", \"Si te va el rollo maso es tu juego\", \"Satisfecho con el producto. Se ajusta a la descripci\\u00f3n. Buen precio y env\\u00edo inmediato. Una gozada co\", null, null, \"Es correcto,lo \\u00fanico que la correa si la mojas se vuelve rosa\", \"Una pulsera demasiado finita, la calidad no es tampoco muy buena\", \"Los juegos vr para ps4 me dan la impresi\\u00f3n de que vuelvo a la ps2 por lo rudimentarios. Compr\\u00e9 \\u00e9ste \", \"Las bolsa son como en la foto, pero 9 descosidas en la costura por donde pasa la cuerda que las cier\", \"Todo correcto, excepto que me a venido la importacion italiana y en la imagen esta en castellano\", null, \"Bonito fue para un regalo y bien\", \"Peque\\u00f1o pero muy bonitos\", \"Todo perfecto llego s\\u00faper r\\u00e1pido y antes de su fecha feliz por el detallito volvere a repetir mil gr\", \"Siempre escribo las rese\\u00f1as meses despu\\u00e9s de comprar los productos, y tengo que decir que esta tobil\", \"Un perif\\u00e9rico que cumple sobradamente su funci\\u00f3n, c\\u00f3modo, vistoso,perfecto\", \"Pues mando original Sony, buenos acabados del mando y botones, calidad de la bater\\u00eda y como el que v\", \"Es perfecto, en espa\\u00f1ol y a mi hijo le encanta!!\", \"Perfecto y totalmente en castellano! Gracis amazon como siempre el mejor!\", \"Pone que es edici\\u00f3n en espa\\u00f1ol, pero viene en italiano.\", null, \"Igual que en la foto, solo que la dedicatoria no se ve nada.\", null, \"Buen soporte para las joyas y anillos.\", \"buen mando,correcto por el precio que tiene,quiza la bateria deberia durar un poquito mas. Excelente\", \"Bonito y baratos pendientes bueno bonito y chollo\", null, \"Caja del funko golpeada\", null, \"Viene un poco ara\\u00f1ado aun siendo nuevo. Los agujeros del soporte de los pedales en el modo invertido\", null, \"Una maravilla,a m\\u00ed mujer le gustan mucho.\", \"Al poco tiempo de uso, se despeg\\u00f3 la piedra y se perdi\\u00f3. Muy bonito pero mala calidad.\", \"Los colores son intensos, pero el textil parece mas un pa\\u00f1uelo que una toalla\", \"La pulsera de cuero se ha salido del ancla y ya no se puede utilizar. Se compro en diciembre y en ab\", null, \"Es para ni\\u00f1a, para nada sirve para una mujer adulta. Yo soy adulta y muy delgada, y no sirve de tobi\", null, \"Esta bastante bien. Aunque deber\\u00eda traer m\\u00e1s sitio\", \"No puedo opinar del producto porque nunca me llego, es un timo no pedir\", null, \"El pedido deb\\u00eda llegar como muy tarde el 11 de septiembre. A d\\u00eda 17 no s\\u00e9 nada de \\u00e9l. He escrito en \", null, \"De momento no ha llegado.El vendedor me ha adelantado el reembolso a la espera de que si me llega pa\", null, \"Muy r\\u00e1pido el env\\u00edo.\", null, null, \"La cuerda le apretaba la cabeza demasiado, y venia con dos flores caidas de la base de la corona\", \"Han cumplido expectativas, buen sonido y aislamiento del ruido. El micr\\u00f3fono es muy c\\u00f3modo,, va inco\", \"Estos aros van perfecto tanta para mujer como para hombre, quedan muy finos y como vienen en diferen\", null, null, null, \"Cumple mis expectativas el producto y el servicio es muy bueno. Entregaron sin mucha demora. Los car\", \"Entregado el d\\u00eda 22, la caja estaba un poco tocada, pero el producto ha llegado bien. Deben comentar\", \"El material me resulta desagradable al contacto con la piel y condensa mucha humedad de la respiraci\", null, \"En ninguno de los puertos USB reconoce el disco duro externo (Toshiba Canvio), en los puertos USB 2.\", \"No veo los nombres por mucho que alumbre y se ha roto enseguida\", \"Fatal, no cargan los cargadores\", \"Est\\u00e1 bien, el material no es malo del todo pero con el tiempo se acaba poniendo feo.\", \"Es una pena, tenia muchas esperanzas en este juego y se ha convertido en una gran decepci\\u00f3n. Los pun\", null, \"Se quedan atascados y no salen bien por abajo.\", \"Es muy raro que yo devuelva un producto pero este era de verdad muy mal. Ante todo pesa un monton. L\", \"Un buen producto para regalar, y con un envio rapido, que facilito que el regalo llegara a tiempo al\", \"En la versi\\u00f3n de PC no se puede jugar en pantalla dividida con otro amigo\", \"Al principio me encant\\u00f3 todo pero en unos meses se me rompi\\u00f3 la cadena.\", null, \"Muy satisfechos con la compra. Los pendientes son muy bonitos, y el servicio r\\u00e1pido y eficaz.\", \"Lo he comprado por coleccionismo, pero es un producto indigno de Sony.\", \"Es bonito, buena calidad, es una pena que solo lo hagan en un tama\\u00f1o. Un poquito m\\u00e1s grande y ser\\u00eda \", \"M\\u00e1s estrecho de lo que se aprecia en la foto, pero igual de bonito. Tambi\\u00e9n es peque\\u00f1o de tama\\u00f1o.\", null, \"Perfecto, la portada est\\u00e1 en franc\\u00e9s pero cuando juegas lo puedes poner en castellano sin problema. \", \"Es m\\u00e1s grande de lo que parece y no queda muy bien\", \"La tuve que devolver porque queda demasiado ancha en el pulso. La calidad me ha parecido regular, pe\", \"Esta bien calidad precio\", \"Se lo regalamos a mi sobrina de 12 a\\u00f1os, muy fan de la serie. La encant\\u00f3. Es bisuter\\u00eda, pero es acep\", \"El producto en s\\u00ed es una maravilla, no has sentido algo igual hasta que lo pruebas. Tengo que poner \", \"Me encant\\u00f3 el producto, me sorprendi\\u00f3 el envoltorio porque no es el t\\u00edpico que trae Tous pero muy bi\", \"Muy contento con el producto rapidez en la entrega , cumple expectativas relacion calidad-precio hay\", null, \"Es bonito pero dudo mucho que sea de plata realmente, por el aspecto y textura. Como algo gracioso a\", \"Muy bonitos, tal como se describian y muy rapida la entrega.\", \"Est\\u00e1 bien es como esperaba, por el precio que tiene no se puede pedir m\\u00e1s tard\\u00f3 en llegar, pero lleg\", \"Mala calidad, se rompe en 1 dia...\", \"Me ha llegado la pulsera con las cajas rotas. Y lo necesitaba para un regalo. No estoy contenta. Un \", \"le ha encantado a mi hijo\", \"El Pendiente con la cadena viene roto, la base del pendiente de donde sale la cadena oxidada, los ot\", \"Todo bien salvo que el producto lleg\\u00f3 con el precinto roto y solucionado como dice otro comprador co\", null, null, \"Es bonita pero se rompi\\u00f3 enseguida. La entrega fue r\\u00e1pida\", \"ES UN JUEGO ORIGINAL PARA PS4, QUE CUMPLE CON LOS REQUISITOS. QUE SEA ORIGINAL, VENGA PRECINTADO Y S\", \"Mide 13 cm. y no 21 como ofertan. Por ello lo he devuelto. El servicio como siempre excelente y efic\", \"Vienen las 60 piezas pero muchas vienen repetidas y entiendo que vengan dos o tres de la misma pero \", \"Por el precio que tiene te hace el apa\\u00f1o, ahora el parecido con la foto es nulo. No est\\u00e1 bien pintad\", null, \"Me gust\\u00f3 mucho,pero el cierre no es de fiar y el d\\u00eda que lo estren\\u00e9 se call\\u00f3 y se perdi\\u00f3.\", \"La letra es muy peque\\u00f1a, pero estoy m\\u00e1s seguro con la pulsera de alerta m\\u00e9dica.\", \"Env\\u00edo r\\u00e1pido. Pero por mal embalaje o transporte, la caja est\\u00e1 doblada y deteriorada. Una pena, era \", null, null, \"Mosqueado, es una pena que compres un juego y dos meses despu\\u00e9s baje a casi la mitad. Muy mal, as\\u00ed h\", \"Parec\\u00eda una interesante oferta pero se cancel\\u00f3 el pedido.\", \"Horrible!! Quedaron conmigo en que lo enviaban grabado y no fue as\\u00ed. ten\\u00eda que devolverlo y pedir ot\", null, \"La funda es tal cual la foto, cabe perfectamente la switch con los joycon acoplados, el doc, el sopo\", null, null, \"Un de los micros no funcionaba y al jugar se oye con retardo.\", \"Calidad mediocre o baja\", \"Lo que buscaba. Muy entretenido.\", \"Es preciosa! Muy bien engarzada y un cierre bastantes seguro.\", \"Tardes divertidas jugando con los ni\\u00f1os\", null, null, \"Llego bien pero en la fotograf\\u00eda parecia otra .....\", null, null, \"Fue un regalo para una amiga que quer\\u00eda algo as\\u00ed para que le trajera buena suerte.\", null, null, null, \"Bonito,pero agujero muy grande,da vueltas y no se queda muy ajustado\", null, null, null, \"No est\\u00e1 mal la relaci\\u00f3n calidad-precio queda bonito no es excesivamente grande ni peque\\u00f1o, la huella\", \"No puedo evaluar algo que no me ha llegado.\", \"Tard\\u00f3 m\\u00e1s de un mes en llegar, es de lat\\u00f3n cromado, no acero\", \"Muy corta, de colgante queda casi pegada al cuello y los plateados muy de pl\\u00e1stico. La usar\\u00e9 de puls\", \"Un juego entretenido. Algo pesado los tiempos de carga,pero bueno.\", \"Muy fina y se pone fea\", \"Es cierto que es barato, pero realmente no compensa mucho. En mi caso el nunchuck no funcion\\u00f3 jam\\u00e1s.\", \"Son unos pendientes muy bonitos y elegantes. El tama\\u00f1o es el de una moneda de dos euros, quiz\\u00e1s un p\", \"No me ha gustado mucho. Son de goma \\\"suave\\\", as\\u00ed que resbalan un poco. Lo que quer\\u00eda era justo lo co\", null, \"Mi opini\\u00f3n es que ten\\u00eda que haber llegado el d\\u00eda 2 de julio y todav\\u00eda estoy esperando... Aviso para \", \"Por el precio est\\u00e1 bien, pero son de muy mala calidad. Si busc\\u00e1is un mando con calidad y sin fallos \", null, \"No se mira tan Fina como en La foto, es demasiado gruesa y abulta mucho\", null, \"Pulsera muy mala, mejor jugar para ni\\u00f1o\", \"Juego entretenido aunque no deja de ser un Battle Royal y con gr\\u00e1ficos de la PlayStation 1. Precio c\", \"Muy bonitas pens\\u00e9 que eran mas grandes\", \"es muy parecido al mando que trae la consola, la diferencia quizas se amolda algo mejor a las manos,\", null, \"Me ha salido mal\\u00edsimos. En un puesta y ya se le perdieron los cristales a uno de ellos. Que desilusi\", \"El mando no venia ni con caja ni con nada solo envuelto en pl\\u00e1stico de burbujas ,por el precio se po\", null, \"Siempre pongo en mis pedidos para el repartidor una direcci\\u00f3n y persona alternativa para recoger el \", \"El joystick despu\\u00e9s de un tiempo se da\\u00f1a\", \"En 24h ha llegado... Impecable estado y rapidez\", null, null, \"No se especifica claramente los requisitos minimos del pc, no puedo usarlo. Eran los Reyes de mi hij\", \"La imaginaba m\\u00e1s grande. Pero a pesar del tama\\u00f1o es preciosa.\", null, \"Me gustaron mucho, id\\u00e9nticos a la foto.\", null, \"El colgante es muy bonito pero me ha parecido un poco peque\\u00f1o. A\\u00fan as\\u00ed me ha gustado, se lo he regal\", \"Me lo esperaba un poco m\\u00e1s grande la verdad... Adem\\u00e1s viene sin ning\\u00fan tipo de correa, lo que hace q\", \"Fatal, se me ha roto a los 3 meses y tengo que estarme 15 d\\u00edas sin mando porque se tiene que enviar \", \"Delicado y bonito tama\\u00f1o adecuado. A mi mujer le ha encantado.\", \"El juego esta bien pero la entrega atraves de correos a sido un desastre a llegado 2 d\\u00edas despu\\u00e9s de\", \"Perfecto y env\\u00edo muy r\\u00e1pido\", null, \"Su funcionamiento en simple conectas el cable de carga a la estaci\\u00f3n (funciona perfectamente con el \", \"Muy mala calidad pero muy malo precio excesivo para lo que es\", \"algunas de las piedras tienen mas de 1 perforacion\", null, null, null, \"El abalorio es lo que esperaba. Pero era para un regalo y no ven\\u00eda en la cajita y bolsa de regalo de\", \"No me enviaron la de la imagen, sino la que pone ps4, me la quede porque me gustaba igualmente, pero\", null, \"Mala calidad, no se ajusta a la videoconsola. Parece que se te va a deshacer en las manos. Es m\\u00e1s gr\", null, null, \"Se los regal\\u00e9 a mi esposa y est\\u00e1 encantada con ellos. Bonitos y de calidad. Quiz\\u00e1 un poco grandes, p\", \"No encontre mejor precio por ning\\u00fan lado, por tres meses, llego r\\u00e1pido, era para regalar a mi sobrin\", \"Fue para regalar a mi hijo\", \"Un enga\\u00f1o, si necesitas una medida m\\u00e1s peque\\u00f1a te cobran el doble, cosa que no ocurre en la tienda f\", \"En switch he configurado el uso del mando pro y no funciona. En pc he intentado descargarme el firmw\", null, \"Me lo compre para evitar cables y utilizar Bluetooth pero como el cable que se quite wifi, Bluetooth\", \"Perfecto para jugar en familia\", null, \"Es para reyes todav\\u00eda no loe abierto\", \"Es muy lento y con pocas atracciones para un publico mayor pues para entenderlo los ni\\u00f1os de 4-5 a\\u00f1o\", \"El que te permita guardar saves es una maravilla, pero no te los deja guardar a mano. Todo va a la \\\"\", \"No han pasado dos meses y ya me falla el bot\\u00f3n X ba mal y se me des conectaba al principio no me gus\", null, null, \"En general cumple, pero el tiempo de respuesta de los gatillos es mayor que en los originales y hay \", \"Se ha puesto feo negro y muy mal\", \"NO VOY A COMPRAR MAS. PORQUE ME HAN COBRADO POR DEVOLVER EL PRODUCTO 13\\u20ac PERDONA?? 13 EUROS POR DEVO\", \"Son bastante pesados.\", \"Quitando que tiene muy buena calidad tanto la alfombrilla y los bordes.. tarda semanas en ponerse re\", \"Gran joya en elegancia y dise\\u00f1o. Un acierto en cada compra, siempre muy satisfactorio. Muy recomenda\", \"La recopilaci\\u00f3n perfecta para continuar con la saga en PS4. Merece especialmente la pena por el KH D\", \"Miy buen producto. Buenos materiales. Tras casi seis meses de uso esta como nueva. No pongo las 5 es\", \"Quizas mas peque\\u00f1o de lo que esperabamos pero ok. hay que tener cuidado porque el cierre que une el \", \"Muy divertido. Ideal para jugar en familia\", \"Esta reparado, pero bueno por el precio que estaba, esta genial.\", \"Buscaba un collar para un regalo, y encontr\\u00e9 este, con buen precio y bastante bonito y me ha sorpren\", \"Se puede agrandar, si. Pero se nota que es tama\\u00f1o de adolescente o ni\\u00f1o y no es lo que yo queria, el\", null, null, \"No ha llegado el collar . Las dem\\u00e1s cosas que he comprado en Amazon han llegado, pero este producto \", null, \"Si os gustan los collares de plastico y mal pintado, es la mejor opcion en el mercado. Si buscais al\", \"Es muy c\\u00f3modo y eficiente pero tengo un problema con el cable. A veces no lee el mando y en media pa\", \"Llevo dos tardes jugando y ya lo he probado todo de esta expansi\\u00f3n. Sinceramente no pens\\u00e9 que se me \", \"Son perfectos vienen dos, se ajustan perfectamente y ni se nota que los llevo no duele ni nada, pare\", \"Demasiado grandes para ser pendientes no se sujetan bien al ovulo, son bonitos y no tienen mala cali\", \"Un abalorio muy bonito pero que ha perdido parte de su brillo en el pico en unos meses\", \"visualmente es un gran juego, sobre todo para los fans de la saga pero es muy lineal y repetitivo. m\", null, null, \"Es tal cual se ve. Bastante peque\\u00f1o para m\\u00ed opini\\u00f3n, es m\\u00e1s para ni\\u00f1as peque\\u00f1as. Y se ve mucho que n\", null, \"Me ha llegado antes de lo esperado. La imagen es mucho mejor que el adaptador ps2 a hdmi. En una pan\", \"No me ha gustado porque me parece demasiado grande, aunque eso es una cuesti\\u00f3n de gustos. Lo que s\\u00ed \", null, \"La cadena no es la de la imagen, pero est\\u00e1 muy bien\", \"Lo he devuelto es muy endeble y se ha partido. El anillo en si era bonito, pero no ha durado ni 1 se\", \"No me ha venido el cable de carga ni pilas, a parte est\\u00e1 algo sucio y tendr\\u00e9 que limpiarlo, es la pr\", null, null, \"muy.comodo, puedes cambiar los separadores como quieras. yo coloco la switch en el centro no como ap\", null, null, \"Preciosos y elegantes pendientes de plata,es la flor de loto, quedan muy bonitos puestos, tienen una\", \"Son excesivamente debiles y venian con alg\\u00fan golpe en el lateral de uno de ellos. No los volver\\u00eda a \", \"La cadena semi r\\u00edgida se rompe muy f\\u00e1cilmente, la he arreglado y se ha vuelto a romper enseguida. No\", \"Un buen producto parece que tiene. Solo faltar\\u00eda especificar que solo es camuflaje por la parte dela\", \"En un mes ya lo tienes roto (lo cargas y se descargan en 1 dia)\", \"El producto llego un dia mas tarde de lo indicado y la sorpresa fue al abrir la cajita tan mona en l\", \"Primero no me lleg\\u00f3 el producto, lo devolvieron ellos mismos antes de recibirlo en un punto de recog\", \"Ha cumplido perfectamente y ampliamente mi objetivo.Relacion calidad precio perfecto.Se ajusta muy b\", null, null, \"El conector es correcto, se adapta perfectamente y es el original, la parte negativa es que lo esper\", null, \"Me gusto mucho la pulsera. El pedido llego rapido. Corresponde con la descripcion. lo recomiendo. Es\", \"las piezas no encajan bien, instrucciones muy mal explicadas, los soportes para mandos se caen. en f\", null, null, \"Lleg\\u00f3 excesivamente tarde. Vamos que no lo puede utilizar para lo que lo quer\\u00eda....\", \"El material es bastante malo, el plastico de baja calidad, al principio no encaja bien ni en la PS V\", null, \"Buenas, quiero poner una queja del repartidor que ha traido este pedido, ha entregado el pedido pero\", \"Lo ped\\u00ed en plata y me llego en dorado\", \"Llega tal y como en la foto, muy bonito y muy bien proporcionado y de tama\\u00f1o. La pega es que, como l\", null, null, null, null, \"El collar tiene algunos desperfectos y no cierra correctamente... no me ha gustado la calidad del pr\", \"En general cumple con mis expectativas ya que es exactamente lo que solicite en la compra. Producto \", null, \"Ajustable a la medida de la mu\\u00f1eca de forma f\\u00e1cil y queda muy fino y elegante .\", \"Lo imaginaba m\\u00e1s largo pero son muy bonitos\", \"Es peque\\u00f1ita pero queda muy bonita. Y aunque la.mojes no se pone fea\", \"Se me agriet\\u00f3 la goma original del joystick y estas fundas han resucitado el mando. Se instalan f\\u00e1ci\", \"Son un poco r\\u00edgidos y esta algo torcido el enganche, de momento todo bien pero son delicados y quiz\\u00e1\", \"Vino en color negro. Pero me hab\\u00edan avisado. Perfecto. Adem\\u00e1s ven\\u00eda con una funda protectora de sili\", \"Hola he comprado este mando pero mi samsung s8 no me lo reconoce... me podeis dar los paso que hay q\", \"Env\\u00edo rapid\\u00edsimo. La calidad parece buena, es flexible y el cierre bastante bueno. La desilusion es \", \"Es bonito, pero no tra\\u00eda la bolsa de la marca, con lo que por el precio que he pagado igual que en l\", \"El juego tiene una tem\\u00e1tica buena, pero no lo sabe explotar. Una movilidad tosca. No dejan de llegar\", \"Producto aut\\u00e9ntico de alta calidad, es el que esper\\u00e1bamos y ha sido el de la foto, pr\\u00e1ctico si se qu\", \"Cumple con el prop\\u00f3sito para el que lo compr\\u00e9. Por ahora no ha sufrido con el grabado, y su aspecto \", \"Para cargar los mandos de la Nintendo es como dice en el anuncio,viene solo la base, y hace cargas r\", \"Buenisimo! est\\u00e1n disfrutando a tope montando los Kits, se entretienen muchisimo! y disfrutan jugando\", \"Cuando los recib\\u00ed me gustaron mucho pero los brillantitos duraron una puesta.Me quede sin pendientes\", \"En juego como era de esperar te viene en ingles aunque si tu play 4 lo pones en espa\\u00f1ol latino, te s\", null, null, \"Bonitos y con un dise\\u00f1o diferente, aunq algo inc\\u00f3modos. El sonido estaba bien y el micr\\u00f3fono funcion\", \"Un producto estupendo, recomendable 100% por su calidad precio\", null, null, null, null, \"No trae certificado autenticidad\", \"primero compre uno y me enviaron dos.pague los dos por supuesto lo deje en un punto de recogida y no\", \"Cuando lo eleg\\u00ed pon\\u00eda versi\\u00f3n Uk, con voces y textos en espa\\u00f1ol y no es as\\u00ed. Est\\u00e1 todo en ingl\\u00e9s sin\", null, \"Abon\\u00e9 la diferencia del env\\u00edo urgente para recibirlo el d\\u00eda despu\\u00e9s y me tardo una semana. Recibido \", \"Gran compra si te gusta jugar y probar la pantalla tactil y el 3D. Lastima que no incluya el cargado\", null, null, \"Tienen un bonito acabado y para salir del paso no est\\u00e1n nada mal.\", null, \"Perfecto para poner los detalles de mi alergia lleg\\u00f3 pronto y el producto es igual que el de la foto\", \"El juego vino suelto de la sujeci\\u00f3n del CD\", \"Llego antes de tiempo\", \"Nuevo y tirado de precio\", \"Muy orgullosos con esta compra, se ve de alta calidad,nada que envidiar a una joyer\\u00eda. Un regalo pre\", \"Mala calidad. No se si compensa por el bajo precio porque no creo que se los ponga nadie ni el prime\", \"Me ha llegado con 5 d\\u00edas de antelaci\\u00f3n y en muy buen estado, volver\\u00e9 a comprar :)\", null, \"Toda la esencia de ps2 en tu ps4. El cambio gr\\u00e1fico es notable, dentro de los propios l\\u00edmites, claro\", null, null, \"No son de pandora, son grandes para dicha pulsera, a la vez de anchos, al uso diario se hace inc\\u00f3mod\", null, null, null, \"Por el precio no se puede pedir m\\u00e1s, compr\\u00e9 3, para mi madre, mi hermana y para mi, pero son tan cut\", \"Lo han traido a tiempo y entregado justo en el momento. Al ni\\u00f1o le encanto tanto el color como la ju\", null, null, \"La caja esta muy chula pero el juego salio el dia 14 y me llego el 20 siendo prime . Estuve a punto \", \"Estan muy bien, pero son peque\\u00f1itos, para labio dificilmente pueden servir por el tama\\u00f1o del diametr\", \"Los palos son muy cortos, no me lo he podido poner, se los he dado para m\\u00ed hija peque\\u00f1a, es una last\", \"Aunque he le\\u00eddo que el ventilador es de los silenciosos, la verdad que para m\\u00ed gusto hace mucho m\\u00e1s \", \"Lleg\\u00f3 bien y es un juegazo\", \"compre esta pulsera por probar y ha sido toda una grata sorpresa, por un precio baratisimo tiene una\", \"Los botenes son muy sensibles y no detecta Bien la interacci\\u00f3n\", \"es bonita, queda bien en el pie pero no se debe mojar ya que yo me ba\\u00f1e con la m\\u00eda y ahora tiene muc\", null, \"Todo perfecto Gracias\", \"Por el precio est\\u00e1n bien, pero el color no es dorado, es m\\u00e1s bien ros\\u00e1ceo.\", \"Hay un pero que es determinante. Todo lo empa\\u00f1a la incompetencia de un repartidor y de una agencia d\", \"Todo bien, excepto que uno de los codigos no se donde canjearlo. Creo q el de la guia digital.\", \"Aunque la caja est\\u00e1 en italiano, el juego est\\u00e1 en multi idioma y funciona perfectamente. El mejor pr\", \"Muy buen producto.Excelente relaci\\u00f3n calidad precio.Regalo magn\\u00edfico para estas Navidades, lo compr\\u00e9\", null, \"Es un juego bonito y divertido, pero es que tiene excesivas paradas, me corta mucho el juego , est\\u00e1 \", null, \"Fue para un regalo, le ha encantado y lleg\\u00f3 de un d\\u00eda para otro.\", \"Pone que es plata Pero se ha puesto muy fea en poco tiempo Tengo otras cadenas de plata y no me ha p\", null, \"100% compatible con Nintendo switch, c\\u00f3modo y pr\\u00e1ctico, solo hecho de menos que no lo hagan en m\\u00e1s c\", \"Lleg\\u00f3 el d\\u00eda previsto. Pero la caja un poco rota y el repartidor no deb\\u00eda saber que lo que llevaba e\", null, \"Se despegan cuando la consola se empieza a calentar. No lo recomiendo en absoluto.\", null, null, null, \"Me encant\\u00f3 es m\\u00e1s bonito que en la foto\", \"Va muy bien. Solo conectarlo por el puerto USB a la consola y listo.\", \"Estupenda oferta, mucho mas econ\\u00f3mica en Sony. Mi hijo est\\u00e1 encantado,juegos gratis y muchas posibil\", \"El art\\u00edculo cumple con las expectativas\", \"Son bonitos, pero son mucho m\\u00e1s peque\\u00f1os de lo que se aprecia en la foto\", \"Lo primero me gustar\\u00eda saber en donde est\\u00e1 mi paquete ya que seg\\u00fan dicen la nota que lo a entregado \", \"El producto es correcto. Cadenita fina de plata. Estoy contenta con la compra a pesar de que en solo\", null, \"Se actualiza a espa\\u00f1ol nada m\\u00e1s meter el CD en la play. M\\u00e1s barato. Un diez, por el juego es el mism\", \"Es muy peque\\u00f1a aunque en su defensa, lo pone en la descripci\\u00f3n.\", \"Por la resistencia y lo compacto que es. Su dise\\u00f1o Lo recomendar\\u00eda a cualquier usuario de la Xbox on\", \"Muy bien, ajustable y bonito. Lo que hay que tener un poco de cuidado para no romperlo tirando de el\", null, \"La verdad es que no va muy bien ya que los mandos no tocan bien las pesta\\u00f1itas de carga, en consecue\", \"Buen regalo exactamente igual q en el anuncio\", \"Muy mal, era para colgarlo en una pulsera de Pandora como aparece en la foto y resulta que el agujer\", null, \"No s\\u00e9 si son realmente hipoalergenicos...pero si enviaron r\\u00e1pido , en eso Amazon eficaz, pero claro \", null, null, null, \"CALIDAD PRECIO MUY BIEN, CREO QUE CUMPLE CON SU FUNCI\\u00d3N Y LA TELA NO ES NADA BASTA. LO RECOMIENDO, L\", \"Rapido y segun lo ofertado\", \"El colgante es bonito porque se ilumina, pero la calidad de la cadena fatal, en tres puestas ya esta\", null, \"No viene con embalaje original, NO est\\u00e1 bien presentado en su entrega. Muy mala presentaci\\u00f3n.\", \"La \\u00fanica pega es que son USB 2.0 y no 3.0. Para el cable del rat\\u00f3n va muy bien, el \\\"escorpi\\u00f3n\\\" es de\", \"Lo que es la edici\\u00f3n coleccionista es muy pobre por lo que cost\\u00f3 de salida, mucho dinero para tan po\", \"Lo bueno Una mochila espaciosa y robusta, en el compartimento m\\u00e1s cercano a la espalda hay espacio a\", \"Son muy bonitos, pero el cord\\u00f3n de plata se rompi\\u00f3 enseguida\", \"Me gustado mucho, porque necesitaba una cadenita para varios colgantes que tengo y todas me causaban\", \"Estos pendientes son preciosos. Quedan muy elegantes puestos tanto para salir de d\\u00eda como de noche. \", \"Lo regale a mi nieto y le gusto mucho\", \"El envoltorio ha llegado roto y en muy mal estado, espero que funcione bien el mu\\u00f1eco cuando lo prue\", \"Lo esperado. . Muy c\\u00f3modo para poder jugar con m\\u00e1s comodidad .. no tan pegado a la televiso y m\\u00e1s se\", \"Un collar con una calidad fatal se me rompio a los tres dias\", \"Caja correcta, con su CD. Le he quitado dos estrellas ya que imagino que en el trayecto, el juego no\", \"En la realidad es m\\u00e1s bonito que en las fotos.\", \"Un buen raton con sus lucecitas. Bastante grande pero muy comodo para la mano por todas las endidura\", null, \"Se me rompi\\u00f3 en la mano al sacarlo de la bolsa. Ya se que es barato pero pens\\u00e9 que al menos me durar\", \"Preciosa aunque un poco fina\", \"Muy grandes y pesados, no son nada c\\u00f3modos y por la parte interior no est\\u00e1n gravados, con lo cual cu\", \"Son muy bonitos pero a mi no se me mantienen en su sitio, se bajan y no quedan bien. Adem\\u00e1s tengo mi\", \"La pulsera y el estuche era muy bonita est\\u00e9ticamente pero resulta que de muy mala calidad, el mismo \", null, \"yo tengo un problema con el cable que se me ha roto y no puedo encontrar otro, los cables de esta ma\", null, \"Dice que me lo han entregado y no me a llegado como lo reclamo a amazon decia enviado con otra cosa\", \"Le encanta a mi hijo, es un juego que te agudiza el ingenio. Muy recomendable. Quiz\\u00e1s resulto corto \", \"estamos muy contentos con la compra. El paquete estaba intacto, perfectamente embalado. Satisfechos \", \"Son bonitos y tama\\u00f1o adecuado,no se si durar\\u00e1 mucho el ba\\u00f1o que llevan,pero est\\u00e1n muy bien para el p\", \"Una p\\u00e9rdida de dinero total, la compre a finales de marzo y de la noche a la ma\\u00f1ana ha dejado de fun\", \"A mi hijo no le ha echo mucha gracia el juego, de hecho lo tiene olvidado en el caj\\u00f3n, no le ha enga\", \"Las bater\\u00edas encajan a la perfecci\\u00f3n en el mando original de la xbox. El cable no entra a la perfecc\", \"Lo ped\\u00ed para navidad y nunca lleg\\u00f3, ni actualizaron el estado del producto, ni me llamaron para info\", null, \"Mando peque\\u00f1o y que funciona perfectamente tanto con PC (aunque requiere poseer un receptor ya que e\", \"Si el mando lleva una funda, olv\\u00eddate que no llegar\\u00e1 a conectar correctamente.\", null, \"Mucho tiempo en llegar y el art\\u00edculo fatal\", \"La verdad es que encajan bastante bien los mandos, me ha gustado. La calidad no es mala aunque en li\", \"Este producto no esta mal. Si se te ha roto el cargador original, puedes sustituirlo por este. Funci\", null, \"Es como en la foto pero es cuesti\\u00f3n de gustos.\", \"El cierre no es muy seguro. Se me perdi\\u00f3. Por lo dem\\u00e1s, todo bien, aunque la fiabilidad de los cierr\", null, \"El dise\\u00f1o y lo sencillo\", \"Me han llegado bien, pero he tenido que limpiarlos porque la plata ven\\u00eda oscurecida. Han quedado bie\", \"No hace apenas ruido, y por el precio que tiene funciona bastante bien. Los cargadores de los mandos\", null, \"Acert\\u00e9 con el regalo, lo recomiendo queda muy chulo. El tama\\u00f1o del colgante est\\u00e1 bien justo como sal\", null, \"Funciona genial por ahora y lo que mas me ha gustado es que mi compa\\u00f1era ya no me quita el mio(el az\", null, \"Ideal para lo que quiera tunear\", null, \"Muy contento con la compra, dispone de regulador de sonido y funciona perfecto y es muy util. Son mu\", \"Versi\\u00f3n con todos los extras y totalmente en castellano en cuanto lo pones en la Play\", null, null, \"buscaba dos anillos que fuesen a juego y extensibles, para poder llevarlos mi mujer y yo, y me decid\", null, \"Quer\\u00eda regalar a mi mujer unos pendientes de plata y me decant\\u00e9 por estos porque le gustan las estre\", null, \"Los reyes se han portado, superdivertido, el envio y el producto llego bien\", \"La verdad es que no he jugado y no puedo decir nada\", \"Sigue la l\\u00ednea de los anteriores\", null, null, \"Me encant\\u00f3 hasta que vi que el mando Pro de la Nintendo Switch no encajaba.\", null, null, \"En la foto parece otra cosa. Yo entiendo que el precio no es muy alto y la calidad no puede ser espe\", null, null, \"Me ha encantado . Adaptable y de momento no me ha dejado el dedo verde jijiji.\", \"Es muy bonita. Precio y calidad magn\\u00edfico. Es un regalo que ha gustado mucho.\", null, null, null, \"No son compatibles con la Nintendo NES original como ah\\u00ed dice. Est\\u00e9ticamente son iguales incluido el\", null, null, \"Bonito, pero no me lo han mandado con la bolsa de la marca, lo que para un regalo desmerece mucho. L\", \"Muy \\u00fatil y manejable\", \"Es un colgante muy bonito, pero es muy muy peque\\u00f1o, demasiado . El plazo de entrega ha sido muy r\\u00e1pi\", \"Algo peque\\u00f1o, pero bonito\", \"No megusto nada el primer d\\u00eda se rompi\\u00f3 el brillo y el segundo d\\u00eda se perdi\\u00f3 la tuerca,y el tercero \", \"Incomodo al abrir y cerrar se atasca con la leng\\u00fceta donde van los juegos\", null, \"Se han comprado dos iguales, para uso propio y para un regalo, son finitas, pero resultan elegantes.\", \"Lo compr\\u00e9 como regalo del d\\u00eda del padre y a mi marido le encant\\u00f3.\", null, null, \"Figura con buen detalle pero poca calidad\", \"Debido a problemas con la compa\\u00f1\\u00eda de transporte AMS el pedido lleg\\u00f3 un d\\u00eda despu\\u00e9s de lo indicado, \", \"Buena calidad, pero le sobran los botones interiores, hacen que los pulses sin querer y eso Estropea\", null, \"A m\\u00ed no me ha gustado, creo que son demasiado endebles. Son baratos, si, pero de baja calidad.\", \"Encaja perfectamente en la pulsera Pandora. Es m\\u00e1s bonito en persona que en la foto, queda muy elega\", \"Lo compr\\u00e9 porque dec\\u00eda que era de plata. Pero no lo es\", \"En general buen producto, un poco demorado el envio, lo importante es que encajan bien en la nintend\", \"Mas peque\\u00f1os de lo que esperaba.\", \"Son muy bonitos y realmente brillan mucho, lo \\u00fanico es que me dan un poco de alergia!!\", \"El cartucho ven\\u00eda con una pesta\\u00f1a doblada, lo cu\\u00e1l hacia que no funcionase.\", \"El juego en s\\u00ed es incre\\u00edble. A estas alturas de la generaci\\u00f3n poco m\\u00e1s se puede decir salvo que es e\", null, \"Lleg\\u00f3 bien, pero el aspecto y peso son demasiado simples, recuerda al pl\\u00e1stico, y las piedras de cir\", \"Los pendientes son como esperaba. Compr\\u00e9 antes la sortija y ahora los pendientes. Llegaron en la fec\", \"Gran reproducci\\u00f3n de los originales. Da alguna sensaci\\u00f3n de fragilidad, pero ideal para jugar con un\", \"La pulsera es de muy buena calidad, la verdad es que era algo reacio a adquirir este tipo de regalos\", \"Muy bonito, Estaba preocupado por si eran muy grandes pero no , le ha gustado, El tama\\u00f1o muy bien. L\", null, \"Hola quer\\u00eda comentar que tuve que cambiarlo porque el bot\\u00f3n L2 se accionaba solo. Y el que me mandar\", \"Calidad precio buena\", null, \"La verdad un producto muy bueno. Me ducho con ella y no se pone negra. Es muy bonita .\", null, \"La experiencia en el montaje es de 10, c\\u00f3mo VR, no deja de ser un experimento/juguete simp\\u00e1tico sin \", \"He comprado este art\\u00edculo en 2 ocasiones, para 2 regalos diferentes para ni\\u00f1as de 4-5 a\\u00f1os y han ten\", \"Llega as\\u00ed tal se ve en la foto. Solo una pieza y parece usado. Nunca m\\u00e1s.\", \"Mal\\u00edsimos, un d\\u00eda me duraron.Llegaron descoloridos pero es que tal y como me los puse,uno roto\", \"La caja llego abierta y faltaban los c\\u00f3digos de los juegos. Despu\\u00e9s de llamar por tlf. y varios corr\", \"El tama\\u00f1o de la mano es perfecto!pero es corta la cadena y se me rompi\\u00f3 al mes el broche\", null, \"Juegazo, es una pasada\", null, \"La consola se apaga de forma continua por sobrecalentamiento, cuando la tengo en el mismo espacio qu\", \"Servicio penoso. No lo esperaba. Desde el 13 de junio que hice el pedido. Han debido fe ir a buscarl\", \"Es muy chulo y pr\\u00e1ctico, llego muy r\\u00e1pido y de momento funciona muy bien\", \"que no es original no lleva el precinto de sony. es reprecintado. aun asi el estado es bueno y no te\", null, \"Los pendientes me encantan, son de buena calidad y elegantes, pero son bastante m\\u00e1s peque\\u00f1os de lo q\", null, \"Simplemente no me han gustado parec\\u00edan otra cosa\", null, \"Mala calidad pero vale para cargar la PS Vita. Podrian mejorarlo hn poco. Aunque por el precio que o\", \"No lleg\\u00f3 el d\\u00eda que tocaba, lo ped\\u00ed el 30 de agosto y me dijeron que llegar\\u00eda el d\\u00eda de lanzamiento \", \"La calidad de los materiales es impecable, la consola queda muy s\\u00f3lida una vez dentro y apenas se mu\", \"Este anillo es demasiado fino no tiene grosor como yo esperaba me queda peque\\u00f1o y se me sale del ded\", null, \"Se agradece el tama\\u00f1o\", \"No lo recomiendo el juego es aburrido\", \"Buenos materiales y muy buena calidad de sonido a un muy buen precio. Las almohadillas son bastante \", \"Esta bien pero no es como el minecraft normal, es chulo para jugar 5 minutos pero para 1 hora se me \", null, \"Es una pulsera muy bonita de plata de ley, pero se me rompi\\u00f3 a los 5 minutos de pon\\u00e9rmela, excesivam\", null, \"El dise\\u00f1o es guapo, pero la calidad del color p\\u00e9sima. Llevan mis hijas dos d\\u00edas con el y ha perdido \", null, \"Buen regalo y de buena calidad, pero por su sistema de cierre, se necesita la ayuda de otra persona.\", \"La tobillera es peque\\u00f1a y ha llegado desarmada. Hemos necesitado alicates para cerrarla. Parece para\", \"En las im\\u00e1genes de la ficha del producto aparece bien claro la imagen de la contraportada en perfect\", \"peque\\u00f1as pero bonitas\", \"Nada que descubrir, PS4 es la mejor consola, aunque me parece que esta ps4 slim, al ser mas reducida\", null, \"La funda se adapta perfectamente al mando y es muy original. Se agarra muy bien. Los protectores de \", \"Me gusta mucho el material de las pulseras y el sistema de cierre, me han encantado!\", \"Funcionan perfectamente en xbox one,se adaptan muy bien al mando y no he tenido ningun problema,por \", \"Horrendo es mucho decir. El negocio est\\u00e1 montado se\\u00f1ores. Me han mandado una mierda de pl\\u00e1stico negr\", null, null, \"Vaya decepcion al abrir la caja y encontrarme un codigo de Steam. No venia especificado y me he llev\", \"Muy bien de precio (unos 20\\u20ac menos de lo normal) pero en ning\\u00fan lugar pone que no era versi\\u00f3n espa\\u00f1o\", null, \"Preciosas todas las gargantillas. Lo recomiendo.\", \"La calidad es muy mala para el precio que tiene. Lleg\\u00f3 roto. El reloj est\\u00e1 pegado de cualquier forma\", \"La publicidad del producto es insuficiente a mi modo de entender ya que en ning\\u00fan sitio te dice que \", \"MUY CONTENTO Y SATISFECHO CON EL ART\\u00cdCULO PUESTO QUE CUMPLE CON TODAS LAS EXPECTATIVAS.ASI QUE VOLVE\", \"Lo veo algo caro para la calidad que tiene. Ven\\u00eda doblado el palito. Adem\\u00e1s de que el color dorado s\", null, \"Pocas veces me he quedado tan de decepcionado con un juego. Dinero tirado. Grafica nefasta. En fin, \", \"Conectado al PC un muy buen mando, mi problema ha sido qu\\u00e9 por el motivo que sea no me conecta a la \", \"El aparato funciona perfectamente. Es decir, detecta el mando a la primera y se conecta f\\u00e1cilmente. \", null, \"Muy bonito y fino. Lo uso poco haci que todav\\u00eda est\\u00e1n bien para ocasiones de fiesta . Pero son para \", \"Todo ha ido perfectamente, el env\\u00edo fue r\\u00e1pido y el d\\u00eda previsto, la cadena es como se ve. Gracias x\", null, \"Son una puta mierda... No los recomiendo para nada, silicona de mala calidad los compre para unos co\", \"Es muy bonito pero se me ha roto la cadena en 4 d\\u00edas reales.No lo volver\\u00eda a comprar.\", \"Creo que las im\\u00e1genes hablan por si solas. UNA SEMANA despu\\u00e9s de comprar el producto (era env\\u00edo 24h)\", \"La bater\\u00eda no funcionaba, mal etiquetado el \\\"como nuevo\\\"\", null, \"Hoy d\\u00eda, algunas TVs ya no tienen entrada de componentes. Este aparato me ha evitado tener que compr\", null, \"El juego es muy bonito y tal, pero jugarlo en la Switch no merece la pena porque el framerate no es \", \"El producto nunca llego y no se an echo responsables por entregarlo en 2 meses\", \"Muy buena compra,me gustan much\\u00edsimo\", \"Es un gran mando, el tacto y acabado muy bueno, la dureza de los botones y respuesta muy parecida al\", \"El art\\u00edculo en cuesti\\u00f3n es precioso, pero la anilla que lo aguanta no es de acero inoxidable y el ma\", \"Parece de juguete. La he devuelto. Era para un regalo y no le ha gustado nada\", \"Si me llega alg\\u00fan d\\u00eda lo valorar.....\", \"Buena compra, calidad de envio y rapidez de entrega. Muy contento en general con esta transacci\\u00f3n. V\", \"Un bot\\u00f3n del mando se atasca y se queda pulsado, por lo que es imposible jugar en niveles normal, av\", null, \"Pl\\u00e1stico del malo , no puedes pulsar los botones porque la carcasa es muy gorda , para nada lo recom\", \"Quer\\u00eda comentarles la falta seriedad en la entrega del producto, me llevan diciendo que llegar\\u00e1 desd\", \"R\\u00e9plica del controlador de la NeoGeo CD para ser usado en NeoGeo Mini. Es una muy buena r\\u00e9plica pero\", \"Me ha encantado, es perfecto. Era justo lo que estaba buscando. Gracias\", null, null, \"Desgraciadamente Amazon no protege bien las cajas de los amiibo as\\u00ed que no lo recomiendo para colecc\", \"Buena y r\\u00e1pida entrega, pero la calidad del juego no es muy buena, un poco decepci\\u00f3n\", \"es divertido pero sin duda todav\\u00eda necesita mejorar (mas armadura, equilibrar y mas) pero sigo queri\", \"No estan mal pero muchos estan repetidos\", null, \"Uno de los pendientes no cierra..no podr\\u00e9 ponermelos. Bonitos si son pero el cierre no me gusta nada\", \"El collar me ha encantado lo que no me ha gustado es que puse otra direcci\\u00f3n para que lo entregaran \", null, \"Hoy es el d\\u00eda l\\u00edmite y no me he llegado el producto.\", \"En principio parece un gran producto, funciona correctamente. Tiene tres sistemas para adiestrar al \", null, \"A mi hijo Le ha encantado.\", \"Todo correcto pero despues lo encontr\\u00e9 mucho mas barato y devolvi\\u00f3. Empresa muy amable y muy f\\u00e1cil.p\", \"Es super c\\u00f3modo no pesa mucho ni ocupa mucho espacio buena fijaci\\u00f3n de volante y pedales yo tengo mo\", \"A ver, por el precio no se puede pedir tampoco una excesiva calidad y m\\u00e1s cuando cada poco tiempo es\", \"Pues q pone q es un collar y mas bien es una pulsera\", \"Para pc mola mucho ,pero no funciona con la rapsberry, por un poco m\\u00e1s comprate uno oficial y te sal\", null, null, \"Bonitas y muy fr\\u00e1giles. Muy delgado el palito, se dobla al intentar poner la tuerca.\", \"El dise\\u00f1o si me ha gustado. Pero se hacen negras enseguida\", \"Lleg\\u00f3 a tiempo y en perfecto estado\", \"Se ray\\u00f3 a los seis meses\", \"Muy chulos pero un poco grandes\", \"Es un poco peque\\u00f1a pero la regalar\\u00e9 a y me la pondre\", null, null, \"Perfecto y en tiempo\", null, null, \"nunca funciono... asi es que lo devolvi. ningun problema en la devolucion al menos. no quede satisfe\", \"Excelente producto.Necesario para toda PS4 Pro.Cumple doble funci\\u00f3n una est\\u00e9tica y otra para aumenta\", \"Jam\\u00e1s me lleg\\u00f3. No entiendo como Amazon tiene vendedores externos tan sinverg\\u00fcenzas.\", \"Llego roto. Partida por lamitad la piedra.\", null, \"los pendientes son bonitos, los he pedido porque tenia unos iguales y los he perdido pero estos son \", null, null, null, \"Cuando se moja por la ducha se dilatan las cuerdas\", null, \"Son demasiado grandes\", \"Las perlas, o lo qu\\u00e9 sean, est\\u00e1n bien son bonitas y relacion precio calidad no pueden ser mejores; p\", null, \"Solo puedo decir que aun siguiendo todos los pasos y algun tutorial, no consegui que funcionara en m\", \"Vendedor no recomendado. Me han enviado la pulsera que no era. He realizado el pedido para regalo de\", null, null, null, \"No tiene nada que ver la foto con lo que te llega a casa.\", \"Tama\\u00f1o perfecto, ni enormes ni muy peque\\u00f1os y los enganches son muy c\\u00f3modos. El dise\\u00f1o es muy bonito\", \"No se puede ajustar a una mano de hombre NORMAL , mas bien es para las mu\\u00f1ecas de mujer, por lo tant\", null, \"El tama\\u00f1o, ser\\u00eda mejor menos y un poco m\\u00e1s grandes\", \"Fue un regalo , y le encant\\u00f3 y no es muy grande\", null, null, \"Buen producto a buen precio entrega muy r\\u00e1pida conforme con el env\\u00edo recomiendo al vendedor viene la\", null, null, null, \"Perfecto. El juego funciona. \\u00c9xito\", null, \"No lo he jugado ni lo voy a jugar solo queria otro juego mas y las monedas para canjear.\", \"No llegan en la fecha indicada\", null, \"Excelente producto son muy bonitos\", \"No tiene nada que ver el color de la foto con la realidad. Es cristal tintado en claro.\", \"Buena relaci\\u00f3n calidad precio, ambas pulseras con dise\\u00f1o bonito, se ajustan a la mu\\u00f1eca perfectament\", \"Tal y como se describen, estoy muy contenta con la compra y a mi chico le encantaron. Env\\u00edo puntual,\", \"El producto en buen estado. Perfecto.\", \"Cumplen su funcion?: Si Cumplen su funcion de forma diferente a otras marcas?: No Valen lo que cuest\", \"Juego con un mont\\u00f3n de micropagos para desbloquear coches, eventos y pistas.\", null, \"Muy buenas, compramos el colgante en forma de coraz\\u00f3n, nos ha salido defectuoso, no creo que sea de \", \"En si es un juego excelente y viene con todos los dlcs. Pero graficamente no ha mejorado nada o casi\", \"Menos de un mes jugando y joistick derecho da problemas cuando pulsas rt, MUY LAMENTABLE\", \"No me ha llegado aun\", null], \"type\": \"scatter\", \"x\": [-0.01850572780154433, -0.07073033604539979, -0.03360747561430162, -0.04475315647281396, 0.026124039657707904, -0.025716925267640415, -0.0698687550914661, -0.0034189376637693484, -0.07454586004911094, -0.05404001988834461, 0.16394022174888676, -0.05156611943421812, -0.03503990586419459, -0.06825560503803471, -0.050794112206540364, -0.045024117022086085, 0.08724424139888268, 0.06761660352254148, -0.011096958893349334, -0.03694922704949232, 0.06274068772039751, -0.045859885978939155, 0.10861843012045816, 0.24134113406046753, 0.008437003028328404, 0.03140795299170259, -0.029396797319307878, -0.046926690398850925, 0.03907742573269286, 0.15913975326581647, -0.06950200556178515, -0.08493157792344012, 0.04211878867430715, 0.1872534514653345, -0.07191946144798061, -0.04377730713250487, 0.13808281365175185, 0.04338366551851233, 0.7207740010945235, -0.05265257405681044, -0.06153463494381893, 0.0038462153134238993, -0.0348694975497739, -0.06879785701029979, -0.019528436067438388, -0.058273446329130216, -0.06678345654651563, 0.0018343788892726906, -0.0622570284654214, -0.019792338797457783, -0.07120532814109182, -0.020229071971144392, 0.08559892341207803, -0.010926589565996169, -0.03883968036333715, -0.00023724244732967604, -0.05189902052278081, 0.04086053998618671, -0.032391047777494464, 0.0033267669554457075, 0.013272125954821409, 0.09134097587649533, 0.18377994358505265, -0.0887422922312707, -0.010027845594995586, 0.047103088511704735, 0.017265617020112478, -0.05669663835036591, -0.022500580195515953, -0.07206051178945413, 0.08919097081699404, -0.06737515185267003, 0.07382699634818143, -0.055548964016602725, -0.0788634521381092, -0.06067622693567948, -0.08594865453324162, 0.05623153376123687, -0.04889522497975816, -0.045699616190137286, 0.18040646008082992, 0.10003217388965145, -0.045320421939605574, -0.06500434643321777, 0.12647602688945114, -0.03750763798168974, -0.12704647884521994, 0.025011704422648506, -0.08587945184842252, -0.06663794995898221, -0.016738529006494092, 0.0010778703655400991, -0.03343149219199798, 0.12381641514676528, -0.08977888383143828, -0.035745683793972784, -0.03277310225802142, -0.04753347817285386, 0.08140825869149143, -0.05813953622942322, 0.22701252139878444, 0.17754074962535846, -0.04151421056280652, -0.03643532818456387, 0.04856419414987339, 0.06300741622830656, -0.0807530134410683, 0.2032042552340926, -0.012184462012948509, -0.05942836147633582, -0.04065527106010937, -0.033274806169668825, 0.13066811757688568, -0.09160034872859864, 0.19294702186712231, -0.04162948406519888, 0.04537731347397523, 0.19063789292122627, 0.06759981298270802, -0.008485484455235864, -0.033232073571018116, -0.05538914688743569, -0.006643020606272854, -0.03246746518721945, -0.22040048519382838, 0.1266708140558865, 0.04261091470710806, -0.051577364227555766, 0.2464566501369819, -0.08451443686806424, -0.06832074926806911, 0.056036411059525636, -0.05939246459914643, 0.09212681455395391, 0.06589436303978737, 0.09997595818576543, -0.04441695296089255, 0.17510234164999128, 0.11328271642317303, 0.08424048104012816, -0.036979114583706466, -0.06548004912015938, -0.05061197169872315, -0.05275019254868401, -0.016336242567573066, -0.09096869578374232, -0.05432293901105052, -0.05933997504598656, 0.021894171731899552, 0.09982561828631376, 0.04893525213610965, -0.06225012137542675, -0.06403818610007275, -0.019290494225776156, -0.019284159631880973, 0.22615342267345398, -0.059614206384305354, 0.016676832413574195, -0.08446470809301812, -0.06595294807017604, -0.026578911030025312, -0.13318801431373786, -0.07740091938797934, -0.0041028105527458674, 0.008860281353854091, 0.14053043774327867, -0.0441361994128448, -0.04392007508043385, -0.15067072914260102, 0.15004001529921807, 0.10908594604804321, 0.08101119716300058, -0.07918771412993002, 0.3350645978994954, 0.05746008565864072, 0.0011302562796327168, -0.07136884166161864, -0.05718752137019264, 0.002131705986903383, 0.02922450229052817, -0.05945554387098843, -0.07902230742866594, -0.07855407414249467, 0.0109360242047049, -0.0735575170146067, -0.022702914845900816, 0.06486395277340039, 0.08597265236477658, -0.017276397276725617, -0.09716421247300483, -0.030329449974621874, -0.03982332025165377, -0.017989476795081318, -0.04678100937397787, 0.16608182946295758, -0.03969878185295965, -0.06960677660383371, -0.04411557008303845, 0.1369654724403623, -0.051887363762496, 0.04977131385428999, -0.02373585928537775, 0.1820667996237549, -0.049801669584128315, 0.08631278093651, 0.17175310625049592, -0.05307631104382969, -0.08315546187564322, 0.30805193404936143, 0.08419354412571564, -0.0052810948525215135, 0.0816512405742916, 0.09285400918784416, 0.10765229129435801, -0.02704681903425224, -0.0643341313422715, 0.18346702317790875, -0.031762451475977796, -0.06680035762951891, -0.062311778432358675, -0.038216175433624135, -0.08051829807145242, -0.08772753984736156, -0.03852699009781556, -0.027496568158745953, -0.04991163277424409, -0.03676243178609862, -0.03872128546250986, 0.3826930942327314, -0.07569483425803807, 0.1888167889646705, 0.22887121667615692, -0.07657557602444309, -0.16552874611995902, -0.025930564866897723, -0.07977968853063627, -0.08757524687579576, -0.05121791870997241, -0.054116231486957725, -0.07348843289782224, -0.013960845142249446, 0.07010334440558172, -0.07018330631472308, -0.0709411200110483, -0.055337732026768865, 0.024139189077140133, -0.07624730604787519, -0.04951410404994955, -0.051045080341450715, -0.03346099259794939, -0.019932956458592044, -0.061270885011752124, -0.04258115513001221, -0.04535156985286875, -0.04683814756580664, 0.13185363952901424, -0.008156033577053632, -0.06990852584603893, -0.04713493138934159, 0.07425850820267876, -0.04131199383130818, 0.22365739642284302, -0.04121039791537754, -0.033406221747926665, 0.18982520256143953, -0.046979737785718324, 0.050727933305749005, -0.0609248652351888, 0.0069993718878775275, -0.03241799857822185, -0.06977047554479816, -0.09441109672792884, -0.09795877090401522, -0.11530038481219619, 0.07508279960293004, -0.07928669683952386, -0.04520129105892558, -0.045109025090891805, -0.18964442529990463, -0.09560275606060811, 0.15646841505651596, -0.011930804663738635, -0.0486820334645055, -0.05029341888209363, 0.07533698374889752, -0.08135076274094996, -0.05939371007955206, -0.20199078738122347, 0.2828523520360888, -0.03403525243057459, -0.04260796733769056, 0.07729202943892544, -0.054250530177454306, -0.0320358372007101, 0.03422098807716692, -0.005334982362199848, -0.07524474941201763, 0.0629484441306372, -0.046630436293761464, -0.0785014838737734, 0.040449900376979604, -0.03793293107630056, 0.15617800925072675, -0.05321759432501525, -0.04473119759238919, -0.033795507423483015, 0.07573352315927119, 0.1619672228786958, -0.03721420330443682, -0.015532055491061599, 0.13352238465026367, -0.03986718099757298, -0.05771818404735013, 0.036112245289184046, -0.04561907000425114, -0.16298596682051816, -0.03128848360392692, -0.04874149732363704, 0.3431489737217723, -0.05028720224256138, -0.044818687803946065, -0.03902491496517982, -0.04256128276494215, -0.024317370460488763, -0.018924804155166876, -0.14762544418340426, -0.07124150354703858, -0.01835947651635429, -0.05286960058442804, -0.017202852495480626, 0.035059609453454016, 0.1255848481103581, -0.06676184983499352, -0.02036719701152793, -0.048208718202863377, -0.09439910670279755, -0.05488183287258955, -0.03567800515434348, -0.041934424151788094, 0.09105350771954997, 0.010340590752707886, -0.04479852500936824, -0.003400394664273011, -0.0622483752771688, -0.03113641762133038, -0.03650056666757545, -0.0378977661217521, 0.05187462309661231, 0.044165807017593775, -0.07764533894706, -0.020522888320278904, -0.07798663808744087, -0.053010098995746366, 0.056468361753380984, -0.08904442174232434, 0.15994515673386006, -0.04970929839025569, 0.04728312137503338, -0.04774035158137277, -0.05146249661872975, -0.049720829880073945, -0.0490250440865161, 0.08503596837558075, -0.06717697883600923, -0.10736340673042837, -0.05155232998547575, 0.06746317173591997, -0.013763557873858231, 0.10453317866217261, -0.05026030848527016, -0.07005258703012249, -0.04599045590798882, -0.04386344311875651, -0.07286337101022154, -0.05672427922964837, -0.056410919904729045, 0.055070811097351985, 0.006625182879527648, -0.06616449827691774, -0.031951927550379414, 0.01590732942424127, -0.08443895840469853, -0.023814773542565112, -0.01324167653909074, -0.05688039072936271, -0.08234694016222469, 0.08000076162194403, -0.07831768764612247, -0.048336566929796064, -0.10457993220168706, 0.13046303830949613, 0.0019884488033653116, -0.10736340673042837, -0.11045461772761977, -0.03525252979163123, -0.006522218289169021, -0.033805516913360235, 0.025445097033312714, -0.19624551560922235, -0.005943384308812657, -0.053233655776100605, -0.124979188410099, -0.06417299000042334, 0.12696106409789681, -0.04275970803880611, -0.07594991850602865, 0.022124056992434624, 0.01055623713696859, -0.008498204698203062, 0.12615403200321765, 0.006500087485601648, -0.052070321529612364, 0.040130498141975855, -0.07966833724504638, 0.0024305009689377034, -0.05397395579155419, 0.03990926926582263, -0.05486613720681263, 0.31113995924798693, 0.08383861973992573, -0.05900894271303666, -0.06602202106131048, -0.047466067969875896, -0.06075864952150217, -0.036374754332705456, -0.05232364918614021, 0.16116085728689836, -0.05537281653302137, 0.02287985604866133, -0.14101321081243595, -0.04381808675966466, 0.03181422166362712, -0.055051482205940305, 0.13481071280420584, 0.08948606285868524, -0.006176654165580159, -0.06330813913023094, -0.035528934716542095, 0.04812227467012017, 0.08312372097559508, -0.04434161744094591, -0.00595871156223555, -0.03366568070400721, -0.003996105287877688, -0.05360899464933186, -0.07703567718880767, 0.12450064163676602, 0.004268059533696944, -0.04272345031828039, -0.0802876357871275, 0.048949102604524314, -0.059607422558040614, -0.03774587451040167, 0.048115383662097576, 0.04315973605301114, 0.804760830572401, -0.0775977252185126, -0.05587916977054401, -0.040968791872398956, -0.015688392528788866, -0.08793070199510118, -0.06403551628157056, -0.06414605236319239, -0.03816228588030256, -0.014358780502910494, 0.7207740010945235, -0.04952536800089762, -0.04365729864582811, 0.009597486670003093, -0.17605738679569818, 0.08243936735476755, -0.13302436692055447, 0.032081304801437734, 0.0517685473027216, 0.08646579226210872, -0.03961728553612767, -0.03348783101204931, -0.020154400099631823, 0.048227668526561046, -0.052324074548735805, -0.04634322148908063, -0.07222815055997651, -0.17086871064509532, -0.05042763468472068, -0.030991073957071305, -0.08342656841104842, -0.043490011146101494, 0.0738413514549945, -0.03382400537243936, -0.01922369668564295, -0.058978480097346936, 0.0459191164440274, 0.04457770543642403, -0.08447386054401909, -0.05100704211842536, 0.05823313924777891, -0.03663258710775767, -0.014260826058362987, -0.1278505641891449, 0.14846203523129164, -0.05221386960922768, -0.041867196700382456, -0.0449681837419851, 0.10714496035717846, 0.1695149104026899, 0.015100191725775357, -0.03535773828688952, 0.035516936539205665, 0.1642031908241506, -0.037627215380385645, -0.03181011338515764, 0.02476999792258782, -0.045282017924519274, 0.3986268585838246, -0.024239039437309713, 0.11628395753678158, -0.06071570120558681, 0.003999992552951983, -0.05322322352793614, -0.07543835253133158, -0.04218660688916458, -0.05268490792481233, 0.19562839212761288, -0.04079536628453518, 0.03004551071381444, -0.08205952151192598, -0.08085820075466335, 0.06938433455588264, 0.026726379586888376, -0.05526113688697014, 0.5758828891658079, -0.009342128141734, -0.036555015015220446, 0.05978609408091374, -0.08400708509450035, -0.05680221963633663, 0.10278149128510014, -0.03337346654626483, -0.042826569450897585, 0.15700096858366436, 0.03464292510791584, -0.03460564750626558, -0.058861252040993205, -0.081353135030229, -0.024317945062199166, 0.01610090600568765, -0.07436750723771618, -0.08020013634861022, -0.044917983741221384, -0.029413869612272835, -0.048757144163062566, 0.03254330924430372, -0.08778499940928984, -0.07994346211119037, -0.04566327386018114, -0.026446968882214632, -0.03867418606151429, -0.052838648841329265, -0.05903321180025809, -0.061527528500837834, -0.05914172444036026, -0.02105685413216548, -0.08858469149950773, -0.04455760989994979, -0.05170592494033374, -0.037572624455792805, 0.30387299149621394, -0.0351769172688173, -0.04357742139185541, -0.02229641457450013, 0.3363938337258792, -0.08760956483344709, -0.04891689063536007, 0.11741619839339634, -0.05149543008334239, -0.03287306021296157, 0.11613417918165544, -0.0640813097885531, 0.4132645505212033, 0.1256231804769887, -0.058842270535776606, 0.06134652507949363, 0.05979940099966371, 0.026288795767273998, -0.0026598854425014164, 0.07778552203577956, -0.04501455857000833, -0.058077622173109966, 0.1553549533874966, -0.04622828286146463, 0.0967307282986643, 0.12433387295024081, -0.0768756026743043, -0.05103217994476838, -0.02927007185604506, -0.04637944516357019, -0.034015612953869276, 0.055957562655136295, 0.04193095174683065, -0.037465584697685184, 0.050083435876756746, -0.059143279492488994, -0.06997631393958323, -0.07048997575559082, -0.04982597544505858, 0.2761534200678214, -0.029704836955951556, -0.04013163622327556, -0.04296881602215324, 0.067663367225727, -0.07640707544707583, 0.003108072868567172, -0.011279490555878771, -0.03832292275899825, -0.06483976646770322, -0.04907737679645213, -0.05295096717438446, -0.038652220583893296, 0.013550149689832529, -0.06237341908372212, -0.014282522391423495, 0.17121911486594737, 0.06448495214621607, 0.0798943338477874, -0.07007030813270639, -0.08118127065034948, -0.12903780128304748, 0.021327779633267426, -0.015080241701094628, 0.03732840482181796, -0.0548226414561329, -0.04102596570505209, 0.12014346776697994, -0.04417619809994671, 0.030036839779476958, 0.03462315438729795, -0.012699962424399169, -0.024226943271097614, -0.06890721957155244, -0.05657867886158387, 0.028691150374142212, -0.0206400633761416, -0.044142487934141036, 0.08856740737676737, -0.12132092491526433, -0.035514866895488946, -0.08928873745777482, -0.04548338283046114, -0.059166115355605974, -0.039679264697091654, 0.050936453936664766, -0.03590924692739122, -0.04119719418950466, -0.0628605493058619, -0.03194541166715075, 0.028511646683096917, 0.05025440469793472, -0.05913958671165369, -0.05264888236395379, -0.05169942971989394, -0.03380550997852546, 0.023682324060917897, -0.03452619091195562, 0.06636458335497881, -0.026092706799745756, 0.14882077984153957, 0.2770570167538452, -0.01885549329164025, 0.11243986121481316, -0.040709872625619606, -0.057205937266219815, 0.1074081620811909, -0.05786401948316293, 0.10455419908042218, -0.04680619493814433, -0.040643876711314884, 0.16125434594372978, 0.06560206408643647, 0.12513861160617404, -0.04643081170302871, -0.05422900814838597, 0.09447293483891947, -0.08096602044432949, 0.06803908894499408, -0.023398870360602033, -0.055603410400338976, -0.03734882180985576, 0.06422067223343182, -0.03363649634024241, 0.013010290039128222, -0.08082412997876556, -0.07457146934142028, -0.03407796596279362, -0.034027761052699126, 0.01450693355474983, -0.1527972951755308, 0.3618176080604013, -0.05223658918892, -0.04554179077620043, 0.19560900811865167], \"y\": [0.0242226862829441, 0.013199122290832283, 0.008107563589053783, 0.009795316658588077, -0.09117256114695962, -0.003027003525603819, -0.0095955129427485, -0.013239545053209524, -0.026108148651142745, -0.024338618339903535, 0.12667632957912237, -0.0022569122188364514, 0.0027378942607301656, -0.01829898516197839, 0.07481125936745084, -0.017466098888073513, -0.12576759663278447, 0.05771849960257361, -0.03512396906839896, 0.008558607162319981, -0.12393427560064608, 0.0031091476279602416, -0.16717285598369266, -0.2782123903391831, 0.04159363579445824, 0.007030656822924957, -0.019513847966147125, 0.019363747438856452, 0.17483941638004857, -0.22115042641886118, -0.015555901307305817, -0.04090174258333575, -0.007075396888517884, 0.19631548301489596, -0.02009106354076181, -0.013836684159639599, 0.30195341854451985, -0.09709968176593947, -0.3644242228669319, -0.01320906586190879, -0.0053167136368154075, -0.011518857775239902, -0.019454327601485962, 0.01207458600727368, 0.08196261629159635, -0.021733002610317645, -0.040076193586105556, -0.053104135911059475, -0.012592781307810458, 0.0026597969263796248, -0.0063038154763334145, -0.011575595728185627, 0.19050625851865227, -0.01305425683886986, 0.06837389737677844, 0.013892333884020138, -0.004404255192716708, 0.034820641337898216, -0.011806404223084795, -0.03418029951576243, 0.11094628544709806, 0.03805695428947972, -0.019405509984331087, -0.001462175335142469, 0.07012536717494905, -0.006530457353619405, 0.0007740409029552074, -0.0243458453517016, -0.03527674084049814, -0.03288581239793812, -0.13597019531624802, -0.005815178354134171, 0.10156764716318258, -0.00602035463796013, -0.018328433517468757, 0.03785829179800195, -0.025673870821551214, 0.020223854140000268, -0.001871456363284069, 0.001719228824671453, 0.36662254961472135, -0.1965931625166565, -0.0008533415671974038, -0.014853127038793056, -0.05377585444067316, 0.023211910112960896, -0.04384735814689112, -0.02190774325405378, 0.003667886644194834, -0.028521997291949045, 0.02580765196829233, -0.013318985010869177, -0.025855278828419117, 0.14542793545980057, -0.026381675815708026, -0.009133847941611588, 0.02342272336033556, 0.04316538563134283, -0.030589366229638336, -0.009410569921787505, 0.2621422806166281, 0.22163986226136312, -0.003640181944656554, 0.029878536823860144, -0.025287012301597002, -0.1147750893253225, -0.024942865239435067, 0.32788423068877826, 0.0032144306279287918, -0.009913812919678293, -0.0070095479449296515, 0.12591189946993842, 0.08861029939916842, -0.028773425907496084, 0.09303331648184324, -0.0038476284283314316, -0.13034435413285275, 0.015230063338146055, -0.12689544012086595, 0.0042024542608541824, -0.0015736821611303982, 0.023890560735878395, 0.023786558252269167, -0.0014658116966836335, -0.0647152411599417, -0.2284124855385465, 0.05889323477831699, -0.014333512089975402, -0.20194264752819066, -0.015698376408625807, -0.02417737153476484, -0.10688679719027003, -0.03548868554820964, 0.16521773784575625, 0.12173271977451552, 0.30556188445168764, -0.022723837122478746, 0.03891149489650575, 0.26019839669180767, -0.15454515718066403, -0.01625118471831292, -0.007272598453126638, -0.014074679024925405, 0.005266269711209824, 0.06704543401842267, -0.014542059338675842, -0.00653502268907745, -0.00999369437789448, -0.01167118886659561, 0.10428408459698911, 0.0048620362046764955, -0.007619153894086544, -0.02660722741877169, 0.017587386661031615, 0.14847086256280007, 0.5540678690192719, -0.0017872565883483224, 0.08489624154713463, -0.03380245836056305, 0.013284897788589514, -0.02321278447619606, -0.021135074047008706, -0.005200358721178269, -0.032830847101184946, -0.08733971445755075, -0.08917204862326317, -0.013404830481762197, -0.0016146560135600657, -0.018812455012335045, -0.0014093577222185419, -0.02349514078276172, 0.26727388870257046, -0.012763729058641985, -0.3954115338825784, 0.11507929467321881, -0.06303937465560723, -0.026200809059604795, 0.0034245855371322583, 0.011854210522705943, 0.12581203282519113, -0.011307548485853264, -0.029495001842784897, -0.0011645176714211052, -0.03040351352411962, -0.019879363380867255, 0.02965459342744538, 0.2197594090865988, -0.08865477136997829, -0.022496767043749425, -0.02634043737934573, 0.02676081127077069, 0.026518065206490474, -0.012492659162787304, 0.012006590504772685, -0.016286784400470346, -0.03173060773058346, -0.010948689212105654, 0.0097193674199516, 0.08837408349590044, 0.004327828708898388, 0.13362395942239233, -0.002741115168636909, -0.020032653843322624, -0.0022078026747861515, -0.023299340776539737, 0.10536522517875001, -0.0034054266445627587, -0.023588217005874764, -0.07654118729109062, -0.1317899073585464, 0.049153663707592124, -0.011593731285916604, -0.18025136740606032, 0.0171435129823968, 0.06272064514024052, -0.0345539653216495, 0.031762881940306825, -0.006145398124817215, -0.01932655252219381, -0.03972980326327825, -0.0003333751907519027, -0.011700788506182362, -0.03696313403180114, 0.03990925665591551, -0.01239631187900223, 0.017120755143294263, 0.04828815371895797, -0.004978989300628423, -0.1991460014991581, -0.02324939491460593, -0.14404781360296756, 0.18126146112895647, 0.009604771923494619, -0.013442253390536512, 0.015602882354880502, -0.013468818020789284, -0.021064454790396578, -0.008613976978579666, 0.019190888914587177, 0.01683632442336338, -0.03209818329989184, -0.1317046016805148, -0.02528633564571251, -0.019261201675612953, -0.0018534686301301233, -0.03359882778423036, -0.035108807337766626, -0.006351281516659575, -0.0012506709147532147, -0.006325492045675304, 0.01028557781652339, -0.0211375540766263, 0.02484129234788328, 0.03294013147585482, 0.012889166787554402, -0.051764549662124605, 0.06041598221576102, 0.01221886542512989, -0.024952236763882016, -0.10377734069058424, 0.002339480429693904, 0.005346466251001578, -0.028749939769189423, 0.008471102184997302, 0.02368442163352606, -9.245328960875301e-05, 0.11043494931920445, -0.001837995497314379, -0.024266638550033567, -0.018560072908503658, -0.024915946016721216, -0.015987796760663975, -0.039367506121486553, -0.01680076954010361, 0.20101665003809865, -0.011287549834796028, -0.0008618450929664828, 0.0013966865718814533, 0.11314161626022483, -0.11789730257705988, 0.2998242525454207, 0.0038242209297463985, -0.007095465970651563, -0.008423078759758607, -0.016048312329044603, 0.024924859485124483, -0.02463694900194079, -0.0971349290754904, 0.18937235757602353, 0.025668327977815198, -0.013049616843155034, -0.13010792945514038, 0.04501254623996657, -0.03208539590525429, -0.013898722589204156, -0.07097331123645056, -0.021167148511730207, 0.09684298144626338, 0.01195174144216795, 0.007112348039467855, 0.06018687335276998, -0.011710777447627321, -0.27100646631720265, 0.007329660716895224, 0.015308005785828688, -0.00743375707241028, -0.1180828354317163, -0.20087382063245324, -0.02045844670366351, -0.0013202020777189501, -0.0035634206634771247, 0.0033477245114804056, -0.021387611418145876, 0.05809663776141917, -0.01531401756513494, -0.011368145341771234, -0.0037771077924852823, -0.007817738577423697, -0.3061399547365828, -0.006571859438499457, -0.019291938497384364, 0.04795754256009697, -0.005530818231418428, 0.028024786627107185, -0.06290162853753853, -0.020286465519749736, 0.005219893037972377, -0.0011649653878701045, -0.016581495734179868, -0.01707623675482171, 0.0785746238763769, 0.08274881517085246, -0.02029062034080347, -0.026241030806115465, -0.015561639634196616, -0.026027869723322095, -0.004519234203211016, -0.030801112904029888, -0.017123513861305135, 0.1280646652358645, 0.042749731076160855, -0.003161626849662738, 0.00459533552032646, 0.0015643271041848419, 0.007272978602227617, 0.02283886288881881, -0.024725800349277523, -0.11708884802720602, -0.057522954698863545, -0.021580193991654763, -0.022918847984309584, -0.02105948087944358, -0.003294274822872461, 0.09428351828234433, -0.0013222851791820946, -0.2655551671117236, 0.015450454006070376, 0.25492204324994533, -0.025882308026728435, 0.06739451718927322, -0.03564513190190838, -0.005683970469244924, 0.17348835639014198, -0.0035376405382906745, -0.028639463571483635, 0.08477565507003039, 0.2176160133770934, 0.023514135567695726, -0.06100582540587394, -0.021269886094528144, -0.032322759963460894, 0.07681754725838535, 0.008364187988166504, 0.015103008886696594, -0.010367396638950619, -0.004403989275373097, 0.007387481312192793, 0.013817044489157344, -0.033583843016937565, -0.03491975051199198, -0.13951263697292374, 0.052501832336992675, 0.009165769593059009, 0.004254968759117568, -0.01795220263231981, -0.01888190011039812, -0.14216914926012955, -0.025436608777908164, -0.010047544185827713, -0.03542812173157504, 0.2569125811259912, 0.08483563745123823, -0.028639463571483635, -0.02611877295307734, -0.014576483875492822, -0.025864797011515415, -0.006760743358526517, -0.0823447297365467, -0.016992080271070287, -0.01866880749201804, 0.008510202442412185, -0.02158882242747554, -0.008820168346855076, 0.09426716744098308, -0.010957847970399, 0.007334483040031014, -0.1054119398338348, -0.02151739020890259, -0.0488515676136201, 0.21028742496810796, -0.06095278735768168, 0.0005284473740807551, -0.016867092136190448, -0.017354035000806057, 0.12959580168724966, -0.029897111817090764, 0.2432765194780571, -0.012622783146206386, 0.20337203271471502, -0.11509561466922438, -0.030640030253581807, -0.026086292004217793, -0.008398402045052327, -0.01533879613456509, 0.01226948489420777, -0.007428363468182179, 0.18957087155642077, 0.0015046686598750136, 0.08677578686181663, -0.0258894791653601, -0.025756365489475106, -0.02980385965336514, 0.0024402298094337235, -0.11979859677422176, -0.14025244823459157, -0.04263402244866271, 0.025930721161200657, 0.025482787978120303, 0.08546070922686708, -0.024469671856501087, 0.012532985948206208, -0.04739688644683744, -0.028411608576699512, -0.021883501560216023, -0.011043604175594426, -0.010986845549801923, -0.11545175248328601, -0.013854234219797416, 0.003864699571448371, -0.008806737901283467, 0.12401408281452068, -0.014918725003075865, -0.020775715887488354, 0.042895201628909856, 0.1433285190562986, -0.025599562322561983, -0.018755443887057632, -0.0019225479365843686, -0.006418299599477934, 0.06804703573139333, -0.03858325519707964, -0.005363520250542702, -0.013484479586527072, 0.025414588505145875, 0.041367148689403985, -0.3644242228669319, 0.006850715908484175, 0.03285398289947679, -0.07819258703806038, -0.00730342274493462, 0.008309227526895696, -0.013167094325931702, 0.17743423627993596, -0.08649793612362915, -0.09644688324515885, 0.011731694151653592, 0.015862737746070863, -0.007324370451197188, -0.1138643779141014, 0.06986061039066482, 0.05956799553797462, 0.013701058890763815, -0.025261866885828755, -0.01672985021934283, 0.030477265281988748, -0.04577936090770281, 0.0074053483340489334, -0.11355542676721123, 0.014168170060944918, 0.016229442966079862, 0.034628524588014735, 0.0744511175449428, -0.1396304768322162, -0.013010132620387608, -0.03135114281596122, 0.20673987342464994, -0.007587761986214402, -0.008746200783306044, -0.0075310542701110626, -0.14781582639442783, -0.0010702791543298479, -0.006833633061915636, -0.0037642142502930507, 0.15353565940101688, 0.44134169650662664, 0.002115907953809028, 0.03759561829372369, 0.08741272039640201, 0.16146130571003042, -0.028510960075429376, -0.014471134478798603, 0.07982091192877917, -0.008075508585172421, -0.2846014005920176, 0.040096035113682635, -0.12950711534358667, 0.030741278513754015, -0.014330100875418954, 0.03786017074329254, -0.008141943972574542, -0.028557346855534647, -0.026348778297051102, 0.41140819479190843, -0.0007333854306471435, -0.08512131983106982, -0.0058084583139875546, 0.03627458650094174, 0.05679567352618034, 0.0919796060284031, -0.012536547089886392, 0.5550972300058369, -0.017187397611670305, 0.0032712061417751355, -0.1104725431176475, 0.025661423144776204, -0.03372688639106792, -0.018364803674038657, 0.021761149450943356, 0.0003951173602779896, -0.1958600984290939, 0.06795008898657319, 0.013817727882755346, -0.005116810659332181, 0.002072267798934573, -0.01048317998134048, -0.05845398349375019, -0.00879622440521316, 0.039616488627728576, -0.007803431845625078, 0.03602717478971538, -0.0122842521296061, -0.004734951877273835, -0.0163261371978227, -0.024137050402536105, -0.006158796335689636, -0.008853143283831902, -0.006289200146668841, 0.023221311892186156, -0.005267600523479554, -0.00987952015352505, -0.006413281745880693, -0.09374313839460159, 0.08033346681279543, -0.01113533444263157, -0.012145179196326466, -0.010244168582047311, 0.11570053120468361, 0.035729590367414195, 0.0019459540472478432, 0.00327290902442378, -0.2400396931648844, -0.03745613443411278, -0.0800079330786926, 0.139129396993603, -0.0056989897390845885, 0.01233958980987192, 0.011791356174543547, 0.00015267288865911018, -0.3468129839535085, 0.001312579024186687, -0.01835152946048853, -0.11642069102800537, -0.10041888323652902, -0.006084850909555087, -0.011348722704691262, -0.11842870399089463, 0.004153919470289885, -0.002432403966883648, -0.2294623351866674, 0.0022480390368028445, -0.04741582947620474, 0.2874039004377857, -0.0031484747442281037, -0.0009028578474311058, -0.0664921093957528, -0.001273171097793198, -0.001319010772162859, -0.13145918370300658, 0.0654642072991697, 0.03877645689575067, 0.12503705208091842, -0.018439699593160032, 0.0012645662935514197, -0.013050541778273509, 0.0077441695118859975, 0.011286100657661552, 0.0793938294283904, 0.00040318093773693904, -0.0011698990340533856, -0.02170626822551676, -0.004027662912596213, -0.03241278919055507, 0.1850504469666868, -0.01888156408329198, -0.008331162640498303, 0.006131275847878757, -0.015336321661278653, -0.014197246155748949, -0.0721810663551809, -0.017083759636449435, 0.09879174539990213, -0.001584122379156511, -0.11144636494233046, 0.13001706503846375, -0.014288811392947453, -0.02699160681385037, -0.10751694123754188, -0.08609749801966099, 0.0478566787498935, 0.07795501361405231, -0.018062872085158777, 0.009683427007273147, 0.1991042323791747, -0.007590870193566805, -0.12548175869227654, -0.08708138401720428, -0.014461176170242283, -0.04643157397406482, 0.002946919086480324, 0.017147941569107504, 0.027320667431994218, 0.04032617845847152, 2.930169573356425e-05, -0.012070704999992868, -0.006560173038317187, 0.011691749144821495, 0.005595072189767102, 0.010820944754752114, -0.06807189133338462, -0.012829339262623468, 0.16115245683004523, 0.004106563639856618, -0.03315803382538473, -0.012350891797156947, -0.031191906666029938, -0.037712202217103495, -0.10330622805693385, -0.009467275435844618, -0.008040494191769044, 0.04696271909631364, 0.037827827500015156, -0.10687348503944123, -0.014354231278067732, 0.12690220884787037, 0.02310188806372942, 0.25656636924441356, 0.013541840997173258, -0.014327286978301148, -0.13046658719815804, 0.00582366268208849, -0.003855260233495433, -0.12318632235133475, -0.00956176720971083, 0.12850576228956168, -0.009049067122876488, 0.018693875506839968, 0.07095098439139179, -0.19544402387316193, -0.17129580461628258, 0.03247270032109657, -0.014831515420522107, 0.0017993431456919424, -0.010472327244021295, -0.1543105070469122, -0.005548264123103017, 0.011407396609783297, 0.023319523713061254, -0.07979821023486443, -0.07703491323342754, -0.07704237528438822, 0.0019131204479361005, -0.05490931223484897, -0.00936789550339393, 0.00042304513846588853, -0.05647715961266417, -0.002980182929287965, 0.09737110636463979, -0.007689478283602363, -0.002265150873214208, -0.12020399254871121]}],\n",
              "                        {\"template\": {\"data\": {\"bar\": [{\"error_x\": {\"color\": \"#2a3f5f\"}, \"error_y\": {\"color\": \"#2a3f5f\"}, \"marker\": {\"line\": {\"color\": \"#E5ECF6\", \"width\": 0.5}}, \"type\": \"bar\"}], \"barpolar\": [{\"marker\": {\"line\": {\"color\": \"#E5ECF6\", \"width\": 0.5}}, \"type\": \"barpolar\"}], \"carpet\": [{\"aaxis\": {\"endlinecolor\": \"#2a3f5f\", \"gridcolor\": \"white\", \"linecolor\": \"white\", \"minorgridcolor\": \"white\", \"startlinecolor\": \"#2a3f5f\"}, \"baxis\": {\"endlinecolor\": \"#2a3f5f\", \"gridcolor\": \"white\", \"linecolor\": \"white\", \"minorgridcolor\": \"white\", \"startlinecolor\": \"#2a3f5f\"}, \"type\": \"carpet\"}], \"choropleth\": [{\"colorbar\": {\"outlinewidth\": 0, \"ticks\": \"\"}, \"type\": \"choropleth\"}], \"contour\": [{\"colorbar\": {\"outlinewidth\": 0, \"ticks\": \"\"}, \"colorscale\": [[0.0, \"#0d0887\"], [0.1111111111111111, \"#46039f\"], [0.2222222222222222, \"#7201a8\"], [0.3333333333333333, \"#9c179e\"], [0.4444444444444444, \"#bd3786\"], [0.5555555555555556, \"#d8576b\"], [0.6666666666666666, \"#ed7953\"], [0.7777777777777778, \"#fb9f3a\"], [0.8888888888888888, \"#fdca26\"], [1.0, \"#f0f921\"]], \"type\": \"contour\"}], \"contourcarpet\": [{\"colorbar\": {\"outlinewidth\": 0, \"ticks\": \"\"}, \"type\": \"contourcarpet\"}], \"heatmap\": [{\"colorbar\": {\"outlinewidth\": 0, \"ticks\": \"\"}, \"colorscale\": [[0.0, \"#0d0887\"], [0.1111111111111111, \"#46039f\"], [0.2222222222222222, \"#7201a8\"], [0.3333333333333333, \"#9c179e\"], [0.4444444444444444, \"#bd3786\"], [0.5555555555555556, \"#d8576b\"], [0.6666666666666666, \"#ed7953\"], [0.7777777777777778, \"#fb9f3a\"], [0.8888888888888888, \"#fdca26\"], [1.0, \"#f0f921\"]], \"type\": \"heatmap\"}], \"heatmapgl\": [{\"colorbar\": {\"outlinewidth\": 0, \"ticks\": \"\"}, \"colorscale\": [[0.0, \"#0d0887\"], [0.1111111111111111, \"#46039f\"], [0.2222222222222222, \"#7201a8\"], [0.3333333333333333, \"#9c179e\"], [0.4444444444444444, \"#bd3786\"], [0.5555555555555556, \"#d8576b\"], [0.6666666666666666, \"#ed7953\"], [0.7777777777777778, \"#fb9f3a\"], [0.8888888888888888, \"#fdca26\"], [1.0, \"#f0f921\"]], \"type\": \"heatmapgl\"}], \"histogram\": [{\"marker\": {\"colorbar\": {\"outlinewidth\": 0, \"ticks\": \"\"}}, \"type\": \"histogram\"}], \"histogram2d\": [{\"colorbar\": {\"outlinewidth\": 0, \"ticks\": \"\"}, \"colorscale\": [[0.0, \"#0d0887\"], [0.1111111111111111, \"#46039f\"], [0.2222222222222222, \"#7201a8\"], [0.3333333333333333, \"#9c179e\"], [0.4444444444444444, \"#bd3786\"], [0.5555555555555556, \"#d8576b\"], [0.6666666666666666, \"#ed7953\"], [0.7777777777777778, \"#fb9f3a\"], [0.8888888888888888, \"#fdca26\"], [1.0, \"#f0f921\"]], \"type\": \"histogram2d\"}], \"histogram2dcontour\": [{\"colorbar\": {\"outlinewidth\": 0, \"ticks\": \"\"}, \"colorscale\": [[0.0, \"#0d0887\"], [0.1111111111111111, \"#46039f\"], [0.2222222222222222, \"#7201a8\"], [0.3333333333333333, \"#9c179e\"], [0.4444444444444444, \"#bd3786\"], [0.5555555555555556, \"#d8576b\"], [0.6666666666666666, \"#ed7953\"], [0.7777777777777778, \"#fb9f3a\"], [0.8888888888888888, \"#fdca26\"], [1.0, \"#f0f921\"]], \"type\": \"histogram2dcontour\"}], \"mesh3d\": [{\"colorbar\": {\"outlinewidth\": 0, \"ticks\": \"\"}, \"type\": \"mesh3d\"}], \"parcoords\": [{\"line\": {\"colorbar\": {\"outlinewidth\": 0, \"ticks\": \"\"}}, \"type\": \"parcoords\"}], \"pie\": [{\"automargin\": true, \"type\": \"pie\"}], \"scatter\": [{\"marker\": {\"colorbar\": {\"outlinewidth\": 0, \"ticks\": \"\"}}, \"type\": \"scatter\"}], \"scatter3d\": [{\"line\": {\"colorbar\": {\"outlinewidth\": 0, \"ticks\": \"\"}}, \"marker\": {\"colorbar\": {\"outlinewidth\": 0, \"ticks\": \"\"}}, \"type\": \"scatter3d\"}], \"scattercarpet\": [{\"marker\": {\"colorbar\": {\"outlinewidth\": 0, \"ticks\": \"\"}}, \"type\": \"scattercarpet\"}], \"scattergeo\": [{\"marker\": {\"colorbar\": {\"outlinewidth\": 0, \"ticks\": \"\"}}, \"type\": \"scattergeo\"}], \"scattergl\": [{\"marker\": {\"colorbar\": {\"outlinewidth\": 0, \"ticks\": \"\"}}, \"type\": \"scattergl\"}], \"scattermapbox\": [{\"marker\": {\"colorbar\": {\"outlinewidth\": 0, \"ticks\": \"\"}}, \"type\": \"scattermapbox\"}], \"scatterpolar\": [{\"marker\": {\"colorbar\": {\"outlinewidth\": 0, \"ticks\": \"\"}}, \"type\": \"scatterpolar\"}], \"scatterpolargl\": [{\"marker\": {\"colorbar\": {\"outlinewidth\": 0, \"ticks\": \"\"}}, \"type\": \"scatterpolargl\"}], \"scatterternary\": [{\"marker\": {\"colorbar\": {\"outlinewidth\": 0, \"ticks\": \"\"}}, \"type\": \"scatterternary\"}], \"surface\": [{\"colorbar\": {\"outlinewidth\": 0, \"ticks\": \"\"}, \"colorscale\": [[0.0, \"#0d0887\"], [0.1111111111111111, \"#46039f\"], [0.2222222222222222, \"#7201a8\"], [0.3333333333333333, \"#9c179e\"], [0.4444444444444444, \"#bd3786\"], [0.5555555555555556, \"#d8576b\"], [0.6666666666666666, \"#ed7953\"], [0.7777777777777778, \"#fb9f3a\"], [0.8888888888888888, \"#fdca26\"], [1.0, \"#f0f921\"]], \"type\": \"surface\"}], \"table\": [{\"cells\": {\"fill\": {\"color\": \"#EBF0F8\"}, \"line\": {\"color\": \"white\"}}, \"header\": {\"fill\": {\"color\": \"#C8D4E3\"}, \"line\": {\"color\": \"white\"}}, \"type\": \"table\"}]}, \"layout\": {\"annotationdefaults\": {\"arrowcolor\": \"#2a3f5f\", \"arrowhead\": 0, \"arrowwidth\": 1}, \"coloraxis\": {\"colorbar\": {\"outlinewidth\": 0, \"ticks\": \"\"}}, \"colorscale\": {\"diverging\": [[0, \"#8e0152\"], [0.1, \"#c51b7d\"], [0.2, \"#de77ae\"], [0.3, \"#f1b6da\"], [0.4, \"#fde0ef\"], [0.5, \"#f7f7f7\"], [0.6, \"#e6f5d0\"], [0.7, \"#b8e186\"], [0.8, \"#7fbc41\"], [0.9, \"#4d9221\"], [1, \"#276419\"]], \"sequential\": [[0.0, \"#0d0887\"], [0.1111111111111111, \"#46039f\"], [0.2222222222222222, \"#7201a8\"], [0.3333333333333333, \"#9c179e\"], [0.4444444444444444, \"#bd3786\"], [0.5555555555555556, \"#d8576b\"], [0.6666666666666666, \"#ed7953\"], [0.7777777777777778, \"#fb9f3a\"], [0.8888888888888888, \"#fdca26\"], [1.0, \"#f0f921\"]], \"sequentialminus\": [[0.0, \"#0d0887\"], [0.1111111111111111, \"#46039f\"], [0.2222222222222222, \"#7201a8\"], [0.3333333333333333, \"#9c179e\"], [0.4444444444444444, \"#bd3786\"], [0.5555555555555556, \"#d8576b\"], [0.6666666666666666, \"#ed7953\"], [0.7777777777777778, \"#fb9f3a\"], [0.8888888888888888, \"#fdca26\"], [1.0, \"#f0f921\"]]}, \"colorway\": [\"#636efa\", \"#EF553B\", \"#00cc96\", \"#ab63fa\", \"#FFA15A\", \"#19d3f3\", \"#FF6692\", \"#B6E880\", \"#FF97FF\", \"#FECB52\"], \"font\": {\"color\": \"#2a3f5f\"}, \"geo\": {\"bgcolor\": \"white\", \"lakecolor\": \"white\", \"landcolor\": \"#E5ECF6\", \"showlakes\": true, \"showland\": true, \"subunitcolor\": \"white\"}, \"hoverlabel\": {\"align\": \"left\"}, \"hovermode\": \"closest\", \"mapbox\": {\"style\": \"light\"}, \"paper_bgcolor\": \"white\", \"plot_bgcolor\": \"#E5ECF6\", \"polar\": {\"angularaxis\": {\"gridcolor\": \"white\", \"linecolor\": \"white\", \"ticks\": \"\"}, \"bgcolor\": \"#E5ECF6\", \"radialaxis\": {\"gridcolor\": \"white\", \"linecolor\": \"white\", \"ticks\": \"\"}}, \"scene\": {\"xaxis\": {\"backgroundcolor\": \"#E5ECF6\", \"gridcolor\": \"white\", \"gridwidth\": 2, \"linecolor\": \"white\", \"showbackground\": true, \"ticks\": \"\", \"zerolinecolor\": \"white\"}, \"yaxis\": {\"backgroundcolor\": \"#E5ECF6\", \"gridcolor\": \"white\", \"gridwidth\": 2, \"linecolor\": \"white\", \"showbackground\": true, \"ticks\": \"\", \"zerolinecolor\": \"white\"}, \"zaxis\": {\"backgroundcolor\": \"#E5ECF6\", \"gridcolor\": \"white\", \"gridwidth\": 2, \"linecolor\": \"white\", \"showbackground\": true, \"ticks\": \"\", \"zerolinecolor\": \"white\"}}, \"shapedefaults\": {\"line\": {\"color\": \"#2a3f5f\"}}, \"ternary\": {\"aaxis\": {\"gridcolor\": \"white\", \"linecolor\": \"white\", \"ticks\": \"\"}, \"baxis\": {\"gridcolor\": \"white\", \"linecolor\": \"white\", \"ticks\": \"\"}, \"bgcolor\": \"#E5ECF6\", \"caxis\": {\"gridcolor\": \"white\", \"linecolor\": \"white\", \"ticks\": \"\"}}, \"title\": {\"x\": 0.05}, \"xaxis\": {\"automargin\": true, \"gridcolor\": \"white\", \"linecolor\": \"white\", \"ticks\": \"\", \"title\": {\"standoff\": 15}, \"zerolinecolor\": \"white\", \"zerolinewidth\": 2}, \"yaxis\": {\"automargin\": true, \"gridcolor\": \"white\", \"linecolor\": \"white\", \"ticks\": \"\", \"title\": {\"standoff\": 15}, \"zerolinecolor\": \"white\", \"zerolinewidth\": 2}}}, \"title\": {\"text\": \"PCA\"}},\n",
              "                        {\"responsive\": true}\n",
              "                    ).then(function(){\n",
              "                            \n",
              "var gd = document.getElementById('6cfa57c3-4dfc-40ab-96be-8081340839d7');\n",
              "var x = new MutationObserver(function (mutations, observer) {{\n",
              "        var display = window.getComputedStyle(gd).display;\n",
              "        if (!display || display === 'none') {{\n",
              "            console.log([gd, 'removed!']);\n",
              "            Plotly.purge(gd);\n",
              "            observer.disconnect();\n",
              "        }}\n",
              "}});\n",
              "\n",
              "// Listen for the removal of the full notebook cells\n",
              "var notebookContainer = gd.closest('#notebook-container');\n",
              "if (notebookContainer) {{\n",
              "    x.observe(notebookContainer, {childList: true});\n",
              "}}\n",
              "\n",
              "// Listen for the clearing of the current output cell\n",
              "var outputEl = gd.closest('.output');\n",
              "if (outputEl) {{\n",
              "    x.observe(outputEl, {childList: true});\n",
              "}}\n",
              "\n",
              "                        })\n",
              "                };\n",
              "                \n",
              "            </script>\n",
              "        </div>\n",
              "</body>\n",
              "</html>"
            ]
          },
          "metadata": {
            "tags": []
          }
        }
      ]
    },
    {
      "cell_type": "markdown",
      "metadata": {
        "id": "4pouei0qwEeQ"
      },
      "source": [
        "# Parte 3: Comparación"
      ]
    },
    {
      "cell_type": "markdown",
      "metadata": {
        "id": "FrrEHI68wEeQ"
      },
      "source": [
        "### `[6 pts]` Punto 1: Hacer predicción para estas dos frases de los dos modelos"
      ]
    },
    {
      "cell_type": "code",
      "metadata": {
        "id": "9PhSl_lmwEeR",
        "outputId": "9786dc02-3dee-442b-d229-371d540bf4d8"
      },
      "source": [
        "test = [\"Necesitas el juego inicial para eso\", \"Preciosos estos aretes, buena calidad\"]\n",
        "# transformar con tfidf usado para clasificación\n",
        "# transformar con tfidf usado para agrupación\n",
        "\n",
        "# resultado para clasificación\n",
        "# resultado para agrupación"
      ],
      "execution_count": null,
      "outputs": [
        {
          "output_type": "stream",
          "text": [
            "['video_games' 'jewelry']\n",
            "[1 2]\n"
          ],
          "name": "stdout"
        }
      ]
    },
    {
      "cell_type": "markdown",
      "metadata": {
        "id": "oZmnHtJ2wEeT"
      },
      "source": [
        "### `[2 pts]` Punto 2: Preguntas\n",
        "\n",
        "- ¿A cuál modelo le fue mejor? \n",
        "- ¿Cuál modelo se demoró más en entrenar? \n",
        "- Según los resultados del $K$-Means, ¿cuál es la estructura latente de los datos?\n",
        "- ¿Alguna otra observación?"
      ]
    }
  ]
}