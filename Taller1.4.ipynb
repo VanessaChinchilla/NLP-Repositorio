{
 "cells": [
  {
   "cell_type": "code",
   "execution_count": null,
   "metadata": {},
   "outputs": [],
   "source": [
    "# Importar Archivo"
   ]
  },
  {
   "cell_type": "code",
   "execution_count": 7,
   "metadata": {},
   "outputs": [],
   "source": [
    "import pandas as pd\n",
    "data = pd.read_csv(\"Datos_Clase1.csv\")"
   ]
  },
  {
   "cell_type": "code",
   "execution_count": 19,
   "metadata": {
    "scrolled": true
   },
   "outputs": [
    {
     "data": {
      "text/html": [
       "<div>\n",
       "<style scoped>\n",
       "    .dataframe tbody tr th:only-of-type {\n",
       "        vertical-align: middle;\n",
       "    }\n",
       "\n",
       "    .dataframe tbody tr th {\n",
       "        vertical-align: top;\n",
       "    }\n",
       "\n",
       "    .dataframe thead th {\n",
       "        text-align: right;\n",
       "    }\n",
       "</style>\n",
       "<table border=\"1\" class=\"dataframe\">\n",
       "  <thead>\n",
       "    <tr style=\"text-align: right;\">\n",
       "      <th></th>\n",
       "      <th>#</th>\n",
       "      <th>Nombre</th>\n",
       "      <th>¿Por qué estás estudiando análitica estratégica de datos?</th>\n",
       "      <th>Sistema Operativo</th>\n",
       "    </tr>\n",
       "  </thead>\n",
       "  <tbody>\n",
       "    <tr>\n",
       "      <th>0</th>\n",
       "      <td>1</td>\n",
       "      <td>Viviana Márquez</td>\n",
       "      <td>Me gustan mucho las matemáticas, la programaci...</td>\n",
       "      <td>macOSx</td>\n",
       "    </tr>\n",
       "    <tr>\n",
       "      <th>1</th>\n",
       "      <td>2</td>\n",
       "      <td>Jorge Gomez</td>\n",
       "      <td>Desarrollo profesional y proyecto personal.</td>\n",
       "      <td>Windows x64</td>\n",
       "    </tr>\n",
       "    <tr>\n",
       "      <th>2</th>\n",
       "      <td>3</td>\n",
       "      <td>Ilvar Dario Sanabria</td>\n",
       "      <td>Muchas de las decisiones se basan en datos y c...</td>\n",
       "      <td>Windows x64</td>\n",
       "    </tr>\n",
       "    <tr>\n",
       "      <th>3</th>\n",
       "      <td>4</td>\n",
       "      <td>Camilo Rojas</td>\n",
       "      <td>Trabajo con temas relacionados a gestión de in...</td>\n",
       "      <td>Windows x64</td>\n",
       "    </tr>\n",
       "    <tr>\n",
       "      <th>4</th>\n",
       "      <td>5</td>\n",
       "      <td>Xiomy Díaz</td>\n",
       "      <td>En mi experiencia en investigación de mercados...</td>\n",
       "      <td>Windows x64</td>\n",
       "    </tr>\n",
       "  </tbody>\n",
       "</table>\n",
       "</div>"
      ],
      "text/plain": [
       "   #                 Nombre  \\\n",
       "0   1       Viviana Márquez   \n",
       "1   2           Jorge Gomez   \n",
       "2   3  Ilvar Dario Sanabria   \n",
       "3   4          Camilo Rojas   \n",
       "4   5            Xiomy Díaz   \n",
       "\n",
       "  ¿Por qué estás estudiando análitica estratégica de datos? Sistema Operativo  \n",
       "0  Me gustan mucho las matemáticas, la programaci...                   macOSx  \n",
       "1        Desarrollo profesional y proyecto personal.              Windows x64  \n",
       "2  Muchas de las decisiones se basan en datos y c...              Windows x64  \n",
       "3  Trabajo con temas relacionados a gestión de in...              Windows x64  \n",
       "4  En mi experiencia en investigación de mercados...              Windows x64  "
      ]
     },
     "execution_count": 19,
     "metadata": {},
     "output_type": "execute_result"
    }
   ],
   "source": [
    "data.head()"
   ]
  },
  {
   "cell_type": "code",
   "execution_count": null,
   "metadata": {},
   "outputs": [],
   "source": [
    "#Contar el número de palabras por estudiante."
   ]
  },
  {
   "cell_type": "code",
   "execution_count": 8,
   "metadata": {},
   "outputs": [],
   "source": [
    "count = data['¿Por qué estás estudiando análitica estratégica de datos?'].str.split().apply(len)\n",
    "data['Count'] = count"
   ]
  },
  {
   "cell_type": "code",
   "execution_count": 9,
   "metadata": {},
   "outputs": [
    {
     "data": {
      "text/html": [
       "<div>\n",
       "<style scoped>\n",
       "    .dataframe tbody tr th:only-of-type {\n",
       "        vertical-align: middle;\n",
       "    }\n",
       "\n",
       "    .dataframe tbody tr th {\n",
       "        vertical-align: top;\n",
       "    }\n",
       "\n",
       "    .dataframe thead th {\n",
       "        text-align: right;\n",
       "    }\n",
       "</style>\n",
       "<table border=\"1\" class=\"dataframe\">\n",
       "  <thead>\n",
       "    <tr style=\"text-align: right;\">\n",
       "      <th></th>\n",
       "      <th>#</th>\n",
       "      <th>Nombre</th>\n",
       "      <th>¿Por qué estás estudiando análitica estratégica de datos?</th>\n",
       "      <th>Sistema Operativo</th>\n",
       "      <th>Count</th>\n",
       "    </tr>\n",
       "  </thead>\n",
       "  <tbody>\n",
       "    <tr>\n",
       "      <th>26</th>\n",
       "      <td>27</td>\n",
       "      <td>Juan Sebastian Cruz</td>\n",
       "      <td>Creo que los datos son y seran cada vez mas im...</td>\n",
       "      <td>Windows x64</td>\n",
       "      <td>23</td>\n",
       "    </tr>\n",
       "    <tr>\n",
       "      <th>27</th>\n",
       "      <td>28</td>\n",
       "      <td>Nadia Ñustes</td>\n",
       "      <td>Me gusta la analítica de datos y el valor que ...</td>\n",
       "      <td>Windows x64</td>\n",
       "      <td>15</td>\n",
       "    </tr>\n",
       "    <tr>\n",
       "      <th>28</th>\n",
       "      <td>29</td>\n",
       "      <td>Daileny Dorado Delgado</td>\n",
       "      <td>Me parece que la tecnología es lo que rige el ...</td>\n",
       "      <td>Windows x64</td>\n",
       "      <td>29</td>\n",
       "    </tr>\n",
       "    <tr>\n",
       "      <th>29</th>\n",
       "      <td>30</td>\n",
       "      <td>Andrés Martínez</td>\n",
       "      <td>Aprender de nuevas herramientas para el anális...</td>\n",
       "      <td>Windows x86</td>\n",
       "      <td>11</td>\n",
       "    </tr>\n",
       "    <tr>\n",
       "      <th>30</th>\n",
       "      <td>31</td>\n",
       "      <td>Alexandra Duarte M.</td>\n",
       "      <td>Creo que es el futuro, me gusta y de cerca he ...</td>\n",
       "      <td>Windows x64</td>\n",
       "      <td>20</td>\n",
       "    </tr>\n",
       "  </tbody>\n",
       "</table>\n",
       "</div>"
      ],
      "text/plain": [
       "    #                   Nombre  \\\n",
       "26  27     Juan Sebastian Cruz   \n",
       "27  28            Nadia Ñustes   \n",
       "28  29  Daileny Dorado Delgado   \n",
       "29  30         Andrés Martínez   \n",
       "30  31     Alexandra Duarte M.   \n",
       "\n",
       "   ¿Por qué estás estudiando análitica estratégica de datos?  \\\n",
       "26  Creo que los datos son y seran cada vez mas im...          \n",
       "27  Me gusta la analítica de datos y el valor que ...          \n",
       "28  Me parece que la tecnología es lo que rige el ...          \n",
       "29  Aprender de nuevas herramientas para el anális...          \n",
       "30  Creo que es el futuro, me gusta y de cerca he ...          \n",
       "\n",
       "   Sistema Operativo  Count  \n",
       "26       Windows x64     23  \n",
       "27       Windows x64     15  \n",
       "28       Windows x64     29  \n",
       "29       Windows x86     11  \n",
       "30       Windows x64     20  "
      ]
     },
     "execution_count": 9,
     "metadata": {},
     "output_type": "execute_result"
    }
   ],
   "source": [
    "data.tail()"
   ]
  },
  {
   "cell_type": "code",
   "execution_count": null,
   "metadata": {},
   "outputs": [],
   "source": [
    "#Palabra más utilizada"
   ]
  },
  {
   "cell_type": "code",
   "execution_count": 17,
   "metadata": {},
   "outputs": [],
   "source": [
    "Text = ' '.join(data['¿Por qué estás estudiando análitica estratégica de datos?'])\n",
    "Freq = pd.Series(Text.lower().split()).value_counts()"
   ]
  },
  {
   "cell_type": "code",
   "execution_count": 18,
   "metadata": {},
   "outputs": [
    {
     "data": {
      "text/plain": [
       "de              41\n",
       "y               37\n",
       "en              30\n",
       "que             24\n",
       "la              19\n",
       "a               17\n",
       "el              15\n",
       "datos           14\n",
       "para            14\n",
       "me              13\n",
       "mi              13\n",
       "es              12\n",
       "las             11\n",
       "los             11\n",
       "aprender        10\n",
       "un               7\n",
       "con              7\n",
       "herramientas     7\n",
       "profesional      7\n",
       "mucho            7\n",
       "valor            6\n",
       "decisiones       6\n",
       "información      5\n",
       "una              5\n",
       "gusta            5\n",
       "dtype: int64"
      ]
     },
     "execution_count": 18,
     "metadata": {},
     "output_type": "execute_result"
    }
   ],
   "source": [
    "Freq [:25]"
   ]
  }
 ],
 "metadata": {
  "kernelspec": {
   "display_name": "Python 3",
   "language": "python",
   "name": "python3"
  },
  "language_info": {
   "codemirror_mode": {
    "name": "ipython",
    "version": 3
   },
   "file_extension": ".py",
   "mimetype": "text/x-python",
   "name": "python",
   "nbconvert_exporter": "python",
   "pygments_lexer": "ipython3",
   "version": "3.8.3"
  }
 },
 "nbformat": 4,
 "nbformat_minor": 4
}
